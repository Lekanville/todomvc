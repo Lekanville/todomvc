{
  "nbformat": 4,
  "nbformat_minor": 0,
  "metadata": {
    "colab": {
      "name": "CNN2 Handwriting Classification.ipynb",
      "provenance": [],
      "mount_file_id": "1QDSSlkLgfi8d0MuTtRacwwoPQ0IsygmV",
      "authorship_tag": "ABX9TyMzf+4Anv77GHv77Pd76aZw",
      "include_colab_link": true
    },
    "kernelspec": {
      "name": "python3",
      "display_name": "Python 3"
    },
    "accelerator": "GPU"
  },
  "cells": [
    {
      "cell_type": "markdown",
      "metadata": {
        "id": "view-in-github",
        "colab_type": "text"
      },
      "source": [
        "<a href=\"https://colab.research.google.com/github/Lekanville/todomvc/blob/master/CNN2_Handwriting_Classification.ipynb\" target=\"_parent\"><img src=\"https://colab.research.google.com/assets/colab-badge.svg\" alt=\"Open In Colab\"/></a>"
      ]
    },
    {
      "cell_type": "code",
      "metadata": {
        "id": "Fek_MZSUUckj"
      },
      "source": [
        "import pandas as pd\r\n",
        "import numpy as np\r\n",
        "from numpy import save\r\n",
        "from numpy import load\r\n",
        "import matplotlib.pyplot as plt"
      ],
      "execution_count": 1,
      "outputs": []
    },
    {
      "cell_type": "code",
      "metadata": {
        "id": "R98llqyoUnoG"
      },
      "source": [
        "from numpy import save\r\n",
        "from numpy import load"
      ],
      "execution_count": 2,
      "outputs": []
    },
    {
      "cell_type": "code",
      "metadata": {
        "id": "HDSQ04AlUpvU"
      },
      "source": [
        "data = load('drive/MyDrive/Colab_Notebooks/Handwriting_Classification/data.npy')"
      ],
      "execution_count": 3,
      "outputs": []
    },
    {
      "cell_type": "code",
      "metadata": {
        "id": "5dN1frhHU2Xe"
      },
      "source": [
        "labels = load('drive/MyDrive/Colab_Notebooks/Handwriting_Classification/labels.npy')"
      ],
      "execution_count": 4,
      "outputs": []
    },
    {
      "cell_type": "code",
      "metadata": {
        "id": "3ujfkcO2VIeX"
      },
      "source": [
        "import tensorflow as tf\r\n",
        "from keras.models import Sequential\r\n",
        "from keras.layers import Dense\r\n",
        "from keras.layers import BatchNormalization\r\n",
        "from keras.layers import Conv2D\r\n",
        "from keras.layers import Activation\r\n",
        "from keras.layers import Flatten\r\n",
        "from keras.layers import Dropout\r\n",
        "from keras.layers import Input\r\n",
        "from keras.layers import MaxPooling2D\r\n",
        "from keras.models import Model\r\n",
        "from keras.optimizers import RMSprop\r\n",
        "from sklearn.metrics import classification_report, confusion_matrix"
      ],
      "execution_count": 5,
      "outputs": []
    },
    {
      "cell_type": "code",
      "metadata": {
        "id": "Wh6VtTWtVTE8"
      },
      "source": [
        "from sklearn.model_selection import train_test_split"
      ],
      "execution_count": 6,
      "outputs": []
    },
    {
      "cell_type": "code",
      "metadata": {
        "id": "JMJIi9gXVyOH",
        "outputId": "4eb74aee-2cd1-4ef7-f409-e8d54d087a5b",
        "colab": {
          "base_uri": "https://localhost:8080/"
        }
      },
      "source": [
        "X = data\r\n",
        "X.shape"
      ],
      "execution_count": 7,
      "outputs": [
        {
          "output_type": "execute_result",
          "data": {
            "text/plain": [
              "(18820, 32, 256)"
            ]
          },
          "metadata": {
            "tags": []
          },
          "execution_count": 7
        }
      ]
    },
    {
      "cell_type": "code",
      "metadata": {
        "id": "fhBeDqJsV1JW",
        "outputId": "b9383c03-9cc8-466b-c264-213be4198e5d",
        "colab": {
          "base_uri": "https://localhost:8080/"
        }
      },
      "source": [
        "X = X.reshape((-1,32,256,1))\r\n",
        "X.shape"
      ],
      "execution_count": 8,
      "outputs": [
        {
          "output_type": "execute_result",
          "data": {
            "text/plain": [
              "(18820, 32, 256, 1)"
            ]
          },
          "metadata": {
            "tags": []
          },
          "execution_count": 8
        }
      ]
    },
    {
      "cell_type": "code",
      "metadata": {
        "id": "GC56Zc4UV3VU",
        "outputId": "d935281a-71a4-464d-9796-13514832fd65",
        "colab": {
          "base_uri": "https://localhost:8080/"
        }
      },
      "source": [
        "y = []\r\n",
        "for i in labels:\r\n",
        "    if i == 1:\r\n",
        "        ts = [1.0, 0.0, 0.0, 0.0, 0.0, 0.0, 0.0, 0.0, 0.0, 0.0]\r\n",
        "    elif i ==2:\r\n",
        "        ts = [0.0, 1.0, 0.0, 0.0, 0.0, 0.0, 0.0, 0.0, 0.0, 0.0]\r\n",
        "    elif i ==3:\r\n",
        "        ts = [0.0, 0.0, 1.0, 0.0, 0.0, 0.0, 0.0, 0.0, 0.0, 0.0]\r\n",
        "    elif i ==4:\r\n",
        "        ts = [0.0, 0.0, 0.0, 1.0, 0.0, 0.0, 0.0, 0.0, 0.0, 0.0]\r\n",
        "    elif i ==5:\r\n",
        "        ts = [0.0, 0.0, 0.0, 0.0, 1.0, 0.0, 0.0, 0.0, 0.0, 0.0]\r\n",
        "    elif i ==6:\r\n",
        "        ts = [0.0, 0.0, 0.0, 0.0, 0.0, 1.0, 0.0, 0.0, 0.0, 0.0]\r\n",
        "    elif i ==7:\r\n",
        "        ts = [0.0, 0.0, 0.0, 0.0, 0.0, 0.0, 1.0, 0.0, 0.0, 0.0]\r\n",
        "    elif i ==8:\r\n",
        "        ts = [0.0, 0.0, 0.0, 0.0, 0.0, 0.0, 0.0, 1.0, 0.0, 0.0]\r\n",
        "    elif i ==9:\r\n",
        "        ts = [0.0, 0.0, 0.0, 0.0, 0.0, 0.0, 0.0, 0.0, 1.0, 0.0]\r\n",
        "    elif i ==10:\r\n",
        "        ts = [0.0, 0.0, 0.0, 0.0, 0.0, 0.0, 0.0, 0.0, 0.0, 1.0]\r\n",
        "    y.append(ts)\r\n",
        "y = np.asarray(y, dtype=np.float32)\r\n",
        "y"
      ],
      "execution_count": 9,
      "outputs": [
        {
          "output_type": "execute_result",
          "data": {
            "text/plain": [
              "array([[1., 0., 0., ..., 0., 0., 0.],\n",
              "       [1., 0., 0., ..., 0., 0., 0.],\n",
              "       [1., 0., 0., ..., 0., 0., 0.],\n",
              "       ...,\n",
              "       [0., 0., 0., ..., 0., 0., 1.],\n",
              "       [0., 0., 0., ..., 0., 0., 1.],\n",
              "       [0., 0., 0., ..., 0., 0., 1.]], dtype=float32)"
            ]
          },
          "metadata": {
            "tags": []
          },
          "execution_count": 9
        }
      ]
    },
    {
      "cell_type": "code",
      "metadata": {
        "id": "ZBzanPBzWBAv"
      },
      "source": [
        "X_train, X_test, y_train, y_test = train_test_split(X, y, test_size=0.1, random_state=101)"
      ],
      "execution_count": 10,
      "outputs": []
    },
    {
      "cell_type": "code",
      "metadata": {
        "id": "M8YndgYAWFbd",
        "outputId": "38d193f8-3e5c-48da-c5fa-dd4c9830ac41",
        "colab": {
          "base_uri": "https://localhost:8080/"
        }
      },
      "source": [
        "print(X_train.shape)\r\n",
        "print(X_test.shape)"
      ],
      "execution_count": 11,
      "outputs": [
        {
          "output_type": "stream",
          "text": [
            "(16938, 32, 256, 1)\n",
            "(1882, 32, 256, 1)\n"
          ],
          "name": "stdout"
        }
      ]
    },
    {
      "cell_type": "code",
      "metadata": {
        "id": "N_7l4o9CWHzQ",
        "outputId": "664548b6-e10f-4add-ef35-6af297aa8084",
        "colab": {
          "base_uri": "https://localhost:8080/"
        }
      },
      "source": [
        "print(y_train.shape)\r\n",
        "print(y_test.shape)"
      ],
      "execution_count": 12,
      "outputs": [
        {
          "output_type": "stream",
          "text": [
            "(16938, 10)\n",
            "(1882, 10)\n"
          ],
          "name": "stdout"
        }
      ]
    },
    {
      "cell_type": "code",
      "metadata": {
        "id": "lxwz0OtrWKD-"
      },
      "source": [
        "model = Sequential()\r\n",
        "\r\n",
        "model.add(Conv2D(16,(5,5),padding='same',input_shape = (32, 256, 1)))\r\n",
        "model.add(Activation('relu'))\r\n",
        "model.add(MaxPooling2D(pool_size=(2,2),strides=2,padding = 'same'))\r\n",
        "#model.add(Dropout(0.4))\r\n",
        "\r\n",
        "model.add(Conv2D(32,(5,5),padding='same'))\r\n",
        "model.add(Activation('relu'))\r\n",
        "model.add(MaxPooling2D(pool_size=(2,2),strides=2,padding = 'same'))\r\n",
        "#model.add(Dropout(0.6))\r\n",
        "\r\n",
        "model.add(Conv2D(64,(5,5),padding='same'))\r\n",
        "model.add(Activation('relu'))\r\n",
        "#model.add(Dropout(0.8))\r\n",
        "\r\n",
        "model.add(Flatten())\r\n",
        "model.add(Dense(10))\r\n",
        "model.add(Activation('softmax'))"
      ],
      "execution_count": 13,
      "outputs": []
    },
    {
      "cell_type": "code",
      "metadata": {
        "id": "9shkPJXPWSq9",
        "outputId": "9ebac64f-f6d4-41fc-bd3d-3c33ab756603",
        "colab": {
          "base_uri": "https://localhost:8080/"
        }
      },
      "source": [
        "model.summary()"
      ],
      "execution_count": 14,
      "outputs": [
        {
          "output_type": "stream",
          "text": [
            "Model: \"sequential\"\n",
            "_________________________________________________________________\n",
            "Layer (type)                 Output Shape              Param #   \n",
            "=================================================================\n",
            "conv2d (Conv2D)              (None, 32, 256, 16)       416       \n",
            "_________________________________________________________________\n",
            "activation (Activation)      (None, 32, 256, 16)       0         \n",
            "_________________________________________________________________\n",
            "max_pooling2d (MaxPooling2D) (None, 16, 128, 16)       0         \n",
            "_________________________________________________________________\n",
            "conv2d_1 (Conv2D)            (None, 16, 128, 32)       12832     \n",
            "_________________________________________________________________\n",
            "activation_1 (Activation)    (None, 16, 128, 32)       0         \n",
            "_________________________________________________________________\n",
            "max_pooling2d_1 (MaxPooling2 (None, 8, 64, 32)         0         \n",
            "_________________________________________________________________\n",
            "conv2d_2 (Conv2D)            (None, 8, 64, 64)         51264     \n",
            "_________________________________________________________________\n",
            "activation_2 (Activation)    (None, 8, 64, 64)         0         \n",
            "_________________________________________________________________\n",
            "flatten (Flatten)            (None, 32768)             0         \n",
            "_________________________________________________________________\n",
            "dense (Dense)                (None, 10)                327690    \n",
            "_________________________________________________________________\n",
            "activation_3 (Activation)    (None, 10)                0         \n",
            "=================================================================\n",
            "Total params: 392,202\n",
            "Trainable params: 392,202\n",
            "Non-trainable params: 0\n",
            "_________________________________________________________________\n"
          ],
          "name": "stdout"
        }
      ]
    },
    {
      "cell_type": "code",
      "metadata": {
        "id": "xeKJR6T9WVCN",
        "outputId": "59c8d6e1-cae6-4ca5-be1c-5289f71bab15",
        "colab": {
          "base_uri": "https://localhost:8080/"
        }
      },
      "source": [
        "model.compile(loss='binary_crossentropy', optimizer='adam', metrics=['accuracy'])\r\n",
        "                   \r\n",
        "model.fit(X_train, y_train, epochs=300, batch_size=100, verbose=100)"
      ],
      "execution_count": 15,
      "outputs": [
        {
          "output_type": "stream",
          "text": [
            "Epoch 1/300\n",
            "Epoch 2/300\n",
            "Epoch 3/300\n",
            "Epoch 4/300\n",
            "Epoch 5/300\n",
            "Epoch 6/300\n",
            "Epoch 7/300\n",
            "Epoch 8/300\n",
            "Epoch 9/300\n",
            "Epoch 10/300\n",
            "Epoch 11/300\n",
            "Epoch 12/300\n",
            "Epoch 13/300\n",
            "Epoch 14/300\n",
            "Epoch 15/300\n",
            "Epoch 16/300\n",
            "Epoch 17/300\n",
            "Epoch 18/300\n",
            "Epoch 19/300\n",
            "Epoch 20/300\n",
            "Epoch 21/300\n",
            "Epoch 22/300\n",
            "Epoch 23/300\n",
            "Epoch 24/300\n",
            "Epoch 25/300\n",
            "Epoch 26/300\n",
            "Epoch 27/300\n",
            "Epoch 28/300\n",
            "Epoch 29/300\n",
            "Epoch 30/300\n",
            "Epoch 31/300\n",
            "Epoch 32/300\n",
            "Epoch 33/300\n",
            "Epoch 34/300\n",
            "Epoch 35/300\n",
            "Epoch 36/300\n",
            "Epoch 37/300\n",
            "Epoch 38/300\n",
            "Epoch 39/300\n",
            "Epoch 40/300\n",
            "Epoch 41/300\n",
            "Epoch 42/300\n",
            "Epoch 43/300\n",
            "Epoch 44/300\n",
            "Epoch 45/300\n",
            "Epoch 46/300\n",
            "Epoch 47/300\n",
            "Epoch 48/300\n",
            "Epoch 49/300\n",
            "Epoch 50/300\n",
            "Epoch 51/300\n",
            "Epoch 52/300\n",
            "Epoch 53/300\n",
            "Epoch 54/300\n",
            "Epoch 55/300\n",
            "Epoch 56/300\n",
            "Epoch 57/300\n",
            "Epoch 58/300\n",
            "Epoch 59/300\n",
            "Epoch 60/300\n",
            "Epoch 61/300\n",
            "Epoch 62/300\n",
            "Epoch 63/300\n",
            "Epoch 64/300\n",
            "Epoch 65/300\n",
            "Epoch 66/300\n",
            "Epoch 67/300\n",
            "Epoch 68/300\n",
            "Epoch 69/300\n",
            "Epoch 70/300\n",
            "Epoch 71/300\n",
            "Epoch 72/300\n",
            "Epoch 73/300\n",
            "Epoch 74/300\n",
            "Epoch 75/300\n",
            "Epoch 76/300\n",
            "Epoch 77/300\n",
            "Epoch 78/300\n",
            "Epoch 79/300\n",
            "Epoch 80/300\n",
            "Epoch 81/300\n",
            "Epoch 82/300\n",
            "Epoch 83/300\n",
            "Epoch 84/300\n",
            "Epoch 85/300\n",
            "Epoch 86/300\n",
            "Epoch 87/300\n",
            "Epoch 88/300\n",
            "Epoch 89/300\n",
            "Epoch 90/300\n",
            "Epoch 91/300\n",
            "Epoch 92/300\n",
            "Epoch 93/300\n",
            "Epoch 94/300\n",
            "Epoch 95/300\n",
            "Epoch 96/300\n",
            "Epoch 97/300\n",
            "Epoch 98/300\n",
            "Epoch 99/300\n",
            "Epoch 100/300\n",
            "Epoch 101/300\n",
            "Epoch 102/300\n",
            "Epoch 103/300\n",
            "Epoch 104/300\n",
            "Epoch 105/300\n",
            "Epoch 106/300\n",
            "Epoch 107/300\n",
            "Epoch 108/300\n",
            "Epoch 109/300\n",
            "Epoch 110/300\n",
            "Epoch 111/300\n",
            "Epoch 112/300\n",
            "Epoch 113/300\n",
            "Epoch 114/300\n",
            "Epoch 115/300\n",
            "Epoch 116/300\n",
            "Epoch 117/300\n",
            "Epoch 118/300\n",
            "Epoch 119/300\n",
            "Epoch 120/300\n",
            "Epoch 121/300\n",
            "Epoch 122/300\n",
            "Epoch 123/300\n",
            "Epoch 124/300\n",
            "Epoch 125/300\n",
            "Epoch 126/300\n",
            "Epoch 127/300\n",
            "Epoch 128/300\n",
            "Epoch 129/300\n",
            "Epoch 130/300\n",
            "Epoch 131/300\n",
            "Epoch 132/300\n",
            "Epoch 133/300\n",
            "Epoch 134/300\n",
            "Epoch 135/300\n",
            "Epoch 136/300\n",
            "Epoch 137/300\n",
            "Epoch 138/300\n",
            "Epoch 139/300\n",
            "Epoch 140/300\n",
            "Epoch 141/300\n",
            "Epoch 142/300\n",
            "Epoch 143/300\n",
            "Epoch 144/300\n",
            "Epoch 145/300\n",
            "Epoch 146/300\n",
            "Epoch 147/300\n",
            "Epoch 148/300\n",
            "Epoch 149/300\n",
            "Epoch 150/300\n",
            "Epoch 151/300\n",
            "Epoch 152/300\n",
            "Epoch 153/300\n",
            "Epoch 154/300\n",
            "Epoch 155/300\n",
            "Epoch 156/300\n",
            "Epoch 157/300\n",
            "Epoch 158/300\n",
            "Epoch 159/300\n",
            "Epoch 160/300\n",
            "Epoch 161/300\n",
            "Epoch 162/300\n",
            "Epoch 163/300\n",
            "Epoch 164/300\n",
            "Epoch 165/300\n",
            "Epoch 166/300\n",
            "Epoch 167/300\n",
            "Epoch 168/300\n",
            "Epoch 169/300\n",
            "Epoch 170/300\n",
            "Epoch 171/300\n",
            "Epoch 172/300\n",
            "Epoch 173/300\n",
            "Epoch 174/300\n",
            "Epoch 175/300\n",
            "Epoch 176/300\n",
            "Epoch 177/300\n",
            "Epoch 178/300\n",
            "Epoch 179/300\n",
            "Epoch 180/300\n",
            "Epoch 181/300\n",
            "Epoch 182/300\n",
            "Epoch 183/300\n",
            "Epoch 184/300\n",
            "Epoch 185/300\n",
            "Epoch 186/300\n",
            "Epoch 187/300\n",
            "Epoch 188/300\n",
            "Epoch 189/300\n",
            "Epoch 190/300\n",
            "Epoch 191/300\n",
            "Epoch 192/300\n",
            "Epoch 193/300\n",
            "Epoch 194/300\n",
            "Epoch 195/300\n",
            "Epoch 196/300\n",
            "Epoch 197/300\n",
            "Epoch 198/300\n",
            "Epoch 199/300\n",
            "Epoch 200/300\n",
            "Epoch 201/300\n",
            "Epoch 202/300\n",
            "Epoch 203/300\n",
            "Epoch 204/300\n",
            "Epoch 205/300\n",
            "Epoch 206/300\n",
            "Epoch 207/300\n",
            "Epoch 208/300\n",
            "Epoch 209/300\n",
            "Epoch 210/300\n",
            "Epoch 211/300\n",
            "Epoch 212/300\n",
            "Epoch 213/300\n",
            "Epoch 214/300\n",
            "Epoch 215/300\n",
            "Epoch 216/300\n",
            "Epoch 217/300\n",
            "Epoch 218/300\n",
            "Epoch 219/300\n",
            "Epoch 220/300\n",
            "Epoch 221/300\n",
            "Epoch 222/300\n",
            "Epoch 223/300\n",
            "Epoch 224/300\n",
            "Epoch 225/300\n",
            "Epoch 226/300\n",
            "Epoch 227/300\n",
            "Epoch 228/300\n",
            "Epoch 229/300\n",
            "Epoch 230/300\n",
            "Epoch 231/300\n",
            "Epoch 232/300\n",
            "Epoch 233/300\n",
            "Epoch 234/300\n",
            "Epoch 235/300\n",
            "Epoch 236/300\n",
            "Epoch 237/300\n",
            "Epoch 238/300\n",
            "Epoch 239/300\n",
            "Epoch 240/300\n",
            "Epoch 241/300\n",
            "Epoch 242/300\n",
            "Epoch 243/300\n",
            "Epoch 244/300\n",
            "Epoch 245/300\n",
            "Epoch 246/300\n",
            "Epoch 247/300\n",
            "Epoch 248/300\n",
            "Epoch 249/300\n",
            "Epoch 250/300\n",
            "Epoch 251/300\n",
            "Epoch 252/300\n",
            "Epoch 253/300\n",
            "Epoch 254/300\n",
            "Epoch 255/300\n",
            "Epoch 256/300\n",
            "Epoch 257/300\n",
            "Epoch 258/300\n",
            "Epoch 259/300\n",
            "Epoch 260/300\n",
            "Epoch 261/300\n",
            "Epoch 262/300\n",
            "Epoch 263/300\n",
            "Epoch 264/300\n",
            "Epoch 265/300\n",
            "Epoch 266/300\n",
            "Epoch 267/300\n",
            "Epoch 268/300\n",
            "Epoch 269/300\n",
            "Epoch 270/300\n",
            "Epoch 271/300\n",
            "Epoch 272/300\n",
            "Epoch 273/300\n",
            "Epoch 274/300\n",
            "Epoch 275/300\n",
            "Epoch 276/300\n",
            "Epoch 277/300\n",
            "Epoch 278/300\n",
            "Epoch 279/300\n",
            "Epoch 280/300\n",
            "Epoch 281/300\n",
            "Epoch 282/300\n",
            "Epoch 283/300\n",
            "Epoch 284/300\n",
            "Epoch 285/300\n",
            "Epoch 286/300\n",
            "Epoch 287/300\n",
            "Epoch 288/300\n",
            "Epoch 289/300\n",
            "Epoch 290/300\n",
            "Epoch 291/300\n",
            "Epoch 292/300\n",
            "Epoch 293/300\n",
            "Epoch 294/300\n",
            "Epoch 295/300\n",
            "Epoch 296/300\n",
            "Epoch 297/300\n",
            "Epoch 298/300\n",
            "Epoch 299/300\n",
            "Epoch 300/300\n"
          ],
          "name": "stdout"
        },
        {
          "output_type": "execute_result",
          "data": {
            "text/plain": [
              "<tensorflow.python.keras.callbacks.History at 0x7f5e505ee358>"
            ]
          },
          "metadata": {
            "tags": []
          },
          "execution_count": 0
        }
      ]
    },
    {
      "cell_type": "code",
      "metadata": {
        "id": "hgFfFOthWa1f"
      },
      "source": [
        "y_pred = np.argmax(model.predict(X_test), axis=-1)"
      ],
      "execution_count": 16,
      "outputs": []
    },
    {
      "cell_type": "code",
      "metadata": {
        "id": "jTwK71aqaL8B",
        "outputId": "fe82e690-76fe-4a41-d937-73fb780b7f48",
        "colab": {
          "base_uri": "https://localhost:8080/"
        }
      },
      "source": [
        "print(confusion_matrix(np.argmax(y_test, axis = 1), y_pred))\r\n",
        "print('\\n')\r\n",
        "print(classification_report(np.argmax(y_test, axis = 1), y_pred))"
      ],
      "execution_count": 17,
      "outputs": [
        {
          "output_type": "stream",
          "text": [
            "[[ 96  13   6   1   3   1   6   0   1   0]\n",
            " [  9 196   0   1   5   1   2   1   0   1]\n",
            " [  1   0 201   1   0   0   3   2   1   1]\n",
            " [  0   1   2 172   0   0   5   1   2   6]\n",
            " [  0   1   0   0 182   2   1   0   0   1]\n",
            " [  0   5   0   0   3 138   3   2   0   0]\n",
            " [  2   2   4   4   0   0 189  20   3   0]\n",
            " [  0   0   0   0   0   2  11 187   0   3]\n",
            " [  1   0   0   0   0   0   5   1 166   9]\n",
            " [  1   0   1   3   0   0   4   1  11 172]]\n",
            "\n",
            "\n",
            "              precision    recall  f1-score   support\n",
            "\n",
            "           0       0.87      0.76      0.81       127\n",
            "           1       0.90      0.91      0.90       216\n",
            "           2       0.94      0.96      0.95       210\n",
            "           3       0.95      0.91      0.93       189\n",
            "           4       0.94      0.97      0.96       187\n",
            "           5       0.96      0.91      0.94       151\n",
            "           6       0.83      0.84      0.83       224\n",
            "           7       0.87      0.92      0.89       203\n",
            "           8       0.90      0.91      0.91       182\n",
            "           9       0.89      0.89      0.89       193\n",
            "\n",
            "    accuracy                           0.90      1882\n",
            "   macro avg       0.90      0.90      0.90      1882\n",
            "weighted avg       0.90      0.90      0.90      1882\n",
            "\n"
          ],
          "name": "stdout"
        }
      ]
    },
    {
      "cell_type": "code",
      "metadata": {
        "id": "GZjNxQKkaPXa"
      },
      "source": [
        ""
      ],
      "execution_count": null,
      "outputs": []
    }
  ]
}