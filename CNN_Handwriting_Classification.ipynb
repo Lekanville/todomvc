{
  "nbformat": 4,
  "nbformat_minor": 0,
  "metadata": {
    "accelerator": "GPU",
    "colab": {
      "name": "CNN Handwriting Classification.ipynb",
      "provenance": [],
      "mount_file_id": "12ClpB16z5PeJZ-XpEdeuKz5-tdsr7kKi",
      "authorship_tag": "ABX9TyOKmlyV/yaKxz3hZ1Aynanz",
      "include_colab_link": true
    },
    "kernelspec": {
      "display_name": "Python 3",
      "name": "python3"
    }
  },
  "cells": [
    {
      "cell_type": "markdown",
      "metadata": {
        "id": "view-in-github",
        "colab_type": "text"
      },
      "source": [
        "<a href=\"https://colab.research.google.com/github/Lekanville/todomvc/blob/master/CNN_Handwriting_Classification.ipynb\" target=\"_parent\"><img src=\"https://colab.research.google.com/assets/colab-badge.svg\" alt=\"Open In Colab\"/></a>"
      ]
    },
    {
      "cell_type": "code",
      "metadata": {
        "id": "sgC7uT3b3dfQ"
      },
      "source": [
        "import pandas as pd\r\n",
        "import numpy as np\r\n",
        "from numpy import save\r\n",
        "from numpy import load\r\n",
        "import matplotlib.pyplot as plt"
      ],
      "execution_count": null,
      "outputs": []
    },
    {
      "cell_type": "code",
      "metadata": {
        "id": "TT7exGrz_k5G"
      },
      "source": [
        "from numpy import save\r\n",
        "from numpy import load"
      ],
      "execution_count": null,
      "outputs": []
    },
    {
      "cell_type": "code",
      "metadata": {
        "id": "H2VoAWgV_nJZ"
      },
      "source": [
        "data_train = pd.read_csv('drive/MyDrive/Colab Notebooks/Handwriting Classification/dat.csv')"
      ],
      "execution_count": null,
      "outputs": []
    },
    {
      "cell_type": "code",
      "metadata": {
        "colab": {
          "base_uri": "https://localhost:8080/",
          "height": 406
        },
        "id": "xZrIcKaR_vAS",
        "outputId": "8929feff-dbb9-4812-c1d5-5b9aa91f9a78"
      },
      "source": [
        "data_train"
      ],
      "execution_count": null,
      "outputs": [
        {
          "output_type": "execute_result",
          "data": {
            "text/html": [
              "<div>\n",
              "<style scoped>\n",
              "    .dataframe tbody tr th:only-of-type {\n",
              "        vertical-align: middle;\n",
              "    }\n",
              "\n",
              "    .dataframe tbody tr th {\n",
              "        vertical-align: top;\n",
              "    }\n",
              "\n",
              "    .dataframe thead th {\n",
              "        text-align: right;\n",
              "    }\n",
              "</style>\n",
              "<table border=\"1\" class=\"dataframe\">\n",
              "  <thead>\n",
              "    <tr style=\"text-align: right;\">\n",
              "      <th></th>\n",
              "      <th>image</th>\n",
              "      <th>label</th>\n",
              "    </tr>\n",
              "  </thead>\n",
              "  <tbody>\n",
              "    <tr>\n",
              "      <th>0</th>\n",
              "      <td>Data/1D/Capture1.JPG</td>\n",
              "      <td>1</td>\n",
              "    </tr>\n",
              "    <tr>\n",
              "      <th>1</th>\n",
              "      <td>Data/1D/Capture10.JPG</td>\n",
              "      <td>1</td>\n",
              "    </tr>\n",
              "    <tr>\n",
              "      <th>2</th>\n",
              "      <td>Data/1D/Capture100.JPG</td>\n",
              "      <td>1</td>\n",
              "    </tr>\n",
              "    <tr>\n",
              "      <th>3</th>\n",
              "      <td>Data/1D/Capture101.JPG</td>\n",
              "      <td>1</td>\n",
              "    </tr>\n",
              "    <tr>\n",
              "      <th>4</th>\n",
              "      <td>Data/1D/Capture102.JPG</td>\n",
              "      <td>1</td>\n",
              "    </tr>\n",
              "    <tr>\n",
              "      <th>...</th>\n",
              "      <td>...</td>\n",
              "      <td>...</td>\n",
              "    </tr>\n",
              "    <tr>\n",
              "      <th>1877</th>\n",
              "      <td>Data/10D/919.PNG</td>\n",
              "      <td>10</td>\n",
              "    </tr>\n",
              "    <tr>\n",
              "      <th>1878</th>\n",
              "      <td>Data/10D/920.PNG</td>\n",
              "      <td>10</td>\n",
              "    </tr>\n",
              "    <tr>\n",
              "      <th>1879</th>\n",
              "      <td>Data/10D/921.PNG</td>\n",
              "      <td>10</td>\n",
              "    </tr>\n",
              "    <tr>\n",
              "      <th>1880</th>\n",
              "      <td>Data/10D/922.PNG</td>\n",
              "      <td>10</td>\n",
              "    </tr>\n",
              "    <tr>\n",
              "      <th>1881</th>\n",
              "      <td>Data/10D/923.PNG</td>\n",
              "      <td>10</td>\n",
              "    </tr>\n",
              "  </tbody>\n",
              "</table>\n",
              "<p>1882 rows × 2 columns</p>\n",
              "</div>"
            ],
            "text/plain": [
              "                       image  label\n",
              "0       Data/1D/Capture1.JPG      1\n",
              "1      Data/1D/Capture10.JPG      1\n",
              "2     Data/1D/Capture100.JPG      1\n",
              "3     Data/1D/Capture101.JPG      1\n",
              "4     Data/1D/Capture102.JPG      1\n",
              "...                      ...    ...\n",
              "1877        Data/10D/919.PNG     10\n",
              "1878        Data/10D/920.PNG     10\n",
              "1879        Data/10D/921.PNG     10\n",
              "1880        Data/10D/922.PNG     10\n",
              "1881        Data/10D/923.PNG     10\n",
              "\n",
              "[1882 rows x 2 columns]"
            ]
          },
          "metadata": {
            "tags": []
          },
          "execution_count": 5
        }
      ]
    },
    {
      "cell_type": "code",
      "metadata": {
        "colab": {
          "base_uri": "https://localhost:8080/"
        },
        "id": "CA06v_IHLBVY",
        "outputId": "7dab688b-851c-4d5d-bfeb-ce4b72dd97df"
      },
      "source": [
        "data_train['label'].nunique()"
      ],
      "execution_count": null,
      "outputs": [
        {
          "output_type": "execute_result",
          "data": {
            "text/plain": [
              "10"
            ]
          },
          "metadata": {
            "tags": []
          },
          "execution_count": 6
        }
      ]
    },
    {
      "cell_type": "code",
      "metadata": {
        "id": "iu2pNrYFLGL8"
      },
      "source": [
        "import os\r\n",
        "import cv2\r\n",
        "import random\r\n",
        "import numpy as np\r\n",
        "import pandas as pd\r\n",
        "import matplotlib.pyplot as plt"
      ],
      "execution_count": null,
      "outputs": []
    },
    {
      "cell_type": "code",
      "metadata": {
        "id": "6wPw2Zv2r3_Q"
      },
      "source": [
        ""
      ],
      "execution_count": null,
      "outputs": []
    },
    {
      "cell_type": "code",
      "metadata": {
        "id": "mwJHMRu-rvhd"
      },
      "source": [
        ""
      ],
      "execution_count": null,
      "outputs": []
    },
    {
      "cell_type": "code",
      "metadata": {
        "id": "5VRUiw5NMMRz"
      },
      "source": [
        ""
      ],
      "execution_count": null,
      "outputs": []
    },
    {
      "cell_type": "code",
      "metadata": {
        "colab": {
          "base_uri": "https://localhost:8080/",
          "height": 155
        },
        "id": "wuNB3lluLIrv",
        "outputId": "b471310b-ca6a-4eb8-db03-f29be8fc3851"
      },
      "source": [
        "plt.figure(figsize=(15, 10))\r\n",
        "\r\n",
        "for i in range(6):\r\n",
        "    ax = plt.subplot(2, 3, i+1)\r\n",
        "    img_dir = 'drive/MyDrive/Colab Notebooks/Handwriting Classification/'+data_train.loc[i, 'image']\r\n",
        "    image = cv2.imread(img_dir, cv2.IMREAD_GRAYSCALE)\r\n",
        "    plt.imshow(image, cmap = 'gray')\r\n",
        "    plt.title(data_train.loc[i, 'image'], fontsize=12)\r\n",
        "    plt.axis('off')\r\n",
        "\r\n",
        "plt.subplots_adjust(wspace=0.2, hspace=-0.8)"
      ],
      "execution_count": null,
      "outputs": [
        {
          "output_type": "display_data",
          "data": {
            "image/png": "[encoded data removed]",
            "text/plain": [
              "<Figure size 1080x720 with 6 Axes>"
            ]
          },
          "metadata": {
            "tags": [],
            "needs_background": "light"
          }
        }
      ]
    },
    {
      "cell_type": "code",
      "metadata": {
        "id": "aUGNuTPhLLAc"
      },
      "source": [
        "#Cleaning Data"
      ],
      "execution_count": null,
      "outputs": []
    },
    {
      "cell_type": "code",
      "metadata": {
        "colab": {
          "base_uri": "https://localhost:8080/"
        },
        "id": "j-5TjxvGSPUD",
        "outputId": "c72abebc-cc40-44c4-e05d-d0a60ef2ac1b"
      },
      "source": [
        "image.shape"
      ],
      "execution_count": null,
      "outputs": [
        {
          "output_type": "execute_result",
          "data": {
            "text/plain": [
              "(29, 329)"
            ]
          },
          "metadata": {
            "tags": []
          },
          "execution_count": 10
        }
      ]
    },
    {
      "cell_type": "code",
      "metadata": {
        "colab": {
          "base_uri": "https://localhost:8080/"
        },
        "id": "Uv-LFyguSRsB",
        "outputId": "0bb92f0f-2b9d-4814-ff9c-e52aa96db173"
      },
      "source": [
        "image"
      ],
      "execution_count": null,
      "outputs": [
        {
          "output_type": "execute_result",
          "data": {
            "text/plain": [
              "array([[255, 255, 255, ..., 253, 254, 255],\n",
              "       [255, 255, 255, ..., 253, 255, 255],\n",
              "       [255, 255, 255, ..., 253, 255, 255],\n",
              "       ...,\n",
              "       [161, 174, 170, ..., 255, 255, 255],\n",
              "       [229, 236, 228, ..., 255, 255, 255],\n",
              "       [255, 255, 252, ..., 255, 255, 255]], dtype=uint8)"
            ]
          },
          "metadata": {
            "tags": []
          },
          "execution_count": 11
        }
      ]
    },
    {
      "cell_type": "code",
      "metadata": {
        "colab": {
          "base_uri": "https://localhost:8080/",
          "height": 138
        },
        "id": "k-RiP5CHSW_M",
        "outputId": "4e1d0f60-2f75-45ea-88f2-fe37ff71b057"
      },
      "source": [
        "plt.figure(figsize=(15, 2))\r\n",
        "plt.imshow(image, cmap = 'gray')\r\n",
        "plt.title(data_train.loc[i, 'image'], fontsize=12)\r\n",
        "plt.axis('off')"
      ],
      "execution_count": null,
      "outputs": [
        {
          "output_type": "execute_result",
          "data": {
            "text/plain": [
              "(-0.5, 328.5, 28.5, -0.5)"
            ]
          },
          "metadata": {
            "tags": []
          },
          "execution_count": 12
        },
        {
          "output_type": "display_data",
          "data": {
            "image/png": "[encoded data removed]",
            "text/plain": [
              "<Figure size 1080x144 with 1 Axes>"
            ]
          },
          "metadata": {
            "tags": [],
            "needs_background": "light"
          }
        }
      ]
    },
    {
      "cell_type": "code",
      "metadata": {
        "id": "1AkJ3uNdSZDp"
      },
      "source": [
        "def preprocess(img):\r\n",
        "    (h, w) = img.shape\r\n",
        "    \r\n",
        "    final_img = np.ones([64, 512])*255 # blank white image\r\n",
        "    \r\n",
        "    # crop\r\n",
        "    if w > 512:\r\n",
        "        img = img[:, :512]\r\n",
        "        \r\n",
        "    if h > 64:\r\n",
        "        img = img[:64, :]\r\n",
        "    \r\n",
        "\r\n",
        "    final_img[:h, :w] = img\r\n",
        "    return final_img"
      ],
      "execution_count": null,
      "outputs": []
    },
    {
      "cell_type": "code",
      "metadata": {
        "colab": {
          "base_uri": "https://localhost:8080/",
          "height": 35
        },
        "id": "JXVnCsM0VyrE",
        "outputId": "5fdb67a1-d03b-48d8-ac68-9638e9092324"
      },
      "source": [
        "#' ' means CPU whereas '/device:G:0' means GPU\r\n",
        "import tensorflow as tf\r\n",
        "tf.test.gpu_device_name()"
      ],
      "execution_count": null,
      "outputs": [
        {
          "output_type": "execute_result",
          "data": {
            "application/vnd.google.colaboratory.intrinsic+json": {
              "type": "string"
            },
            "text/plain": [
              "'/device:GPU:0'"
            ]
          },
          "metadata": {
            "tags": []
          },
          "execution_count": 20
        }
      ]
    },
    {
      "cell_type": "code",
      "metadata": {
        "colab": {
          "base_uri": "https://localhost:8080/"
        },
        "id": "lVd9XVJ8V9v2",
        "outputId": "684d2fe5-aca7-4d18-f688-c9122843d7be"
      },
      "source": [
        "# memory footprint support libraries/code\r\n",
        "!ln -sf /opt/bin/nvidia-smi /usr/bin/nvidia-smi\r\n",
        "!pip install gputil\r\n",
        "!pip install psutil\r\n",
        "!pip install humanize\r\n",
        "import psutil\r\n",
        "import humanize\r\n",
        "import os\r\n",
        "import GPUtil as GPU\r\n",
        "GPUs = GPU.getGPUs()\r\n",
        "# XXX: only one GPU on Colab and isn’t guaranteed\r\n",
        "gpu = GPUs[0]\r\n",
        "def printm():\r\n",
        " process = psutil.Process(os.getpid())\r\n",
        " print(\"Gen RAM Free: \" + humanize.naturalsize( psutil.virtual_memory().available ), \" | Proc size: \" + humanize.naturalsize( process.memory_info().rss))\r\n",
        " print(\"GPU RAM Free: {0:.0f}MB | Used: {1:.0f}MB | Util {2:3.0f}% | Total {3:.0f}MB\".format(gpu.memoryFree, gpu.memoryUsed, gpu.memoryUtil*100, gpu.memoryTotal))\r\n",
        "printm() "
      ],
      "execution_count": null,
      "outputs": [
        {
          "output_type": "stream",
          "text": [
            "Requirement already satisfied: gputil in /usr/local/lib/python3.6/dist-packages (1.4.0)\n",
            "Requirement already satisfied: psutil in /usr/local/lib/python3.6/dist-packages (5.4.8)\n",
            "Requirement already satisfied: humanize in /usr/local/lib/python3.6/dist-packages (0.5.1)\n",
            "Gen RAM Free: 12.8 GB  | Proc size: 112.3 MB\n",
            "GPU RAM Free: 15079MB | Used: 0MB | Util   0% | Total 15079MB\n"
          ],
          "name": "stdout"
        }
      ]
    },
    {
      "cell_type": "code",
      "metadata": {
        "id": "ZrdrQ7buW5mW"
      },
      "source": [
        "#if not 0%, use this code\r\n",
        "!kill -9 -1"
      ],
      "execution_count": null,
      "outputs": []
    },
    {
      "cell_type": "code",
      "metadata": {
        "colab": {
          "base_uri": "https://localhost:8080/"
        },
        "id": "gUBwptRYXcVT",
        "outputId": "747d5125-389e-4aa9-dbf4-5836b7d5ad42"
      },
      "source": [
        "!df -h"
      ],
      "execution_count": null,
      "outputs": [
        {
          "output_type": "stream",
          "text": [
            "Filesystem      Size  Used Avail Use% Mounted on\n",
            "overlay          69G   33G   37G  48% /\n",
            "tmpfs            64M     0   64M   0% /dev\n",
            "tmpfs           6.4G     0  6.4G   0% /sys/fs/cgroup\n",
            "shm             5.8G     0  5.8G   0% /dev/shm\n",
            "/dev/sda1        75G   34G   42G  45% /opt/bin\n",
            "tmpfs           6.4G   40K  6.4G   1% /var/colab\n",
            "tmpfs           6.4G     0  6.4G   0% /proc/acpi\n",
            "tmpfs           6.4G     0  6.4G   0% /proc/scsi\n",
            "tmpfs           6.4G     0  6.4G   0% /sys/firmware\n",
            "drive            15G  755M   15G   5% /content/drive\n"
          ],
          "name": "stdout"
        }
      ]
    },
    {
      "cell_type": "code",
      "metadata": {
        "colab": {
          "base_uri": "https://localhost:8080/"
        },
        "id": "MA5zXQiZYXn2",
        "outputId": "87e14013-76a9-4500-f9d0-4d95083d5e9c"
      },
      "source": [
        "!apt-get install -y -qq software-properties-common python-software-properties module-init-tools\r\n",
        "!wget https://launchpad.net/~alessandro-strada/+archive/ubuntu/google-drive-ocamlfuse-beta/+build/15331130/+files/google-drive-ocamlfuse_0.7.0-0ubuntu1_amd64.deb\r\n",
        "!dpkg -i google-drive-ocamlfuse_0.7.0-0ubuntu1_amd64.deb\r\n",
        "!apt-get install -f\r\n",
        "!apt-get -y install -qq fuse\r\n",
        "from google.colab import auth\r\n",
        "auth.authenticate_user()\r\n",
        "from oauth2client.client import GoogleCredentials\r\n",
        "creds = GoogleCredentials.get_application_default()\r\n",
        "import getpass\r\n",
        "!google-drive-ocamlfuse -headless -id={creds.client_id} -secret={creds.client_secret} < /dev/null 2>&1 | grep URL\r\n",
        "vcode = getpass.getpass()\r\n",
        "!echo {vcode} | google-drive-ocamlfuse -headless -id={creds.client_id} -secret={creds.client_secret}"
      ],
      "execution_count": null,
      "outputs": [
        {
          "output_type": "stream",
          "text": [
            "E: Package 'python-software-properties' has no installation candidate\n",
            "--2021-01-26 15:48:17--  https://launchpad.net/~alessandro-strada/+archive/ubuntu/google-drive-ocamlfuse-beta/+build/15331130/+files/google-drive-ocamlfuse_0.7.0-0ubuntu1_amd64.deb\n",
            "Resolving launchpad.net (launchpad.net)... 91.189.89.222, 91.189.89.223, 2001:67c:1560:8003::8004, ...\n",
            "Connecting to launchpad.net (launchpad.net)|91.189.89.222|:443... connected.\n",
            "HTTP request sent, awaiting response... 404 Not Found\n",
            "2021-01-26 15:48:18 ERROR 404: Not Found.\n",
            "\n",
            "\u001b[1mdpkg:\u001b[0m \u001b[1;31merror:\u001b[0m cannot access archive 'google-drive-ocamlfuse_0.7.0-0ubuntu1_amd64.deb': No such file or directory\n",
            "Reading package lists... Done\n",
            "Building dependency tree       \n",
            "Reading state information... Done\n",
            "0 upgraded, 0 newly installed, 0 to remove and 13 not upgraded.\n",
            "··········\n",
            "/bin/bash: google-drive-ocamlfuse: command not found\n"
          ],
          "name": "stdout"
        }
      ]
    },
    {
      "cell_type": "code",
      "metadata": {
        "colab": {
          "base_uri": "https://localhost:8080/"
        },
        "id": "j4onfVIfZHij",
        "outputId": "4a23c126-5888-4553-9107-2b2506276c11"
      },
      "source": [
        "from google.colab import drive\r\n",
        "drive.mount('/content/drive')"
      ],
      "execution_count": null,
      "outputs": [
        {
          "output_type": "stream",
          "text": [
            "Drive already mounted at /content/drive; to attempt to forcibly remount, call drive.mount(\"/content/drive\", force_remount=True).\n"
          ],
          "name": "stdout"
        }
      ]
    },
    {
      "cell_type": "code",
      "metadata": {
        "id": "0eyqrckRduJg"
      },
      "source": [
        "import h5py\r\n",
        "from PIL import Image\r\n",
        "\r\n",
        "fileName = 'data.h5'\r\n",
        "numOfSamples = 10000\r\n",
        "with h5py.File(fileName, \"w\") as out:\r\n",
        "  out.create_dataset(\"data\",(numOfSamples,64,512,3),dtype='u1')"
      ],
      "execution_count": null,
      "outputs": []
    },
    {
      "cell_type": "code",
      "metadata": {
        "colab": {
          "base_uri": "https://localhost:8080/",
          "height": 434
        },
        "id": "uzxCFwTZeO4a",
        "outputId": "149ef8ae-12ef-45d3-e2b5-efced39931a4"
      },
      "source": [
        "with h5py.File(fileName, \"a\") as out_2:\r\n",
        "  data_size = 1882\r\n",
        "  data_1 = []\r\n",
        "  for i in range(data_size):\r\n",
        "      img_dir = 'drive/MyDrive/Colab Notebooks/Handwriting Classification/'+data_train.loc[i, 'image']\r\n",
        "      image = cv2.imread(img_dir, cv2.IMREAD_GRAYSCALE)\r\n",
        "      image = preprocess(image)\r\n",
        "      image = image/255.\r\n",
        "      data_1.append(image)\r\n",
        "      out_2['X'] = np.asarray(image)"
      ],
      "execution_count": null,
      "outputs": [
        {
          "output_type": "error",
          "ename": "RuntimeError",
          "evalue": "ignored",
          "traceback": [
            "\u001b[0;31m---------------------------------------------------------------------------\u001b[0m",
            "\u001b[0;31mRuntimeError\u001b[0m                              Traceback (most recent call last)",
            "\u001b[0;32m<ipython-input-20-841018aa1ab7>\u001b[0m in \u001b[0;36m<module>\u001b[0;34m()\u001b[0m\n\u001b[1;32m      8\u001b[0m       \u001b[0mimage\u001b[0m \u001b[0;34m=\u001b[0m \u001b[0mimage\u001b[0m\u001b[0;34m/\u001b[0m\u001b[0;36m255.\u001b[0m\u001b[0;34m\u001b[0m\u001b[0;34m\u001b[0m\u001b[0m\n\u001b[1;32m      9\u001b[0m       \u001b[0mdata_1\u001b[0m\u001b[0;34m.\u001b[0m\u001b[0mappend\u001b[0m\u001b[0;34m(\u001b[0m\u001b[0mimage\u001b[0m\u001b[0;34m)\u001b[0m\u001b[0;34m\u001b[0m\u001b[0;34m\u001b[0m\u001b[0m\n\u001b[0;32m---> 10\u001b[0;31m       \u001b[0mout_2\u001b[0m\u001b[0;34m[\u001b[0m\u001b[0;34m'X'\u001b[0m\u001b[0;34m]\u001b[0m \u001b[0;34m=\u001b[0m \u001b[0mnp\u001b[0m\u001b[0;34m.\u001b[0m\u001b[0masarray\u001b[0m\u001b[0;34m(\u001b[0m\u001b[0mimage\u001b[0m\u001b[0;34m)\u001b[0m\u001b[0;34m\u001b[0m\u001b[0;34m\u001b[0m\u001b[0m\n\u001b[0m",
            "\u001b[0;32m/usr/local/lib/python3.6/dist-packages/h5py/_hl/group.py\u001b[0m in \u001b[0;36m__setitem__\u001b[0;34m(self, name, obj)\u001b[0m\n\u001b[1;32m    386\u001b[0m             \u001b[0;32melse\u001b[0m\u001b[0;34m:\u001b[0m\u001b[0;34m\u001b[0m\u001b[0;34m\u001b[0m\u001b[0m\n\u001b[1;32m    387\u001b[0m                 \u001b[0mds\u001b[0m \u001b[0;34m=\u001b[0m \u001b[0mself\u001b[0m\u001b[0;34m.\u001b[0m\u001b[0mcreate_dataset\u001b[0m\u001b[0;34m(\u001b[0m\u001b[0;32mNone\u001b[0m\u001b[0;34m,\u001b[0m \u001b[0mdata\u001b[0m\u001b[0;34m=\u001b[0m\u001b[0mobj\u001b[0m\u001b[0;34m,\u001b[0m \u001b[0mdtype\u001b[0m\u001b[0;34m=\u001b[0m\u001b[0mbase\u001b[0m\u001b[0;34m.\u001b[0m\u001b[0mguess_dtype\u001b[0m\u001b[0;34m(\u001b[0m\u001b[0mobj\u001b[0m\u001b[0;34m)\u001b[0m\u001b[0;34m)\u001b[0m\u001b[0;34m\u001b[0m\u001b[0;34m\u001b[0m\u001b[0m\n\u001b[0;32m--> 388\u001b[0;31m                 \u001b[0mh5o\u001b[0m\u001b[0;34m.\u001b[0m\u001b[0mlink\u001b[0m\u001b[0;34m(\u001b[0m\u001b[0mds\u001b[0m\u001b[0;34m.\u001b[0m\u001b[0mid\u001b[0m\u001b[0;34m,\u001b[0m \u001b[0mself\u001b[0m\u001b[0;34m.\u001b[0m\u001b[0mid\u001b[0m\u001b[0;34m,\u001b[0m \u001b[0mname\u001b[0m\u001b[0;34m,\u001b[0m \u001b[0mlcpl\u001b[0m\u001b[0;34m=\u001b[0m\u001b[0mlcpl\u001b[0m\u001b[0;34m)\u001b[0m\u001b[0;34m\u001b[0m\u001b[0;34m\u001b[0m\u001b[0m\n\u001b[0m\u001b[1;32m    389\u001b[0m \u001b[0;34m\u001b[0m\u001b[0m\n\u001b[1;32m    390\u001b[0m         \u001b[0;32mif\u001b[0m \u001b[0mdo_link\u001b[0m\u001b[0;34m:\u001b[0m\u001b[0;34m\u001b[0m\u001b[0;34m\u001b[0m\u001b[0m\n",
            "\u001b[0;32mh5py/_objects.pyx\u001b[0m in \u001b[0;36mh5py._objects.with_phil.wrapper\u001b[0;34m()\u001b[0m\n",
            "\u001b[0;32mh5py/_objects.pyx\u001b[0m in \u001b[0;36mh5py._objects.with_phil.wrapper\u001b[0;34m()\u001b[0m\n",
            "\u001b[0;32mh5py/h5o.pyx\u001b[0m in \u001b[0;36mh5py.h5o.link\u001b[0;34m()\u001b[0m\n",
            "\u001b[0;31mRuntimeError\u001b[0m: Unable to create link (name already exists)"
          ]
        }
      ]
    },
    {
      "cell_type": "code",
      "metadata": {
        "colab": {
          "base_uri": "https://localhost:8080/",
          "height": 238
        },
        "id": "5GMiZyMzSb0D",
        "outputId": "d847e2ff-41aa-4b02-ea81-a9b824e8645a"
      },
      "source": [
        "data_size = 1882\r\n",
        "data_1 = []\r\n",
        "for i in range(data_size):\r\n",
        "    img_dir = 'drive/MyDrive/Colab Notebooks/Handwriting Classification/'+data_train.loc[i, 'image']\r\n",
        "    image = cv2.imread(img_dir, cv2.IMREAD_GRAYSCALE)\r\n",
        "    image = preprocess(image)\r\n",
        "    image = image/255.\r\n",
        "    data_1.append(image)"
      ],
      "execution_count": null,
      "outputs": [
        {
          "output_type": "error",
          "ename": "KeyboardInterrupt",
          "evalue": "ignored",
          "traceback": [
            "\u001b[0;31m---------------------------------------------------------------------------\u001b[0m",
            "\u001b[0;31mKeyboardInterrupt\u001b[0m                         Traceback (most recent call last)",
            "\u001b[0;32m<ipython-input-17-46e312e505ba>\u001b[0m in \u001b[0;36m<module>\u001b[0;34m()\u001b[0m\n\u001b[1;32m      3\u001b[0m \u001b[0;32mfor\u001b[0m \u001b[0mi\u001b[0m \u001b[0;32min\u001b[0m \u001b[0mrange\u001b[0m\u001b[0;34m(\u001b[0m\u001b[0mdata_size\u001b[0m\u001b[0;34m)\u001b[0m\u001b[0;34m:\u001b[0m\u001b[0;34m\u001b[0m\u001b[0;34m\u001b[0m\u001b[0m\n\u001b[1;32m      4\u001b[0m     \u001b[0mimg_dir\u001b[0m \u001b[0;34m=\u001b[0m \u001b[0;34m'drive/MyDrive/Colab Notebooks/Handwriting Classification/'\u001b[0m\u001b[0;34m+\u001b[0m\u001b[0mdata_train\u001b[0m\u001b[0;34m.\u001b[0m\u001b[0mloc\u001b[0m\u001b[0;34m[\u001b[0m\u001b[0mi\u001b[0m\u001b[0;34m,\u001b[0m \u001b[0;34m'image'\u001b[0m\u001b[0;34m]\u001b[0m\u001b[0;34m\u001b[0m\u001b[0;34m\u001b[0m\u001b[0m\n\u001b[0;32m----> 5\u001b[0;31m     \u001b[0mimage\u001b[0m \u001b[0;34m=\u001b[0m \u001b[0mcv2\u001b[0m\u001b[0;34m.\u001b[0m\u001b[0mimread\u001b[0m\u001b[0;34m(\u001b[0m\u001b[0mimg_dir\u001b[0m\u001b[0;34m,\u001b[0m \u001b[0mcv2\u001b[0m\u001b[0;34m.\u001b[0m\u001b[0mIMREAD_GRAYSCALE\u001b[0m\u001b[0;34m)\u001b[0m\u001b[0;34m\u001b[0m\u001b[0;34m\u001b[0m\u001b[0m\n\u001b[0m\u001b[1;32m      6\u001b[0m     \u001b[0mimage\u001b[0m \u001b[0;34m=\u001b[0m \u001b[0mpreprocess\u001b[0m\u001b[0;34m(\u001b[0m\u001b[0mimage\u001b[0m\u001b[0;34m)\u001b[0m\u001b[0;34m\u001b[0m\u001b[0;34m\u001b[0m\u001b[0m\n\u001b[1;32m      7\u001b[0m     \u001b[0mimage\u001b[0m \u001b[0;34m=\u001b[0m \u001b[0mimage\u001b[0m\u001b[0;34m/\u001b[0m\u001b[0;36m255.\u001b[0m\u001b[0;34m\u001b[0m\u001b[0;34m\u001b[0m\u001b[0m\n",
            "\u001b[0;31mKeyboardInterrupt\u001b[0m: "
          ]
        }
      ]
    },
    {
      "cell_type": "code",
      "metadata": {
        "id": "1R8IPhXYeMkS"
      },
      "source": [
        "import pandas as pd\r\n",
        "import numpy as np\r\n",
        "from numpy import save\r\n",
        "from numpy import load\r\n",
        "import matplotlib.pyplot as plt"
      ],
      "execution_count": null,
      "outputs": []
    },
    {
      "cell_type": "code",
      "metadata": {
        "id": "fIVQuuEYS2qh"
      },
      "source": [
        "from numpy import save\r\n",
        "from numpy import load"
      ],
      "execution_count": null,
      "outputs": []
    },
    {
      "cell_type": "code",
      "metadata": {
        "id": "YWwsVNqkr60g"
      },
      "source": [
        "import os\r\n",
        "import cv2\r\n",
        "import random\r\n",
        "import numpy as np\r\n",
        "import pandas as pd\r\n",
        "import matplotlib.pyplot as plt"
      ],
      "execution_count": null,
      "outputs": []
    },
    {
      "cell_type": "code",
      "metadata": {
        "id": "v2aN8cjQlgjh"
      },
      "source": [
        "zip_path = 'drive/MyDrive/Colab_Notebooks/Handwriting_Classification/Data.zip'"
      ],
      "execution_count": null,
      "outputs": []
    },
    {
      "cell_type": "code",
      "metadata": {
        "colab": {
          "base_uri": "https://localhost:8080/"
        },
        "id": "vr9i4hZpl51q",
        "outputId": "83c4578f-9805-4202-a103-b8f45ca6073f"
      },
      "source": [
        "!cp “{zip_path}” ."
      ],
      "execution_count": null,
      "outputs": [
        {
          "output_type": "stream",
          "text": [
            "cp: cannot stat '“drive/MyDrive/Colab_Notebooks/Handwriting_Classification/Data.zip”': No such file or directory\n"
          ],
          "name": "stdout"
        }
      ]
    },
    {
      "cell_type": "code",
      "metadata": {
        "colab": {
          "base_uri": "https://localhost:8080/"
        },
        "id": "h7sUv0AwmF3D",
        "outputId": "1283e28a-6435-4b80-c875-e70728c2fcab"
      },
      "source": [
        "!unzip \"drive/MyDrive/Colab_Notebooks/Handwriting_Classification/Data.zip\" -d \"/content\""
      ],
      "execution_count": null,
      "outputs": [
        {
          "output_type": "stream",
          "text": [
            "Archive:  drive/MyDrive/Colab_Notebooks/Handwriting_Classification/Data.zip\n",
            "   creating: /content/Data/10D/\n",
            " extracting: /content/Data/10D/1001.PNG  \n",
            " extracting: /content/Data/10D/1002.PNG  \n",
            " extracting: /content/Data/10D/1003.PNG  \n",
            " extracting: /content/Data/10D/1004.PNG  \n",
            " extracting: /content/Data/10D/1005.PNG  \n",
            " extracting: /content/Data/10D/1006.PNG  \n",
            " extracting: /content/Data/10D/1007.PNG  \n",
            " extracting: /content/Data/10D/1008.PNG  \n",
            " extracting: /content/Data/10D/1009.PNG  \n",
            " extracting: /content/Data/10D/101.PNG  \n",
            " extracting: /content/Data/10D/1010.PNG  \n",
            " extracting: /content/Data/10D/1011.PNG  \n",
            " extracting: /content/Data/10D/1012.PNG  \n",
            " extracting: /content/Data/10D/1013.PNG  \n",
            " extracting: /content/Data/10D/1014.PNG  \n",
            " extracting: /content/Data/10D/1015.PNG  \n",
            " extracting: /content/Data/10D/1016a.PNG  \n",
            " extracting: /content/Data/10D/1016b.PNG  \n",
            " extracting: /content/Data/10D/1017.PNG  \n",
            " extracting: /content/Data/10D/1018.PNG  \n",
            " extracting: /content/Data/10D/102a.PNG  \n",
            " extracting: /content/Data/10D/102b.PNG  \n",
            " extracting: /content/Data/10D/103.PNG  \n",
            " extracting: /content/Data/10D/104a.PNG  \n",
            " extracting: /content/Data/10D/104b.PNG  \n",
            " extracting: /content/Data/10D/105b.PNG  \n",
            " extracting: /content/Data/10D/106.PNG  \n",
            " extracting: /content/Data/10D/107.PNG  \n",
            " extracting: /content/Data/10D/108a.PNG  \n",
            " extracting: /content/Data/10D/108b.PNG  \n",
            " extracting: /content/Data/10D/109b.PNG  \n",
            " extracting: /content/Data/10D/110.PNG  \n",
            " extracting: /content/Data/10D/111.PNG  \n",
            " extracting: /content/Data/10D/112.PNG  \n",
            " extracting: /content/Data/10D/113.PNG  \n",
            " extracting: /content/Data/10D/114.PNG  \n",
            " extracting: /content/Data/10D/115.PNG  \n",
            " extracting: /content/Data/10D/116.PNG  \n",
            " extracting: /content/Data/10D/117.PNG  \n",
            " extracting: /content/Data/10D/118.PNG  \n",
            " extracting: /content/Data/10D/119.PNG  \n",
            " extracting: /content/Data/10D/120.PNG  \n",
            " extracting: /content/Data/10D/121.PNG  \n",
            " extracting: /content/Data/10D/122.PNG  \n",
            " extracting: /content/Data/10D/201.PNG  \n",
            " extracting: /content/Data/10D/202.PNG  \n",
            " extracting: /content/Data/10D/203.PNG  \n",
            " extracting: /content/Data/10D/204.PNG  \n",
            " extracting: /content/Data/10D/205.PNG  \n",
            " extracting: /content/Data/10D/206.PNG  \n",
            " extracting: /content/Data/10D/207.PNG  \n",
            " extracting: /content/Data/10D/208.PNG  \n",
            " extracting: /content/Data/10D/209.PNG  \n",
            " extracting: /content/Data/10D/210.PNG  \n",
            " extracting: /content/Data/10D/211.PNG  \n",
            " extracting: /content/Data/10D/212.PNG  \n",
            " extracting: /content/Data/10D/213.PNG  \n",
            " extracting: /content/Data/10D/301.PNG  \n",
            " extracting: /content/Data/10D/302a.PNG  \n",
            " extracting: /content/Data/10D/302b.PNG  \n",
            " extracting: /content/Data/10D/303a.PNG  \n",
            " extracting: /content/Data/10D/303b.PNG  \n",
            " extracting: /content/Data/10D/304a.PNG  \n",
            " extracting: /content/Data/10D/304b.PNG  \n",
            " extracting: /content/Data/10D/305.PNG  \n",
            " extracting: /content/Data/10D/306.PNG  \n",
            " extracting: /content/Data/10D/307a.PNG  \n",
            " extracting: /content/Data/10D/307b.PNG  \n",
            " extracting: /content/Data/10D/308a.PNG  \n",
            " extracting: /content/Data/10D/308b.PNG  \n",
            " extracting: /content/Data/10D/309.PNG  \n",
            " extracting: /content/Data/10D/310.PNG  \n",
            " extracting: /content/Data/10D/311.PNG  \n",
            " extracting: /content/Data/10D/312.PNG  \n",
            " extracting: /content/Data/10D/313.PNG  \n",
            " extracting: /content/Data/10D/314.PNG  \n",
            " extracting: /content/Data/10D/315.PNG  \n",
            " extracting: /content/Data/10D/316.PNG  \n",
            " extracting: /content/Data/10D/317.PNG  \n",
            " extracting: /content/Data/10D/318.PNG  \n",
            " extracting: /content/Data/10D/319.PNG  \n",
            " extracting: /content/Data/10D/320.PNG  \n",
            " extracting: /content/Data/10D/321.PNG  \n",
            " extracting: /content/Data/10D/322.PNG  \n",
            " extracting: /content/Data/10D/323.PNG  \n",
            " extracting: /content/Data/10D/401.PNG  \n",
            " extracting: /content/Data/10D/402.PNG  \n",
            " extracting: /content/Data/10D/403.PNG  \n",
            " extracting: /content/Data/10D/404.PNG  \n",
            " extracting: /content/Data/10D/405.PNG  \n",
            " extracting: /content/Data/10D/406.PNG  \n",
            " extracting: /content/Data/10D/407.PNG  \n",
            " extracting: /content/Data/10D/408.PNG  \n",
            " extracting: /content/Data/10D/409.PNG  \n",
            " extracting: /content/Data/10D/410a.PNG  \n",
            " extracting: /content/Data/10D/410b.PNG  \n",
            " extracting: /content/Data/10D/411a.PNG  \n",
            " extracting: /content/Data/10D/411b.PNG  \n",
            " extracting: /content/Data/10D/412a.PNG  \n",
            " extracting: /content/Data/10D/412b.PNG  \n",
            " extracting: /content/Data/10D/413.PNG  \n",
            " extracting: /content/Data/10D/414a.PNG  \n",
            " extracting: /content/Data/10D/414b.PNG  \n",
            " extracting: /content/Data/10D/415.PNG  \n",
            " extracting: /content/Data/10D/416.PNG  \n",
            " extracting: /content/Data/10D/417.PNG  \n",
            " extracting: /content/Data/10D/501a.PNG  \n",
            " extracting: /content/Data/10D/501b.PNG  \n",
            " extracting: /content/Data/10D/502a.PNG  \n",
            " extracting: /content/Data/10D/502b.PNG  \n",
            " extracting: /content/Data/10D/503.PNG  \n",
            " extracting: /content/Data/10D/504.PNG  \n",
            " extracting: /content/Data/10D/505a.PNG  \n",
            " extracting: /content/Data/10D/505b.PNG  \n",
            " extracting: /content/Data/10D/506.PNG  \n",
            " extracting: /content/Data/10D/507.PNG  \n",
            " extracting: /content/Data/10D/508.PNG  \n",
            " extracting: /content/Data/10D/509.PNG  \n",
            " extracting: /content/Data/10D/510.PNG  \n",
            " extracting: /content/Data/10D/511.PNG  \n",
            " extracting: /content/Data/10D/512.PNG  \n",
            " extracting: /content/Data/10D/513.PNG  \n",
            " extracting: /content/Data/10D/514.PNG  \n",
            " extracting: /content/Data/10D/515.PNG  \n",
            " extracting: /content/Data/10D/516.PNG  \n",
            " extracting: /content/Data/10D/517.PNG  \n",
            " extracting: /content/Data/10D/518.PNG  \n",
            " extracting: /content/Data/10D/519.PNG  \n",
            " extracting: /content/Data/10D/520.PNG  \n",
            " extracting: /content/Data/10D/521.PNG  \n",
            " extracting: /content/Data/10D/522.PNG  \n",
            " extracting: /content/Data/10D/601.PNG  \n",
            " extracting: /content/Data/10D/602.PNG  \n",
            " extracting: /content/Data/10D/603.PNG  \n",
            " extracting: /content/Data/10D/604.PNG  \n",
            " extracting: /content/Data/10D/605.PNG  \n",
            " extracting: /content/Data/10D/606.PNG  \n",
            " extracting: /content/Data/10D/607.PNG  \n",
            " extracting: /content/Data/10D/608.PNG  \n",
            " extracting: /content/Data/10D/609.PNG  \n",
            " extracting: /content/Data/10D/610.PNG  \n",
            " extracting: /content/Data/10D/611.PNG  \n",
            " extracting: /content/Data/10D/612.PNG  \n",
            " extracting: /content/Data/10D/613.PNG  \n",
            " extracting: /content/Data/10D/614.PNG  \n",
            " extracting: /content/Data/10D/615.PNG  \n",
            " extracting: /content/Data/10D/616.PNG  \n",
            " extracting: /content/Data/10D/617.PNG  \n",
            " extracting: /content/Data/10D/618.PNG  \n",
            " extracting: /content/Data/10D/619.PNG  \n",
            " extracting: /content/Data/10D/620.PNG  \n",
            " extracting: /content/Data/10D/621.PNG  \n",
            " extracting: /content/Data/10D/701a.PNG  \n",
            " extracting: /content/Data/10D/701b.PNG  \n",
            " extracting: /content/Data/10D/702.PNG  \n",
            " extracting: /content/Data/10D/703a.PNG  \n",
            " extracting: /content/Data/10D/703b.PNG  \n",
            " extracting: /content/Data/10D/704.PNG  \n",
            " extracting: /content/Data/10D/705.PNG  \n",
            " extracting: /content/Data/10D/706.PNG  \n",
            " extracting: /content/Data/10D/707.PNG  \n",
            " extracting: /content/Data/10D/708.PNG  \n",
            " extracting: /content/Data/10D/709.PNG  \n",
            " extracting: /content/Data/10D/710.PNG  \n",
            " extracting: /content/Data/10D/711.PNG  \n",
            " extracting: /content/Data/10D/712.PNG  \n",
            " extracting: /content/Data/10D/713.PNG  \n",
            " extracting: /content/Data/10D/714.PNG  \n",
            " extracting: /content/Data/10D/715.PNG  \n",
            "  inflating: /content/Data/10D/716.PNG  \n",
            " extracting: /content/Data/10D/717.PNG  \n",
            " extracting: /content/Data/10D/718.PNG  \n",
            " extracting: /content/Data/10D/719.PNG  \n",
            " extracting: /content/Data/10D/720.PNG  \n",
            " extracting: /content/Data/10D/721.PNG  \n",
            " extracting: /content/Data/10D/722.PNG  \n",
            " extracting: /content/Data/10D/723.PNG  \n",
            " extracting: /content/Data/10D/801.PNG  \n",
            " extracting: /content/Data/10D/802.PNG  \n",
            " extracting: /content/Data/10D/803.PNG  \n",
            " extracting: /content/Data/10D/804.PNG  \n",
            " extracting: /content/Data/10D/805.PNG  \n",
            " extracting: /content/Data/10D/806.PNG  \n",
            " extracting: /content/Data/10D/807.PNG  \n",
            " extracting: /content/Data/10D/808.PNG  \n",
            " extracting: /content/Data/10D/809.PNG  \n",
            " extracting: /content/Data/10D/810.PNG  \n",
            " extracting: /content/Data/10D/811.PNG  \n",
            " extracting: /content/Data/10D/812.PNG  \n",
            " extracting: /content/Data/10D/813.PNG  \n",
            " extracting: /content/Data/10D/901.PNG  \n",
            " extracting: /content/Data/10D/902.PNG  \n",
            " extracting: /content/Data/10D/903.PNG  \n",
            " extracting: /content/Data/10D/904.PNG  \n",
            " extracting: /content/Data/10D/905.PNG  \n",
            " extracting: /content/Data/10D/906.PNG  \n",
            " extracting: /content/Data/10D/907.PNG  \n",
            " extracting: /content/Data/10D/908.PNG  \n",
            " extracting: /content/Data/10D/909.PNG  \n",
            " extracting: /content/Data/10D/910.PNG  \n",
            " extracting: /content/Data/10D/911.PNG  \n",
            " extracting: /content/Data/10D/912.PNG  \n",
            " extracting: /content/Data/10D/913.PNG  \n",
            " extracting: /content/Data/10D/914.PNG  \n",
            " extracting: /content/Data/10D/915.PNG  \n",
            " extracting: /content/Data/10D/916.PNG  \n",
            " extracting: /content/Data/10D/917.PNG  \n",
            " extracting: /content/Data/10D/918.PNG  \n",
            " extracting: /content/Data/10D/919.PNG  \n",
            " extracting: /content/Data/10D/920.PNG  \n",
            " extracting: /content/Data/10D/921.PNG  \n",
            " extracting: /content/Data/10D/922.PNG  \n",
            " extracting: /content/Data/10D/923.PNG  \n",
            "   creating: /content/Data/1D/\n",
            "  inflating: /content/Data/1D/Capture1.JPG  \n",
            "  inflating: /content/Data/1D/Capture10.JPG  \n",
            "  inflating: /content/Data/1D/Capture100.JPG  \n",
            "  inflating: /content/Data/1D/Capture101.JPG  \n",
            "  inflating: /content/Data/1D/Capture102.JPG  \n",
            "  inflating: /content/Data/1D/Capture103.JPG  \n",
            "  inflating: /content/Data/1D/Capture104.JPG  \n",
            "  inflating: /content/Data/1D/Capture105.JPG  \n",
            "  inflating: /content/Data/1D/Capture106.JPG  \n",
            "  inflating: /content/Data/1D/Capture107.JPG  \n",
            "  inflating: /content/Data/1D/Capture108.JPG  \n",
            "  inflating: /content/Data/1D/Capture109.JPG  \n",
            "  inflating: /content/Data/1D/Capture11.JPG  \n",
            "  inflating: /content/Data/1D/Capture110.JPG  \n",
            "  inflating: /content/Data/1D/Capture111.JPG  \n",
            "  inflating: /content/Data/1D/Capture112.JPG  \n",
            "  inflating: /content/Data/1D/Capture113.JPG  \n",
            "  inflating: /content/Data/1D/Capture114.JPG  \n",
            "  inflating: /content/Data/1D/Capture115.JPG  \n",
            "  inflating: /content/Data/1D/Capture116.JPG  \n",
            "  inflating: /content/Data/1D/Capture117.JPG  \n",
            "  inflating: /content/Data/1D/Capture118.JPG  \n",
            "  inflating: /content/Data/1D/Capture119.JPG  \n",
            "  inflating: /content/Data/1D/Capture12.JPG  \n",
            "  inflating: /content/Data/1D/Capture120.JPG  \n",
            "  inflating: /content/Data/1D/Capture122.JPG  \n",
            "  inflating: /content/Data/1D/Capture123.JPG  \n",
            "  inflating: /content/Data/1D/Capture124.JPG  \n",
            "  inflating: /content/Data/1D/Capture125.JPG  \n",
            "  inflating: /content/Data/1D/Capture126.JPG  \n",
            "  inflating: /content/Data/1D/Capture127.JPG  \n",
            "  inflating: /content/Data/1D/Capture128.JPG  \n",
            "  inflating: /content/Data/1D/Capture129.JPG  \n",
            "  inflating: /content/Data/1D/Capture13.JPG  \n",
            "  inflating: /content/Data/1D/Capture130.JPG  \n",
            "  inflating: /content/Data/1D/Capture131.JPG  \n",
            "  inflating: /content/Data/1D/Capture132.JPG  \n",
            "  inflating: /content/Data/1D/Capture133.JPG  \n",
            "  inflating: /content/Data/1D/Capture134.JPG  \n",
            "  inflating: /content/Data/1D/Capture135.JPG  \n",
            "  inflating: /content/Data/1D/Capture136.JPG  \n",
            "  inflating: /content/Data/1D/Capture14.JPG  \n",
            "  inflating: /content/Data/1D/Capture15.JPG  \n",
            "  inflating: /content/Data/1D/Capture16.JPG  \n",
            "  inflating: /content/Data/1D/Capture17.JPG  \n",
            "  inflating: /content/Data/1D/Capture18.JPG  \n",
            "  inflating: /content/Data/1D/Capture19.JPG  \n",
            "  inflating: /content/Data/1D/Capture2.JPG  \n",
            "  inflating: /content/Data/1D/Capture20.JPG  \n",
            "  inflating: /content/Data/1D/Capture21.JPG  \n",
            "  inflating: /content/Data/1D/Capture22.JPG  \n",
            "  inflating: /content/Data/1D/Capture23.JPG  \n",
            "  inflating: /content/Data/1D/Capture24.JPG  \n",
            "  inflating: /content/Data/1D/Capture25.JPG  \n",
            "  inflating: /content/Data/1D/Capture26.JPG  \n",
            "  inflating: /content/Data/1D/Capture27.JPG  \n",
            "  inflating: /content/Data/1D/Capture28.JPG  \n",
            "  inflating: /content/Data/1D/Capture29.JPG  \n",
            "  inflating: /content/Data/1D/Capture3.JPG  \n",
            "  inflating: /content/Data/1D/Capture30.JPG  \n",
            "  inflating: /content/Data/1D/Capture31.JPG  \n",
            "  inflating: /content/Data/1D/Capture32.JPG  \n",
            "  inflating: /content/Data/1D/Capture33.JPG  \n",
            "  inflating: /content/Data/1D/Capture34.JPG  \n",
            "  inflating: /content/Data/1D/Capture35.JPG  \n",
            "  inflating: /content/Data/1D/Capture36.JPG  \n",
            "  inflating: /content/Data/1D/Capture37.JPG  \n",
            "  inflating: /content/Data/1D/Capture38.JPG  \n",
            "  inflating: /content/Data/1D/Capture39.JPG  \n",
            "  inflating: /content/Data/1D/Capture4.JPG  \n",
            "  inflating: /content/Data/1D/Capture40.JPG  \n",
            "  inflating: /content/Data/1D/Capture41.JPG  \n",
            "  inflating: /content/Data/1D/Capture42.JPG  \n",
            "  inflating: /content/Data/1D/Capture43.JPG  \n",
            "  inflating: /content/Data/1D/Capture44.JPG  \n",
            "  inflating: /content/Data/1D/Capture45.JPG  \n",
            "  inflating: /content/Data/1D/Capture46.JPG  \n",
            "  inflating: /content/Data/1D/Capture47.JPG  \n",
            "  inflating: /content/Data/1D/Capture48.JPG  \n",
            "  inflating: /content/Data/1D/Capture49.JPG  \n",
            "  inflating: /content/Data/1D/Capture5.JPG  \n",
            "  inflating: /content/Data/1D/Capture50.JPG  \n",
            "  inflating: /content/Data/1D/Capture51.JPG  \n",
            "  inflating: /content/Data/1D/Capture52.JPG  \n",
            "  inflating: /content/Data/1D/Capture53.JPG  \n",
            "  inflating: /content/Data/1D/Capture54.JPG  \n",
            "  inflating: /content/Data/1D/Capture55.JPG  \n",
            "  inflating: /content/Data/1D/Capture56.JPG  \n",
            "  inflating: /content/Data/1D/Capture57.JPG  \n",
            "  inflating: /content/Data/1D/Capture58.JPG  \n",
            "  inflating: /content/Data/1D/Capture59.JPG  \n",
            "  inflating: /content/Data/1D/Capture6.JPG  \n",
            "  inflating: /content/Data/1D/Capture60.JPG  \n",
            "  inflating: /content/Data/1D/Capture61.JPG  \n",
            "  inflating: /content/Data/1D/Capture62.JPG  \n",
            "  inflating: /content/Data/1D/Capture63.JPG  \n",
            "  inflating: /content/Data/1D/Capture64.JPG  \n",
            "  inflating: /content/Data/1D/Capture65.JPG  \n",
            "  inflating: /content/Data/1D/Capture66.JPG  \n",
            "  inflating: /content/Data/1D/Capture67.JPG  \n",
            "  inflating: /content/Data/1D/Capture68.JPG  \n",
            "  inflating: /content/Data/1D/Capture69.JPG  \n",
            "  inflating: /content/Data/1D/Capture7.JPG  \n",
            "  inflating: /content/Data/1D/Capture70.JPG  \n",
            "  inflating: /content/Data/1D/Capture71.JPG  \n",
            "  inflating: /content/Data/1D/Capture72.JPG  \n",
            "  inflating: /content/Data/1D/Capture73.JPG  \n",
            "  inflating: /content/Data/1D/Capture74.JPG  \n",
            "  inflating: /content/Data/1D/Capture75.JPG  \n",
            "  inflating: /content/Data/1D/Capture76.JPG  \n",
            "  inflating: /content/Data/1D/Capture77.JPG  \n",
            "  inflating: /content/Data/1D/Capture78.JPG  \n",
            "  inflating: /content/Data/1D/Capture79.JPG  \n",
            "  inflating: /content/Data/1D/Capture8.JPG  \n",
            "  inflating: /content/Data/1D/Capture80.JPG  \n",
            "  inflating: /content/Data/1D/Capture81.JPG  \n",
            "  inflating: /content/Data/1D/Capture82.JPG  \n",
            "  inflating: /content/Data/1D/Capture83.JPG  \n",
            "  inflating: /content/Data/1D/Capture84.JPG  \n",
            "  inflating: /content/Data/1D/Capture85.JPG  \n",
            "  inflating: /content/Data/1D/Capture86.JPG  \n",
            "  inflating: /content/Data/1D/Capture87.JPG  \n",
            "  inflating: /content/Data/1D/Capture88.JPG  \n",
            "  inflating: /content/Data/1D/Capture89.JPG  \n",
            "  inflating: /content/Data/1D/Capture9.JPG  \n",
            "  inflating: /content/Data/1D/Capture90.JPG  \n",
            "  inflating: /content/Data/1D/Capture91.JPG  \n",
            "  inflating: /content/Data/1D/Capture92.JPG  \n",
            "  inflating: /content/Data/1D/Capture93.JPG  \n",
            "  inflating: /content/Data/1D/Capture94.JPG  \n",
            "  inflating: /content/Data/1D/Capture95.JPG  \n",
            "  inflating: /content/Data/1D/Capture96.JPG  \n",
            "  inflating: /content/Data/1D/Capture97.JPG  \n",
            "  inflating: /content/Data/1D/Capture98.JPG  \n",
            "  inflating: /content/Data/1D/Capture99.JPG  \n",
            "   creating: /content/Data/2D/\n",
            "  inflating: /content/Data/2D/Capture1.JPG  \n",
            "  inflating: /content/Data/2D/Capture10.JPG  \n",
            "  inflating: /content/Data/2D/Capture100.JPG  \n",
            "  inflating: /content/Data/2D/Capture101.JPG  \n",
            "  inflating: /content/Data/2D/Capture102.JPG  \n",
            "  inflating: /content/Data/2D/Capture103.JPG  \n",
            "  inflating: /content/Data/2D/Capture104.JPG  \n",
            "  inflating: /content/Data/2D/Capture105.JPG  \n",
            "  inflating: /content/Data/2D/Capture106.JPG  \n",
            "  inflating: /content/Data/2D/Capture107.JPG  \n",
            "  inflating: /content/Data/2D/Capture108.JPG  \n",
            "  inflating: /content/Data/2D/Capture109.JPG  \n",
            "  inflating: /content/Data/2D/Capture11.JPG  \n",
            "  inflating: /content/Data/2D/Capture110.JPG  \n",
            "  inflating: /content/Data/2D/Capture111.JPG  \n",
            "  inflating: /content/Data/2D/Capture112.JPG  \n",
            "  inflating: /content/Data/2D/Capture113.JPG  \n",
            "  inflating: /content/Data/2D/Capture114.JPG  \n",
            "  inflating: /content/Data/2D/Capture115.JPG  \n",
            "  inflating: /content/Data/2D/Capture116.JPG  \n",
            "  inflating: /content/Data/2D/Capture117.JPG  \n",
            "  inflating: /content/Data/2D/Capture118.JPG  \n",
            "  inflating: /content/Data/2D/Capture119.JPG  \n",
            "  inflating: /content/Data/2D/Capture12.JPG  \n",
            "  inflating: /content/Data/2D/Capture120.JPG  \n",
            "  inflating: /content/Data/2D/Capture121.JPG  \n",
            "  inflating: /content/Data/2D/Capture122.JPG  \n",
            "  inflating: /content/Data/2D/Capture123.JPG  \n",
            "  inflating: /content/Data/2D/Capture124.JPG  \n",
            "  inflating: /content/Data/2D/Capture125.JPG  \n",
            "  inflating: /content/Data/2D/Capture126.JPG  \n",
            "  inflating: /content/Data/2D/Capture127.JPG  \n",
            "  inflating: /content/Data/2D/Capture128.JPG  \n",
            "  inflating: /content/Data/2D/Capture129.JPG  \n",
            "  inflating: /content/Data/2D/Capture13.JPG  \n",
            "  inflating: /content/Data/2D/Capture130.JPG  \n",
            "  inflating: /content/Data/2D/Capture131.JPG  \n",
            "  inflating: /content/Data/2D/Capture132.JPG  \n",
            "  inflating: /content/Data/2D/Capture133.JPG  \n",
            "  inflating: /content/Data/2D/Capture134.JPG  \n",
            "  inflating: /content/Data/2D/Capture135.JPG  \n",
            "  inflating: /content/Data/2D/Capture136.JPG  \n",
            "  inflating: /content/Data/2D/Capture137.JPG  \n",
            "  inflating: /content/Data/2D/Capture138.JPG  \n",
            "  inflating: /content/Data/2D/Capture139.JPG  \n",
            "  inflating: /content/Data/2D/Capture14.JPG  \n",
            "  inflating: /content/Data/2D/Capture140.JPG  \n",
            "  inflating: /content/Data/2D/Capture141.JPG  \n",
            "  inflating: /content/Data/2D/Capture142.JPG  \n",
            "  inflating: /content/Data/2D/Capture143.JPG  \n",
            "  inflating: /content/Data/2D/Capture144.JPG  \n",
            "  inflating: /content/Data/2D/Capture145.JPG  \n",
            "  inflating: /content/Data/2D/Capture146.JPG  \n",
            "  inflating: /content/Data/2D/Capture147.JPG  \n",
            "  inflating: /content/Data/2D/Capture148.JPG  \n",
            "  inflating: /content/Data/2D/Capture149.JPG  \n",
            "  inflating: /content/Data/2D/Capture15.JPG  \n",
            "  inflating: /content/Data/2D/Capture150.JPG  \n",
            "  inflating: /content/Data/2D/Capture151.JPG  \n",
            "  inflating: /content/Data/2D/Capture152.JPG  \n",
            "  inflating: /content/Data/2D/Capture153.JPG  \n",
            "  inflating: /content/Data/2D/Capture154.JPG  \n",
            "  inflating: /content/Data/2D/Capture155.JPG  \n",
            "  inflating: /content/Data/2D/Capture156.JPG  \n",
            "  inflating: /content/Data/2D/Capture157.JPG  \n",
            "  inflating: /content/Data/2D/Capture158.JPG  \n",
            "  inflating: /content/Data/2D/Capture159.JPG  \n",
            "  inflating: /content/Data/2D/Capture16.JPG  \n",
            "  inflating: /content/Data/2D/Capture160.JPG  \n",
            "  inflating: /content/Data/2D/Capture161.JPG  \n",
            "  inflating: /content/Data/2D/Capture162.JPG  \n",
            "  inflating: /content/Data/2D/Capture163.JPG  \n",
            "  inflating: /content/Data/2D/Capture164.JPG  \n",
            "  inflating: /content/Data/2D/Capture165.JPG  \n",
            "  inflating: /content/Data/2D/Capture166.JPG  \n",
            "  inflating: /content/Data/2D/Capture167.JPG  \n",
            "  inflating: /content/Data/2D/Capture168.JPG  \n",
            "  inflating: /content/Data/2D/Capture169.JPG  \n",
            "  inflating: /content/Data/2D/Capture17.JPG  \n",
            "  inflating: /content/Data/2D/Capture170.JPG  \n",
            "  inflating: /content/Data/2D/Capture171.JPG  \n",
            "  inflating: /content/Data/2D/Capture172.JPG  \n",
            "  inflating: /content/Data/2D/Capture173.JPG  \n",
            "  inflating: /content/Data/2D/Capture174.JPG  \n",
            "  inflating: /content/Data/2D/Capture175.JPG  \n",
            "  inflating: /content/Data/2D/Capture176.JPG  \n",
            "  inflating: /content/Data/2D/Capture177.JPG  \n",
            "  inflating: /content/Data/2D/Capture178.JPG  \n",
            "  inflating: /content/Data/2D/Capture179.JPG  \n",
            "  inflating: /content/Data/2D/Capture18.JPG  \n",
            "  inflating: /content/Data/2D/Capture180.JPG  \n",
            "  inflating: /content/Data/2D/Capture181.JPG  \n",
            "  inflating: /content/Data/2D/Capture182.JPG  \n",
            "  inflating: /content/Data/2D/Capture183.JPG  \n",
            "  inflating: /content/Data/2D/Capture184.JPG  \n",
            "  inflating: /content/Data/2D/Capture19.JPG  \n",
            "  inflating: /content/Data/2D/Capture2.JPG  \n",
            "  inflating: /content/Data/2D/Capture20.JPG  \n",
            "  inflating: /content/Data/2D/Capture21.JPG  \n",
            "  inflating: /content/Data/2D/Capture22.JPG  \n",
            "  inflating: /content/Data/2D/Capture23.JPG  \n",
            "  inflating: /content/Data/2D/Capture24.JPG  \n",
            "  inflating: /content/Data/2D/Capture25.JPG  \n",
            "  inflating: /content/Data/2D/Capture26.JPG  \n",
            "  inflating: /content/Data/2D/Capture27.JPG  \n",
            "  inflating: /content/Data/2D/Capture28.JPG  \n",
            "  inflating: /content/Data/2D/Capture29.JPG  \n",
            "  inflating: /content/Data/2D/Capture3.JPG  \n",
            "  inflating: /content/Data/2D/Capture30.JPG  \n",
            "  inflating: /content/Data/2D/Capture31.JPG  \n",
            "  inflating: /content/Data/2D/Capture32.JPG  \n",
            "  inflating: /content/Data/2D/Capture33.JPG  \n",
            "  inflating: /content/Data/2D/Capture34.JPG  \n",
            "  inflating: /content/Data/2D/Capture35.JPG  \n",
            "  inflating: /content/Data/2D/Capture36.JPG  \n",
            "  inflating: /content/Data/2D/Capture37.JPG  \n",
            "  inflating: /content/Data/2D/Capture38.JPG  \n",
            "  inflating: /content/Data/2D/Capture39.JPG  \n",
            "  inflating: /content/Data/2D/Capture4.JPG  \n",
            "  inflating: /content/Data/2D/Capture40.JPG  \n",
            "  inflating: /content/Data/2D/Capture41.JPG  \n",
            "  inflating: /content/Data/2D/Capture42.JPG  \n",
            "  inflating: /content/Data/2D/Capture43.JPG  \n",
            "  inflating: /content/Data/2D/Capture44.JPG  \n",
            "  inflating: /content/Data/2D/Capture45.JPG  \n",
            "  inflating: /content/Data/2D/Capture46.JPG  \n",
            "  inflating: /content/Data/2D/Capture47.JPG  \n",
            "  inflating: /content/Data/2D/Capture48.JPG  \n",
            "  inflating: /content/Data/2D/Capture49.JPG  \n",
            "  inflating: /content/Data/2D/Capture5.JPG  \n",
            "  inflating: /content/Data/2D/Capture50.JPG  \n",
            "  inflating: /content/Data/2D/Capture51.JPG  \n",
            "  inflating: /content/Data/2D/Capture52.JPG  \n",
            "  inflating: /content/Data/2D/Capture53.JPG  \n",
            "  inflating: /content/Data/2D/Capture54.JPG  \n",
            "  inflating: /content/Data/2D/Capture55.JPG  \n",
            "  inflating: /content/Data/2D/Capture56.JPG  \n",
            "  inflating: /content/Data/2D/Capture57.JPG  \n",
            "  inflating: /content/Data/2D/Capture58.JPG  \n",
            "  inflating: /content/Data/2D/Capture59.JPG  \n",
            "  inflating: /content/Data/2D/Capture6.JPG  \n",
            "  inflating: /content/Data/2D/Capture60.JPG  \n",
            "  inflating: /content/Data/2D/Capture61.JPG  \n",
            "  inflating: /content/Data/2D/Capture62.JPG  \n",
            "  inflating: /content/Data/2D/Capture63.JPG  \n",
            "  inflating: /content/Data/2D/Capture64.JPG  \n",
            "  inflating: /content/Data/2D/Capture65.JPG  \n",
            "  inflating: /content/Data/2D/Capture66.JPG  \n",
            "  inflating: /content/Data/2D/Capture67.JPG  \n",
            "  inflating: /content/Data/2D/Capture68.JPG  \n",
            "  inflating: /content/Data/2D/Capture69.JPG  \n",
            "  inflating: /content/Data/2D/Capture7.JPG  \n",
            "  inflating: /content/Data/2D/Capture70.JPG  \n",
            "  inflating: /content/Data/2D/Capture71.JPG  \n",
            "  inflating: /content/Data/2D/Capture72.JPG  \n",
            "  inflating: /content/Data/2D/Capture73.JPG  \n",
            "  inflating: /content/Data/2D/Capture74.JPG  \n",
            "  inflating: /content/Data/2D/Capture75.JPG  \n",
            "  inflating: /content/Data/2D/Capture76.JPG  \n",
            "  inflating: /content/Data/2D/Capture77.JPG  \n",
            "  inflating: /content/Data/2D/Capture78.JPG  \n",
            "  inflating: /content/Data/2D/Capture79.JPG  \n",
            "  inflating: /content/Data/2D/Capture8.JPG  \n",
            "  inflating: /content/Data/2D/Capture80.JPG  \n",
            "  inflating: /content/Data/2D/Capture81.JPG  \n",
            "  inflating: /content/Data/2D/Capture82.JPG  \n",
            "  inflating: /content/Data/2D/Capture83.JPG  \n",
            "  inflating: /content/Data/2D/Capture84.JPG  \n",
            "  inflating: /content/Data/2D/Capture85.JPG  \n",
            "  inflating: /content/Data/2D/Capture86.JPG  \n",
            "  inflating: /content/Data/2D/Capture87.JPG  \n",
            "  inflating: /content/Data/2D/Capture88.JPG  \n",
            "  inflating: /content/Data/2D/Capture89.JPG  \n",
            "  inflating: /content/Data/2D/Capture9.JPG  \n",
            "  inflating: /content/Data/2D/Capture90.JPG  \n",
            "  inflating: /content/Data/2D/Capture91.JPG  \n",
            "  inflating: /content/Data/2D/Capture92.JPG  \n",
            "  inflating: /content/Data/2D/Capture93.JPG  \n",
            "  inflating: /content/Data/2D/Capture94.JPG  \n",
            "  inflating: /content/Data/2D/Capture95.JPG  \n",
            "  inflating: /content/Data/2D/Capture96.JPG  \n",
            "  inflating: /content/Data/2D/Capture97.JPG  \n",
            "  inflating: /content/Data/2D/Capture98.JPG  \n",
            "  inflating: /content/Data/2D/Capture99.JPG  \n",
            "   creating: /content/Data/3D/\n",
            " extracting: /content/Data/3D/Capture (2).PNG  \n",
            " extracting: /content/Data/3D/Capture.PNG  \n",
            " extracting: /content/Data/3D/Capture1.PNG  \n",
            " extracting: /content/Data/3D/Capture10 (2).PNG  \n",
            " extracting: /content/Data/3D/Capture10.PNG  \n",
            " extracting: /content/Data/3D/Capture100.PNG  \n",
            " extracting: /content/Data/3D/Capture101.PNG  \n",
            " extracting: /content/Data/3D/Capture102.PNG  \n",
            "  inflating: /content/Data/3D/Capture103.PNG  \n",
            "  inflating: /content/Data/3D/Capture104.PNG  \n",
            "  inflating: /content/Data/3D/Capture105.PNG  \n",
            "  inflating: /content/Data/3D/Capture106.PNG  \n",
            "  inflating: /content/Data/3D/Capture107.PNG  \n",
            "  inflating: /content/Data/3D/Capture108.PNG  \n",
            "  inflating: /content/Data/3D/Capture109.PNG  \n",
            " extracting: /content/Data/3D/Capture11 (2).PNG  \n",
            " extracting: /content/Data/3D/Capture11.PNG  \n",
            "  inflating: /content/Data/3D/Capture110.PNG  \n",
            "  inflating: /content/Data/3D/Capture111.PNG  \n",
            "  inflating: /content/Data/3D/Capture112.PNG  \n",
            " extracting: /content/Data/3D/Capture113.PNG  \n",
            "  inflating: /content/Data/3D/Capture114.PNG  \n",
            "  inflating: /content/Data/3D/Capture115.PNG  \n",
            "  inflating: /content/Data/3D/Capture116.PNG  \n",
            "  inflating: /content/Data/3D/Capture117.PNG  \n",
            "  inflating: /content/Data/3D/Capture118.PNG  \n",
            " extracting: /content/Data/3D/Capture119.PNG  \n",
            "  inflating: /content/Data/3D/Capture12 (2).PNG  \n",
            " extracting: /content/Data/3D/Capture12.PNG  \n",
            "  inflating: /content/Data/3D/Capture120.PNG  \n",
            " extracting: /content/Data/3D/Capture121.PNG  \n",
            "  inflating: /content/Data/3D/Capture122.PNG  \n",
            " extracting: /content/Data/3D/Capture123.PNG  \n",
            " extracting: /content/Data/3D/Capture124.PNG  \n",
            " extracting: /content/Data/3D/Capture125.PNG  \n",
            " extracting: /content/Data/3D/Capture126.PNG  \n",
            " extracting: /content/Data/3D/Capture127.PNG  \n",
            " extracting: /content/Data/3D/Capture128.PNG  \n",
            " extracting: /content/Data/3D/Capture129.PNG  \n",
            " extracting: /content/Data/3D/Capture13 (2).PNG  \n",
            " extracting: /content/Data/3D/Capture13.PNG  \n",
            " extracting: /content/Data/3D/Capture130.PNG  \n",
            " extracting: /content/Data/3D/Capture131.PNG  \n",
            " extracting: /content/Data/3D/Capture132.PNG  \n",
            " extracting: /content/Data/3D/Capture133.PNG  \n",
            "  inflating: /content/Data/3D/Capture134.PNG  \n",
            " extracting: /content/Data/3D/Capture135.PNG  \n",
            "  inflating: /content/Data/3D/Capture136.PNG  \n",
            "  inflating: /content/Data/3D/Capture137.PNG  \n",
            " extracting: /content/Data/3D/Capture138.PNG  \n",
            "  inflating: /content/Data/3D/Capture139.PNG  \n",
            " extracting: /content/Data/3D/Capture14 (2).PNG  \n",
            " extracting: /content/Data/3D/Capture14.PNG  \n",
            " extracting: /content/Data/3D/Capture140.PNG  \n",
            " extracting: /content/Data/3D/Capture141.PNG  \n",
            " extracting: /content/Data/3D/Capture142.PNG  \n",
            " extracting: /content/Data/3D/Capture143.PNG  \n",
            " extracting: /content/Data/3D/Capture144.PNG  \n",
            " extracting: /content/Data/3D/Capture145.PNG  \n",
            " extracting: /content/Data/3D/Capture146.PNG  \n",
            "  inflating: /content/Data/3D/Capture147.PNG  \n",
            " extracting: /content/Data/3D/Capture148.PNG  \n",
            " extracting: /content/Data/3D/Capture149.PNG  \n",
            " extracting: /content/Data/3D/Capture15 (2).PNG  \n",
            " extracting: /content/Data/3D/Capture15.PNG  \n",
            " extracting: /content/Data/3D/Capture150.PNG  \n",
            "  inflating: /content/Data/3D/Capture16 (2).PNG  \n",
            " extracting: /content/Data/3D/Capture16.PNG  \n",
            " extracting: /content/Data/3D/Capture17 (2).PNG  \n",
            " extracting: /content/Data/3D/Capture17.PNG  \n",
            " extracting: /content/Data/3D/Capture18 (2).PNG  \n",
            " extracting: /content/Data/3D/Capture18.PNG  \n",
            " extracting: /content/Data/3D/Capture19 (2).PNG  \n",
            " extracting: /content/Data/3D/Capture19.PNG  \n",
            " extracting: /content/Data/3D/Capture2 (2).PNG  \n",
            " extracting: /content/Data/3D/Capture2.PNG  \n",
            "  inflating: /content/Data/3D/Capture20 (2).PNG  \n",
            " extracting: /content/Data/3D/Capture20.PNG  \n",
            "  inflating: /content/Data/3D/Capture21 (2).PNG  \n",
            " extracting: /content/Data/3D/Capture21.PNG  \n",
            "  inflating: /content/Data/3D/Capture22 (2).PNG  \n",
            " extracting: /content/Data/3D/Capture22.PNG  \n",
            "  inflating: /content/Data/3D/Capture23 (2).PNG  \n",
            "  inflating: /content/Data/3D/Capture23.PNG  \n",
            " extracting: /content/Data/3D/Capture24 (2).PNG  \n",
            "  inflating: /content/Data/3D/Capture24.PNG  \n",
            "  inflating: /content/Data/3D/Capture25 (2).PNG  \n",
            " extracting: /content/Data/3D/Capture25.PNG  \n",
            " extracting: /content/Data/3D/Capture26 (2).PNG  \n",
            " extracting: /content/Data/3D/Capture26.PNG  \n",
            "  inflating: /content/Data/3D/Capture27 (2).PNG  \n",
            " extracting: /content/Data/3D/Capture27.PNG  \n",
            " extracting: /content/Data/3D/Capture28 (2).PNG  \n",
            " extracting: /content/Data/3D/Capture28.PNG  \n",
            " extracting: /content/Data/3D/Capture29.PNG  \n",
            " extracting: /content/Data/3D/Capture3 (2).PNG  \n",
            " extracting: /content/Data/3D/Capture3.PNG  \n",
            "  inflating: /content/Data/3D/Capture30 (2).PNG  \n",
            " extracting: /content/Data/3D/Capture30.PNG  \n",
            "  inflating: /content/Data/3D/Capture31 (2).PNG  \n",
            " extracting: /content/Data/3D/Capture31.PNG  \n",
            " extracting: /content/Data/3D/Capture32 (2).PNG  \n",
            " extracting: /content/Data/3D/Capture32.PNG  \n",
            " extracting: /content/Data/3D/Capture33 (2).PNG  \n",
            " extracting: /content/Data/3D/Capture33.PNG  \n",
            " extracting: /content/Data/3D/Capture34 (2).PNG  \n",
            " extracting: /content/Data/3D/Capture34.PNG  \n",
            "  inflating: /content/Data/3D/Capture35 (2).PNG  \n",
            " extracting: /content/Data/3D/Capture35.PNG  \n",
            "  inflating: /content/Data/3D/Capture36 (2).PNG  \n",
            " extracting: /content/Data/3D/Capture36.PNG  \n",
            "  inflating: /content/Data/3D/Capture37 (2).PNG  \n",
            " extracting: /content/Data/3D/Capture37.PNG  \n",
            "  inflating: /content/Data/3D/Capture38 (2).PNG  \n",
            " extracting: /content/Data/3D/Capture38.PNG  \n",
            "  inflating: /content/Data/3D/Capture39 (2).PNG  \n",
            " extracting: /content/Data/3D/Capture39.PNG  \n",
            " extracting: /content/Data/3D/Capture4 (2).PNG  \n",
            " extracting: /content/Data/3D/Capture4.PNG  \n",
            "  inflating: /content/Data/3D/Capture40 (2).PNG  \n",
            " extracting: /content/Data/3D/Capture40.PNG  \n",
            "  inflating: /content/Data/3D/Capture41 (2).PNG  \n",
            " extracting: /content/Data/3D/Capture41.PNG  \n",
            "  inflating: /content/Data/3D/Capture42 (2).PNG  \n",
            " extracting: /content/Data/3D/Capture42.PNG  \n",
            "  inflating: /content/Data/3D/Capture43 (2).PNG  \n",
            " extracting: /content/Data/3D/Capture43.PNG  \n",
            "  inflating: /content/Data/3D/Capture44 (2).PNG  \n",
            " extracting: /content/Data/3D/Capture44.PNG  \n",
            "  inflating: /content/Data/3D/Capture45 (2).PNG  \n",
            "  inflating: /content/Data/3D/Capture45.PNG  \n",
            " extracting: /content/Data/3D/Capture46 (2).PNG  \n",
            "  inflating: /content/Data/3D/Capture46.PNG  \n",
            "  inflating: /content/Data/3D/Capture47 (2).PNG  \n",
            " extracting: /content/Data/3D/Capture47.PNG  \n",
            " extracting: /content/Data/3D/Capture48 (2).PNG  \n",
            " extracting: /content/Data/3D/Capture48.PNG  \n",
            "  inflating: /content/Data/3D/Capture49 (2).PNG  \n",
            "  inflating: /content/Data/3D/Capture49.PNG  \n",
            "  inflating: /content/Data/3D/Capture5 (2).PNG  \n",
            " extracting: /content/Data/3D/Capture5.PNG  \n",
            " extracting: /content/Data/3D/Capture50 (2).PNG  \n",
            " extracting: /content/Data/3D/Capture50.PNG  \n",
            "  inflating: /content/Data/3D/Capture51 (2).PNG  \n",
            " extracting: /content/Data/3D/Capture51.PNG  \n",
            "  inflating: /content/Data/3D/Capture52 (2).PNG  \n",
            " extracting: /content/Data/3D/Capture52.PNG  \n",
            "  inflating: /content/Data/3D/Capture53 (2).PNG  \n",
            " extracting: /content/Data/3D/Capture53.PNG  \n",
            " extracting: /content/Data/3D/Capture54 (2).PNG  \n",
            " extracting: /content/Data/3D/Capture54.PNG  \n",
            "  inflating: /content/Data/3D/Capture55 (2).PNG  \n",
            " extracting: /content/Data/3D/Capture55.PNG  \n",
            " extracting: /content/Data/3D/Capture56 (2).PNG  \n",
            " extracting: /content/Data/3D/Capture56.PNG  \n",
            "  inflating: /content/Data/3D/Capture57 (2).PNG  \n",
            " extracting: /content/Data/3D/Capture57.PNG  \n",
            " extracting: /content/Data/3D/Capture58 (2).PNG  \n",
            " extracting: /content/Data/3D/Capture58.PNG  \n",
            "  inflating: /content/Data/3D/Capture59 (2).PNG  \n",
            " extracting: /content/Data/3D/Capture59.PNG  \n",
            " extracting: /content/Data/3D/Capture6 (2).PNG  \n",
            " extracting: /content/Data/3D/Capture6.PNG  \n",
            " extracting: /content/Data/3D/Capture60.PNG  \n",
            "  inflating: /content/Data/3D/Capture61.PNG  \n",
            " extracting: /content/Data/3D/Capture62.PNG  \n",
            " extracting: /content/Data/3D/Capture63.PNG  \n",
            " extracting: /content/Data/3D/Capture64.PNG  \n",
            " extracting: /content/Data/3D/Capture65.PNG  \n",
            "  inflating: /content/Data/3D/Capture66.PNG  \n",
            "  inflating: /content/Data/3D/Capture67.PNG  \n",
            " extracting: /content/Data/3D/Capture68.PNG  \n",
            "  inflating: /content/Data/3D/Capture69.PNG  \n",
            " extracting: /content/Data/3D/Capture7 (2).PNG  \n",
            " extracting: /content/Data/3D/Capture7.PNG  \n",
            "  inflating: /content/Data/3D/Capture70.PNG  \n",
            "  inflating: /content/Data/3D/Capture71.PNG  \n",
            "  inflating: /content/Data/3D/Capture72.PNG  \n",
            "  inflating: /content/Data/3D/Capture73.PNG  \n",
            "  inflating: /content/Data/3D/Capture74.PNG  \n",
            "  inflating: /content/Data/3D/Capture75.PNG  \n",
            "  inflating: /content/Data/3D/Capture76.PNG  \n",
            "  inflating: /content/Data/3D/Capture77.PNG  \n",
            "  inflating: /content/Data/3D/Capture78.PNG  \n",
            " extracting: /content/Data/3D/Capture79.PNG  \n",
            " extracting: /content/Data/3D/Capture8 (2).PNG  \n",
            " extracting: /content/Data/3D/Capture8.PNG  \n",
            " extracting: /content/Data/3D/Capture80.PNG  \n",
            " extracting: /content/Data/3D/Capture81.PNG  \n",
            " extracting: /content/Data/3D/Capture82.PNG  \n",
            " extracting: /content/Data/3D/Capture83.PNG  \n",
            " extracting: /content/Data/3D/Capture84.PNG  \n",
            "  inflating: /content/Data/3D/Capture85.PNG  \n",
            " extracting: /content/Data/3D/Capture86.PNG  \n",
            "  inflating: /content/Data/3D/Capture87.PNG  \n",
            " extracting: /content/Data/3D/Capture88.PNG  \n",
            " extracting: /content/Data/3D/Capture89.PNG  \n",
            " extracting: /content/Data/3D/Capture9 (2).PNG  \n",
            " extracting: /content/Data/3D/Capture9.PNG  \n",
            "  inflating: /content/Data/3D/Capture90.PNG  \n",
            "  inflating: /content/Data/3D/Capture91.PNG  \n",
            "  inflating: /content/Data/3D/Capture92.PNG  \n",
            " extracting: /content/Data/3D/Capture93.PNG  \n",
            " extracting: /content/Data/3D/Capture94.PNG  \n",
            "  inflating: /content/Data/3D/Capture95.PNG  \n",
            " extracting: /content/Data/3D/Capture96.PNG  \n",
            " extracting: /content/Data/3D/Capture97.PNG  \n",
            "  inflating: /content/Data/3D/Capture98.PNG  \n",
            "  inflating: /content/Data/3D/Capture99.PNG  \n",
            "   creating: /content/Data/4D/\n",
            " extracting: /content/Data/4D/Capture (2).PNG  \n",
            " extracting: /content/Data/4D/Capture.PNG  \n",
            " extracting: /content/Data/4D/Capture10 (2).PNG  \n",
            " extracting: /content/Data/4D/Capture10.PNG  \n",
            " extracting: /content/Data/4D/Capture100.PNG  \n",
            "  inflating: /content/Data/4D/Capture101.PNG  \n",
            " extracting: /content/Data/4D/Capture102.PNG  \n",
            " extracting: /content/Data/4D/Capture103.PNG  \n",
            "  inflating: /content/Data/4D/Capture104.PNG  \n",
            "  inflating: /content/Data/4D/Capture105.PNG  \n",
            "  inflating: /content/Data/4D/Capture106.PNG  \n",
            "  inflating: /content/Data/4D/Capture107.PNG  \n",
            " extracting: /content/Data/4D/Capture108.PNG  \n",
            " extracting: /content/Data/4D/Capture109.PNG  \n",
            " extracting: /content/Data/4D/Capture11 (2).PNG  \n",
            " extracting: /content/Data/4D/Capture11.PNG  \n",
            " extracting: /content/Data/4D/Capture110.PNG  \n",
            " extracting: /content/Data/4D/Capture111.PNG  \n",
            " extracting: /content/Data/4D/Capture112.PNG  \n",
            " extracting: /content/Data/4D/Capture113.PNG  \n",
            " extracting: /content/Data/4D/Capture114.PNG  \n",
            " extracting: /content/Data/4D/Capture115.PNG  \n",
            " extracting: /content/Data/4D/Capture116.PNG  \n",
            " extracting: /content/Data/4D/Capture117.PNG  \n",
            " extracting: /content/Data/4D/Capture118.PNG  \n",
            "  inflating: /content/Data/4D/Capture119.PNG  \n",
            " extracting: /content/Data/4D/Capture12 (2).PNG  \n",
            " extracting: /content/Data/4D/Capture12.PNG  \n",
            "  inflating: /content/Data/4D/Capture120.PNG  \n",
            "  inflating: /content/Data/4D/Capture121.PNG  \n",
            "  inflating: /content/Data/4D/Capture122.PNG  \n",
            " extracting: /content/Data/4D/Capture123.PNG  \n",
            " extracting: /content/Data/4D/Capture124.PNG  \n",
            " extracting: /content/Data/4D/Capture125.PNG  \n",
            " extracting: /content/Data/4D/Capture126.PNG  \n",
            " extracting: /content/Data/4D/Capture127.PNG  \n",
            " extracting: /content/Data/4D/Capture128.PNG  \n",
            " extracting: /content/Data/4D/Capture129.PNG  \n",
            " extracting: /content/Data/4D/Capture13 (2).PNG  \n",
            " extracting: /content/Data/4D/Capture13.PNG  \n",
            " extracting: /content/Data/4D/Capture130.PNG  \n",
            " extracting: /content/Data/4D/Capture131.PNG  \n",
            " extracting: /content/Data/4D/Capture132.PNG  \n",
            " extracting: /content/Data/4D/Capture133.PNG  \n",
            " extracting: /content/Data/4D/Capture134.PNG  \n",
            " extracting: /content/Data/4D/Capture135.PNG  \n",
            " extracting: /content/Data/4D/Capture136.PNG  \n",
            " extracting: /content/Data/4D/Capture137.PNG  \n",
            " extracting: /content/Data/4D/Capture14 (2).PNG  \n",
            " extracting: /content/Data/4D/Capture14.PNG  \n",
            " extracting: /content/Data/4D/Capture15 (2).PNG  \n",
            " extracting: /content/Data/4D/Capture15.PNG  \n",
            " extracting: /content/Data/4D/Capture16 (2).PNG  \n",
            " extracting: /content/Data/4D/Capture16.PNG  \n",
            "  inflating: /content/Data/4D/Capture17 (2).PNG  \n",
            " extracting: /content/Data/4D/Capture17.PNG  \n",
            " extracting: /content/Data/4D/Capture18 (2).PNG  \n",
            " extracting: /content/Data/4D/Capture18.PNG  \n",
            " extracting: /content/Data/4D/Capture19 (2).PNG  \n",
            " extracting: /content/Data/4D/Capture19.PNG  \n",
            " extracting: /content/Data/4D/Capture2 (2).PNG  \n",
            " extracting: /content/Data/4D/Capture2.PNG  \n",
            " extracting: /content/Data/4D/Capture20 (2).PNG  \n",
            " extracting: /content/Data/4D/Capture20.PNG  \n",
            " extracting: /content/Data/4D/Capture21 (2).PNG  \n",
            " extracting: /content/Data/4D/Capture21.PNG  \n",
            " extracting: /content/Data/4D/Capture22 (2).PNG  \n",
            " extracting: /content/Data/4D/Capture22.PNG  \n",
            " extracting: /content/Data/4D/Capture23 (2).PNG  \n",
            " extracting: /content/Data/4D/Capture23.PNG  \n",
            " extracting: /content/Data/4D/Capture24 (2).PNG  \n",
            " extracting: /content/Data/4D/Capture24.PNG  \n",
            " extracting: /content/Data/4D/Capture25 (2).PNG  \n",
            " extracting: /content/Data/4D/Capture25.PNG  \n",
            " extracting: /content/Data/4D/Capture26 (2).PNG  \n",
            " extracting: /content/Data/4D/Capture26.PNG  \n",
            " extracting: /content/Data/4D/Capture27 (2).PNG  \n",
            " extracting: /content/Data/4D/Capture27.PNG  \n",
            " extracting: /content/Data/4D/Capture28 (2).PNG  \n",
            " extracting: /content/Data/4D/Capture28.PNG  \n",
            " extracting: /content/Data/4D/Capture29 (2).PNG  \n",
            " extracting: /content/Data/4D/Capture29.PNG  \n",
            " extracting: /content/Data/4D/Capture3 (2).PNG  \n",
            " extracting: /content/Data/4D/Capture3.PNG  \n",
            " extracting: /content/Data/4D/Capture30 (2).PNG  \n",
            " extracting: /content/Data/4D/Capture30.PNG  \n",
            " extracting: /content/Data/4D/Capture31 (2).PNG  \n",
            " extracting: /content/Data/4D/Capture31.PNG  \n",
            " extracting: /content/Data/4D/Capture32 (2).PNG  \n",
            " extracting: /content/Data/4D/Capture32.PNG  \n",
            " extracting: /content/Data/4D/Capture33 (2).PNG  \n",
            " extracting: /content/Data/4D/Capture33.PNG  \n",
            " extracting: /content/Data/4D/Capture34 (2).PNG  \n",
            " extracting: /content/Data/4D/Capture34.PNG  \n",
            " extracting: /content/Data/4D/Capture35 (2).PNG  \n",
            " extracting: /content/Data/4D/Capture35.PNG  \n",
            " extracting: /content/Data/4D/Capture36 (2).PNG  \n",
            " extracting: /content/Data/4D/Capture36.PNG  \n",
            " extracting: /content/Data/4D/Capture37 (2).PNG  \n",
            " extracting: /content/Data/4D/Capture37.PNG  \n",
            " extracting: /content/Data/4D/Capture38 (2).PNG  \n",
            " extracting: /content/Data/4D/Capture38.PNG  \n",
            " extracting: /content/Data/4D/Capture39 (2).PNG  \n",
            " extracting: /content/Data/4D/Capture39.PNG  \n",
            " extracting: /content/Data/4D/Capture4 (2).PNG  \n",
            " extracting: /content/Data/4D/Capture4.PNG  \n",
            " extracting: /content/Data/4D/Capture40 (2).PNG  \n",
            " extracting: /content/Data/4D/Capture40.PNG  \n",
            " extracting: /content/Data/4D/Capture41 (2).PNG  \n",
            " extracting: /content/Data/4D/Capture41.PNG  \n",
            " extracting: /content/Data/4D/Capture42 (2).PNG  \n",
            " extracting: /content/Data/4D/Capture42.PNG  \n",
            " extracting: /content/Data/4D/Capture43 (2).PNG  \n",
            " extracting: /content/Data/4D/Capture43.PNG  \n",
            " extracting: /content/Data/4D/Capture44 (2).PNG  \n",
            " extracting: /content/Data/4D/Capture44.PNG  \n",
            " extracting: /content/Data/4D/Capture45 (2).PNG  \n",
            " extracting: /content/Data/4D/Capture45.PNG  \n",
            " extracting: /content/Data/4D/Capture46 (2).PNG  \n",
            " extracting: /content/Data/4D/Capture46.PNG  \n",
            " extracting: /content/Data/4D/Capture47 (2).PNG  \n",
            " extracting: /content/Data/4D/Capture47.PNG  \n",
            " extracting: /content/Data/4D/Capture48 (2).PNG  \n",
            " extracting: /content/Data/4D/Capture48.PNG  \n",
            " extracting: /content/Data/4D/Capture49 (2).PNG  \n",
            " extracting: /content/Data/4D/Capture49.PNG  \n",
            " extracting: /content/Data/4D/Capture5.PNG  \n",
            " extracting: /content/Data/4D/Capture50 (2).PNG  \n",
            " extracting: /content/Data/4D/Capture50.PNG  \n",
            " extracting: /content/Data/4D/Capture51 (2).PNG  \n",
            " extracting: /content/Data/4D/Capture51.PNG  \n",
            " extracting: /content/Data/4D/Capture52 (2).PNG  \n",
            " extracting: /content/Data/4D/Capture52.PNG  \n",
            " extracting: /content/Data/4D/Capture53 (2).PNG  \n",
            " extracting: /content/Data/4D/Capture53.PNG  \n",
            " extracting: /content/Data/4D/Capture54 (2).PNG  \n",
            " extracting: /content/Data/4D/Capture54.PNG  \n",
            " extracting: /content/Data/4D/Capture55 (2).PNG  \n",
            " extracting: /content/Data/4D/Capture55.PNG  \n",
            " extracting: /content/Data/4D/Capture56 (2).PNG  \n",
            " extracting: /content/Data/4D/Capture56.PNG  \n",
            " extracting: /content/Data/4D/Capture57 (2).PNG  \n",
            " extracting: /content/Data/4D/Capture57.PNG  \n",
            " extracting: /content/Data/4D/Capture58.PNG  \n",
            " extracting: /content/Data/4D/Capture59.PNG  \n",
            " extracting: /content/Data/4D/Capture6 (2).PNG  \n",
            " extracting: /content/Data/4D/Capture6.PNG  \n",
            " extracting: /content/Data/4D/Capture60.PNG  \n",
            " extracting: /content/Data/4D/Capture61.PNG  \n",
            " extracting: /content/Data/4D/Capture62.PNG  \n",
            " extracting: /content/Data/4D/Capture63.PNG  \n",
            " extracting: /content/Data/4D/Capture64.PNG  \n",
            " extracting: /content/Data/4D/Capture65.PNG  \n",
            " extracting: /content/Data/4D/Capture66.PNG  \n",
            " extracting: /content/Data/4D/Capture67.PNG  \n",
            " extracting: /content/Data/4D/Capture68.PNG  \n",
            " extracting: /content/Data/4D/Capture69.PNG  \n",
            " extracting: /content/Data/4D/Capture7 (2).PNG  \n",
            " extracting: /content/Data/4D/Capture7.PNG  \n",
            " extracting: /content/Data/4D/Capture70.PNG  \n",
            " extracting: /content/Data/4D/Capture71.PNG  \n",
            " extracting: /content/Data/4D/Capture72.PNG  \n",
            " extracting: /content/Data/4D/Capture73.PNG  \n",
            " extracting: /content/Data/4D/Capture74.PNG  \n",
            " extracting: /content/Data/4D/Capture75.PNG  \n",
            " extracting: /content/Data/4D/Capture76.PNG  \n",
            " extracting: /content/Data/4D/Capture77.PNG  \n",
            " extracting: /content/Data/4D/Capture78.PNG  \n",
            " extracting: /content/Data/4D/Capture79.PNG  \n",
            " extracting: /content/Data/4D/Capture8 (2).PNG  \n",
            " extracting: /content/Data/4D/Capture8.PNG  \n",
            "  inflating: /content/Data/4D/Capture80.PNG  \n",
            "  inflating: /content/Data/4D/Capture81.PNG  \n",
            " extracting: /content/Data/4D/Capture82.PNG  \n",
            " extracting: /content/Data/4D/Capture83.PNG  \n",
            " extracting: /content/Data/4D/Capture84.PNG  \n",
            " extracting: /content/Data/4D/Capture85.PNG  \n",
            " extracting: /content/Data/4D/Capture86.PNG  \n",
            " extracting: /content/Data/4D/Capture87.PNG  \n",
            " extracting: /content/Data/4D/Capture88.PNG  \n",
            " extracting: /content/Data/4D/Capture89.PNG  \n",
            " extracting: /content/Data/4D/Capture9 (2).PNG  \n",
            " extracting: /content/Data/4D/Capture9.PNG  \n",
            " extracting: /content/Data/4D/Capture90.PNG  \n",
            " extracting: /content/Data/4D/Capture91.PNG  \n",
            " extracting: /content/Data/4D/Capture92.PNG  \n",
            " extracting: /content/Data/4D/Capture93.PNG  \n",
            " extracting: /content/Data/4D/Capture94.PNG  \n",
            " extracting: /content/Data/4D/Capture95.PNG  \n",
            " extracting: /content/Data/4D/Capture96.PNG  \n",
            " extracting: /content/Data/4D/Capture97.PNG  \n",
            " extracting: /content/Data/4D/Capture98.PNG  \n",
            " extracting: /content/Data/4D/Capture99.PNG  \n",
            "   creating: /content/Data/5D/\n",
            "  inflating: /content/Data/5D/Capture1.JPG  \n",
            "  inflating: /content/Data/5D/Capture10.JPG  \n",
            "  inflating: /content/Data/5D/Capture100.JPG  \n",
            "  inflating: /content/Data/5D/Capture101.JPG  \n",
            "  inflating: /content/Data/5D/Capture102.JPG  \n",
            "  inflating: /content/Data/5D/Capture103.JPG  \n",
            "  inflating: /content/Data/5D/Capture104.JPG  \n",
            "  inflating: /content/Data/5D/Capture105.JPG  \n",
            "  inflating: /content/Data/5D/Capture106.JPG  \n",
            "  inflating: /content/Data/5D/Capture107.JPG  \n",
            "  inflating: /content/Data/5D/Capture108.JPG  \n",
            "  inflating: /content/Data/5D/Capture109.JPG  \n",
            "  inflating: /content/Data/5D/Capture11.JPG  \n",
            "  inflating: /content/Data/5D/Capture110.JPG  \n",
            "  inflating: /content/Data/5D/Capture111.JPG  \n",
            "  inflating: /content/Data/5D/Capture112.JPG  \n",
            "  inflating: /content/Data/5D/Capture113.JPG  \n",
            "  inflating: /content/Data/5D/Capture114.JPG  \n",
            "  inflating: /content/Data/5D/Capture115.JPG  \n",
            "  inflating: /content/Data/5D/Capture116.JPG  \n",
            "  inflating: /content/Data/5D/Capture117.JPG  \n",
            "  inflating: /content/Data/5D/Capture118.JPG  \n",
            "  inflating: /content/Data/5D/Capture119.JPG  \n",
            "  inflating: /content/Data/5D/Capture12.JPG  \n",
            "  inflating: /content/Data/5D/Capture120.JPG  \n",
            "  inflating: /content/Data/5D/Capture121.JPG  \n",
            "  inflating: /content/Data/5D/Capture122.JPG  \n",
            "  inflating: /content/Data/5D/Capture123.JPG  \n",
            "  inflating: /content/Data/5D/Capture124.JPG  \n",
            "  inflating: /content/Data/5D/Capture125.JPG  \n",
            "  inflating: /content/Data/5D/Capture126.JPG  \n",
            "  inflating: /content/Data/5D/Capture127.JPG  \n",
            "  inflating: /content/Data/5D/Capture128.JPG  \n",
            "  inflating: /content/Data/5D/Capture129.JPG  \n",
            "  inflating: /content/Data/5D/Capture13.JPG  \n",
            "  inflating: /content/Data/5D/Capture130.JPG  \n",
            "  inflating: /content/Data/5D/Capture131.JPG  \n",
            "  inflating: /content/Data/5D/Capture132.JPG  \n",
            "  inflating: /content/Data/5D/Capture133.JPG  \n",
            "  inflating: /content/Data/5D/Capture134.JPG  \n",
            "  inflating: /content/Data/5D/Capture135.JPG  \n",
            "  inflating: /content/Data/5D/Capture136.JPG  \n",
            "  inflating: /content/Data/5D/Capture137.JPG  \n",
            "  inflating: /content/Data/5D/Capture138.JPG  \n",
            "  inflating: /content/Data/5D/Capture139.JPG  \n",
            "  inflating: /content/Data/5D/Capture14.JPG  \n",
            "  inflating: /content/Data/5D/Capture140.JPG  \n",
            "  inflating: /content/Data/5D/Capture141.JPG  \n",
            "  inflating: /content/Data/5D/Capture142.JPG  \n",
            "  inflating: /content/Data/5D/Capture143.JPG  \n",
            "  inflating: /content/Data/5D/Capture144.JPG  \n",
            "  inflating: /content/Data/5D/Capture145.JPG  \n",
            "  inflating: /content/Data/5D/Capture146.JPG  \n",
            "  inflating: /content/Data/5D/Capture147.JPG  \n",
            "  inflating: /content/Data/5D/Capture148.JPG  \n",
            "  inflating: /content/Data/5D/Capture149.JPG  \n",
            "  inflating: /content/Data/5D/Capture15.JPG  \n",
            "  inflating: /content/Data/5D/Capture150.JPG  \n",
            "  inflating: /content/Data/5D/Capture151.JPG  \n",
            "  inflating: /content/Data/5D/Capture152.JPG  \n",
            "  inflating: /content/Data/5D/Capture153.JPG  \n",
            "  inflating: /content/Data/5D/Capture154.JPG  \n",
            "  inflating: /content/Data/5D/Capture155.JPG  \n",
            "  inflating: /content/Data/5D/Capture156.JPG  \n",
            "  inflating: /content/Data/5D/Capture157.JPG  \n",
            "  inflating: /content/Data/5D/Capture158.JPG  \n",
            "  inflating: /content/Data/5D/Capture159.JPG  \n",
            "  inflating: /content/Data/5D/Capture16.JPG  \n",
            "  inflating: /content/Data/5D/Capture160.JPG  \n",
            "  inflating: /content/Data/5D/Capture161.JPG  \n",
            "  inflating: /content/Data/5D/Capture162.JPG  \n",
            "  inflating: /content/Data/5D/Capture163.JPG  \n",
            "  inflating: /content/Data/5D/Capture164.JPG  \n",
            "  inflating: /content/Data/5D/Capture165.JPG  \n",
            "  inflating: /content/Data/5D/Capture166.JPG  \n",
            "  inflating: /content/Data/5D/Capture167.JPG  \n",
            "  inflating: /content/Data/5D/Capture168.JPG  \n",
            "  inflating: /content/Data/5D/Capture169.JPG  \n",
            "  inflating: /content/Data/5D/Capture17.JPG  \n",
            "  inflating: /content/Data/5D/Capture170.JPG  \n",
            "  inflating: /content/Data/5D/Capture171.JPG  \n",
            "  inflating: /content/Data/5D/Capture172.JPG  \n",
            "  inflating: /content/Data/5D/Capture173.JPG  \n",
            "  inflating: /content/Data/5D/Capture174.JPG  \n",
            "  inflating: /content/Data/5D/Capture175.JPG  \n",
            "  inflating: /content/Data/5D/Capture176.JPG  \n",
            "  inflating: /content/Data/5D/Capture177.JPG  \n",
            "  inflating: /content/Data/5D/Capture178.JPG  \n",
            "  inflating: /content/Data/5D/Capture179.JPG  \n",
            "  inflating: /content/Data/5D/Capture18.JPG  \n",
            "  inflating: /content/Data/5D/Capture180.JPG  \n",
            "  inflating: /content/Data/5D/Capture181.JPG  \n",
            "  inflating: /content/Data/5D/Capture182.JPG  \n",
            "  inflating: /content/Data/5D/Capture183.JPG  \n",
            "  inflating: /content/Data/5D/Capture184.JPG  \n",
            "  inflating: /content/Data/5D/Capture185.JPG  \n",
            "  inflating: /content/Data/5D/Capture186.JPG  \n",
            "  inflating: /content/Data/5D/Capture19.JPG  \n",
            "  inflating: /content/Data/5D/Capture2.JPG  \n",
            "  inflating: /content/Data/5D/Capture20.JPG  \n",
            "  inflating: /content/Data/5D/Capture21.JPG  \n",
            "  inflating: /content/Data/5D/Capture22.JPG  \n",
            "  inflating: /content/Data/5D/Capture23.JPG  \n",
            "  inflating: /content/Data/5D/Capture24.JPG  \n",
            "  inflating: /content/Data/5D/Capture25.JPG  \n",
            "  inflating: /content/Data/5D/Capture26.JPG  \n",
            "  inflating: /content/Data/5D/Capture27.JPG  \n",
            "  inflating: /content/Data/5D/Capture28.JPG  \n",
            "  inflating: /content/Data/5D/Capture29.JPG  \n",
            "  inflating: /content/Data/5D/Capture3.JPG  \n",
            "  inflating: /content/Data/5D/Capture30.JPG  \n",
            "  inflating: /content/Data/5D/Capture31.JPG  \n",
            "  inflating: /content/Data/5D/Capture32.JPG  \n",
            "  inflating: /content/Data/5D/Capture33.JPG  \n",
            "  inflating: /content/Data/5D/Capture34.JPG  \n",
            "  inflating: /content/Data/5D/Capture35.JPG  \n",
            "  inflating: /content/Data/5D/Capture36.JPG  \n",
            "  inflating: /content/Data/5D/Capture37.JPG  \n",
            "  inflating: /content/Data/5D/Capture38.JPG  \n",
            "  inflating: /content/Data/5D/Capture39.JPG  \n",
            "  inflating: /content/Data/5D/Capture4.JPG  \n",
            "  inflating: /content/Data/5D/Capture40.JPG  \n",
            "  inflating: /content/Data/5D/Capture41.JPG  \n",
            "  inflating: /content/Data/5D/Capture42.JPG  \n",
            "  inflating: /content/Data/5D/Capture43.JPG  \n",
            "  inflating: /content/Data/5D/Capture44.JPG  \n",
            "  inflating: /content/Data/5D/Capture45.JPG  \n",
            "  inflating: /content/Data/5D/Capture46.JPG  \n",
            "  inflating: /content/Data/5D/Capture47.JPG  \n",
            "  inflating: /content/Data/5D/Capture48.JPG  \n",
            "  inflating: /content/Data/5D/Capture49.JPG  \n",
            "  inflating: /content/Data/5D/Capture5.JPG  \n",
            "  inflating: /content/Data/5D/Capture50.JPG  \n",
            "  inflating: /content/Data/5D/Capture51.JPG  \n",
            "  inflating: /content/Data/5D/Capture52.JPG  \n",
            "  inflating: /content/Data/5D/Capture53.JPG  \n",
            "  inflating: /content/Data/5D/Capture54.JPG  \n",
            "  inflating: /content/Data/5D/Capture55.JPG  \n",
            "  inflating: /content/Data/5D/Capture56.JPG  \n",
            "  inflating: /content/Data/5D/Capture57.JPG  \n",
            "  inflating: /content/Data/5D/Capture58.JPG  \n",
            "  inflating: /content/Data/5D/Capture59.JPG  \n",
            "  inflating: /content/Data/5D/Capture6.JPG  \n",
            "  inflating: /content/Data/5D/Capture60.JPG  \n",
            "  inflating: /content/Data/5D/Capture61.JPG  \n",
            "  inflating: /content/Data/5D/Capture62.JPG  \n",
            "  inflating: /content/Data/5D/Capture63.JPG  \n",
            "  inflating: /content/Data/5D/Capture64.JPG  \n",
            "  inflating: /content/Data/5D/Capture65.JPG  \n",
            "  inflating: /content/Data/5D/Capture66.JPG  \n",
            "  inflating: /content/Data/5D/Capture67.JPG  \n",
            "  inflating: /content/Data/5D/Capture68.JPG  \n",
            "  inflating: /content/Data/5D/Capture69.JPG  \n",
            "  inflating: /content/Data/5D/Capture7.JPG  \n",
            "  inflating: /content/Data/5D/Capture70.JPG  \n",
            "  inflating: /content/Data/5D/Capture71.JPG  \n",
            "  inflating: /content/Data/5D/Capture72.JPG  \n",
            "  inflating: /content/Data/5D/Capture73.JPG  \n",
            "  inflating: /content/Data/5D/Capture74.JPG  \n",
            "  inflating: /content/Data/5D/Capture75.JPG  \n",
            "  inflating: /content/Data/5D/Capture76.JPG  \n",
            "  inflating: /content/Data/5D/Capture77.JPG  \n",
            "  inflating: /content/Data/5D/Capture78.JPG  \n",
            "  inflating: /content/Data/5D/Capture79.JPG  \n",
            "  inflating: /content/Data/5D/Capture8.JPG  \n",
            "  inflating: /content/Data/5D/Capture80.JPG  \n",
            "  inflating: /content/Data/5D/Capture81.JPG  \n",
            "  inflating: /content/Data/5D/Capture82.JPG  \n",
            "  inflating: /content/Data/5D/Capture83.JPG  \n",
            "  inflating: /content/Data/5D/Capture84.JPG  \n",
            "  inflating: /content/Data/5D/Capture85.JPG  \n",
            "  inflating: /content/Data/5D/Capture86.JPG  \n",
            "  inflating: /content/Data/5D/Capture87.JPG  \n",
            "  inflating: /content/Data/5D/Capture88.JPG  \n",
            "  inflating: /content/Data/5D/Capture89.JPG  \n",
            "  inflating: /content/Data/5D/Capture9.JPG  \n",
            "  inflating: /content/Data/5D/Capture90.JPG  \n",
            "  inflating: /content/Data/5D/Capture91.JPG  \n",
            "  inflating: /content/Data/5D/Capture92.JPG  \n",
            "  inflating: /content/Data/5D/Capture93.JPG  \n",
            "  inflating: /content/Data/5D/Capture94.JPG  \n",
            "  inflating: /content/Data/5D/Capture95.JPG  \n",
            "  inflating: /content/Data/5D/Capture96.JPG  \n",
            "  inflating: /content/Data/5D/Capture97.JPG  \n",
            "  inflating: /content/Data/5D/Capture98.JPG  \n",
            "  inflating: /content/Data/5D/Capture99.JPG  \n",
            "   creating: /content/Data/6D/\n",
            "  inflating: /content/Data/6D/Capture1.JPG  \n",
            "  inflating: /content/Data/6D/Capture10.JPG  \n",
            "  inflating: /content/Data/6D/Capture100.JPG  \n",
            "  inflating: /content/Data/6D/Capture101.JPG  \n",
            "  inflating: /content/Data/6D/Capture102.JPG  \n",
            "  inflating: /content/Data/6D/Capture103.JPG  \n",
            "  inflating: /content/Data/6D/Capture104.JPG  \n",
            "  inflating: /content/Data/6D/Capture105.JPG  \n",
            "  inflating: /content/Data/6D/Capture106.JPG  \n",
            "  inflating: /content/Data/6D/Capture107.JPG  \n",
            "  inflating: /content/Data/6D/Capture108.JPG  \n",
            "  inflating: /content/Data/6D/Capture109.JPG  \n",
            "  inflating: /content/Data/6D/Capture11.JPG  \n",
            "  inflating: /content/Data/6D/Capture110.JPG  \n",
            "  inflating: /content/Data/6D/Capture111.JPG  \n",
            "  inflating: /content/Data/6D/Capture112.JPG  \n",
            "  inflating: /content/Data/6D/Capture113.JPG  \n",
            "  inflating: /content/Data/6D/Capture114.JPG  \n",
            "  inflating: /content/Data/6D/Capture115.JPG  \n",
            "  inflating: /content/Data/6D/Capture116.JPG  \n",
            "  inflating: /content/Data/6D/Capture117.JPG  \n",
            "  inflating: /content/Data/6D/Capture118.JPG  \n",
            "  inflating: /content/Data/6D/Capture119.JPG  \n",
            "  inflating: /content/Data/6D/Capture12.JPG  \n",
            "  inflating: /content/Data/6D/Capture120.JPG  \n",
            "  inflating: /content/Data/6D/Capture121.JPG  \n",
            "  inflating: /content/Data/6D/Capture122.JPG  \n",
            "  inflating: /content/Data/6D/Capture123.JPG  \n",
            "  inflating: /content/Data/6D/Capture124.JPG  \n",
            "  inflating: /content/Data/6D/Capture125.JPG  \n",
            "  inflating: /content/Data/6D/Capture126.JPG  \n",
            "  inflating: /content/Data/6D/Capture127.JPG  \n",
            "  inflating: /content/Data/6D/Capture128.JPG  \n",
            "  inflating: /content/Data/6D/Capture129.JPG  \n",
            "  inflating: /content/Data/6D/Capture13.JPG  \n",
            "  inflating: /content/Data/6D/Capture130.JPG  \n",
            "  inflating: /content/Data/6D/Capture131.JPG  \n",
            "  inflating: /content/Data/6D/Capture132.JPG  \n",
            "  inflating: /content/Data/6D/Capture133.JPG  \n",
            "  inflating: /content/Data/6D/Capture134.JPG  \n",
            "  inflating: /content/Data/6D/Capture135.JPG  \n",
            "  inflating: /content/Data/6D/Capture136.JPG  \n",
            "  inflating: /content/Data/6D/Capture137.JPG  \n",
            "  inflating: /content/Data/6D/Capture138.JPG  \n",
            "  inflating: /content/Data/6D/Capture139.JPG  \n",
            "  inflating: /content/Data/6D/Capture14.JPG  \n",
            "  inflating: /content/Data/6D/Capture140.JPG  \n",
            "  inflating: /content/Data/6D/Capture141.JPG  \n",
            "  inflating: /content/Data/6D/Capture142.JPG  \n",
            "  inflating: /content/Data/6D/Capture143.JPG  \n",
            "  inflating: /content/Data/6D/Capture144.JPG  \n",
            "  inflating: /content/Data/6D/Capture15.JPG  \n",
            "  inflating: /content/Data/6D/Capture16.JPG  \n",
            "  inflating: /content/Data/6D/Capture17.JPG  \n",
            "  inflating: /content/Data/6D/Capture18.JPG  \n",
            "  inflating: /content/Data/6D/Capture19.JPG  \n",
            "  inflating: /content/Data/6D/Capture2.JPG  \n",
            "  inflating: /content/Data/6D/Capture20.JPG  \n",
            "  inflating: /content/Data/6D/Capture21.JPG  \n",
            "  inflating: /content/Data/6D/Capture22.JPG  \n",
            "  inflating: /content/Data/6D/Capture23.JPG  \n",
            "  inflating: /content/Data/6D/Capture24.JPG  \n",
            "  inflating: /content/Data/6D/Capture25.JPG  \n",
            "  inflating: /content/Data/6D/Capture26.JPG  \n",
            "  inflating: /content/Data/6D/Capture27.JPG  \n",
            "  inflating: /content/Data/6D/Capture28.JPG  \n",
            "  inflating: /content/Data/6D/Capture29.JPG  \n",
            "  inflating: /content/Data/6D/Capture3.JPG  \n",
            "  inflating: /content/Data/6D/Capture30.JPG  \n",
            "  inflating: /content/Data/6D/Capture31.JPG  \n",
            "  inflating: /content/Data/6D/Capture32.JPG  \n",
            "  inflating: /content/Data/6D/Capture33.JPG  \n",
            "  inflating: /content/Data/6D/Capture34.JPG  \n",
            "  inflating: /content/Data/6D/Capture35.JPG  \n",
            "  inflating: /content/Data/6D/Capture36.JPG  \n",
            "  inflating: /content/Data/6D/Capture37.JPG  \n",
            "  inflating: /content/Data/6D/Capture38.JPG  \n",
            "  inflating: /content/Data/6D/Capture39.JPG  \n",
            "  inflating: /content/Data/6D/Capture4.JPG  \n",
            "  inflating: /content/Data/6D/Capture40.JPG  \n",
            "  inflating: /content/Data/6D/Capture41.JPG  \n",
            "  inflating: /content/Data/6D/Capture42.JPG  \n",
            "  inflating: /content/Data/6D/Capture43.JPG  \n",
            "  inflating: /content/Data/6D/Capture44.JPG  \n",
            "  inflating: /content/Data/6D/Capture45.JPG  \n",
            "  inflating: /content/Data/6D/Capture46.JPG  \n",
            "  inflating: /content/Data/6D/Capture47.JPG  \n",
            "  inflating: /content/Data/6D/Capture48.JPG  \n",
            "  inflating: /content/Data/6D/Capture49.JPG  \n",
            "  inflating: /content/Data/6D/Capture5.JPG  \n",
            "  inflating: /content/Data/6D/Capture50.JPG  \n",
            "  inflating: /content/Data/6D/Capture51.JPG  \n",
            "  inflating: /content/Data/6D/Capture52.JPG  \n",
            "  inflating: /content/Data/6D/Capture53.JPG  \n",
            "  inflating: /content/Data/6D/Capture54.JPG  \n",
            "  inflating: /content/Data/6D/Capture55.JPG  \n",
            "  inflating: /content/Data/6D/Capture56.JPG  \n",
            "  inflating: /content/Data/6D/Capture57.JPG  \n",
            "  inflating: /content/Data/6D/Capture58.JPG  \n",
            "  inflating: /content/Data/6D/Capture59.JPG  \n",
            "  inflating: /content/Data/6D/Capture6.JPG  \n",
            "  inflating: /content/Data/6D/Capture60.JPG  \n",
            "  inflating: /content/Data/6D/Capture61.JPG  \n",
            "  inflating: /content/Data/6D/Capture62.JPG  \n",
            "  inflating: /content/Data/6D/Capture63.JPG  \n",
            "  inflating: /content/Data/6D/Capture64.JPG  \n",
            "  inflating: /content/Data/6D/Capture65.JPG  \n",
            "  inflating: /content/Data/6D/Capture66.JPG  \n",
            "  inflating: /content/Data/6D/Capture67.JPG  \n",
            "  inflating: /content/Data/6D/Capture68.JPG  \n",
            "  inflating: /content/Data/6D/Capture69.JPG  \n",
            "  inflating: /content/Data/6D/Capture7.JPG  \n",
            "  inflating: /content/Data/6D/Capture70.JPG  \n",
            "  inflating: /content/Data/6D/Capture71.JPG  \n",
            "  inflating: /content/Data/6D/Capture72.JPG  \n",
            "  inflating: /content/Data/6D/Capture73.JPG  \n",
            "  inflating: /content/Data/6D/Capture74.JPG  \n",
            "  inflating: /content/Data/6D/Capture75.JPG  \n",
            "  inflating: /content/Data/6D/Capture76.JPG  \n",
            "  inflating: /content/Data/6D/Capture77.JPG  \n",
            "  inflating: /content/Data/6D/Capture78.JPG  \n",
            "  inflating: /content/Data/6D/Capture79.JPG  \n",
            "  inflating: /content/Data/6D/Capture8.JPG  \n",
            "  inflating: /content/Data/6D/Capture80.JPG  \n",
            "  inflating: /content/Data/6D/Capture81.JPG  \n",
            "  inflating: /content/Data/6D/Capture82.JPG  \n",
            "  inflating: /content/Data/6D/Capture83.JPG  \n",
            "  inflating: /content/Data/6D/Capture84.JPG  \n",
            "  inflating: /content/Data/6D/Capture85.JPG  \n",
            "  inflating: /content/Data/6D/Capture86.JPG  \n",
            "  inflating: /content/Data/6D/Capture87.JPG  \n",
            "  inflating: /content/Data/6D/Capture88.JPG  \n",
            "  inflating: /content/Data/6D/Capture89.JPG  \n",
            "  inflating: /content/Data/6D/Capture9.JPG  \n",
            "  inflating: /content/Data/6D/Capture90.JPG  \n",
            "  inflating: /content/Data/6D/Capture91.JPG  \n",
            "  inflating: /content/Data/6D/Capture92.JPG  \n",
            "  inflating: /content/Data/6D/Capture93.JPG  \n",
            "  inflating: /content/Data/6D/Capture94.JPG  \n",
            "  inflating: /content/Data/6D/Capture95.JPG  \n",
            "  inflating: /content/Data/6D/Capture96.JPG  \n",
            "  inflating: /content/Data/6D/Capture97.JPG  \n",
            "  inflating: /content/Data/6D/Capture98.JPG  \n",
            "  inflating: /content/Data/6D/Capture99.JPG  \n",
            "   creating: /content/Data/7D/\n",
            "  inflating: /content/Data/7D/1.JPG  \n",
            "  inflating: /content/Data/7D/10.JPG  \n",
            "  inflating: /content/Data/7D/100.JPG  \n",
            "  inflating: /content/Data/7D/101.JPG  \n",
            "  inflating: /content/Data/7D/102.JPG  \n",
            "  inflating: /content/Data/7D/103.JPG  \n",
            "  inflating: /content/Data/7D/104.JPG  \n",
            "  inflating: /content/Data/7D/105.JPG  \n",
            "  inflating: /content/Data/7D/106.JPG  \n",
            "  inflating: /content/Data/7D/107.JPG  \n",
            "  inflating: /content/Data/7D/108.JPG  \n",
            "  inflating: /content/Data/7D/109.JPG  \n",
            "  inflating: /content/Data/7D/11.JPG  \n",
            "  inflating: /content/Data/7D/110.JPG  \n",
            "  inflating: /content/Data/7D/111.JPG  \n",
            "  inflating: /content/Data/7D/112.JPG  \n",
            "  inflating: /content/Data/7D/113.JPG  \n",
            "  inflating: /content/Data/7D/114.JPG  \n",
            "  inflating: /content/Data/7D/115.JPG  \n",
            "  inflating: /content/Data/7D/116.JPG  \n",
            "  inflating: /content/Data/7D/117.JPG  \n",
            "  inflating: /content/Data/7D/118.JPG  \n",
            "  inflating: /content/Data/7D/119.JPG  \n",
            "  inflating: /content/Data/7D/12.JPG  \n",
            "  inflating: /content/Data/7D/120.JPG  \n",
            "  inflating: /content/Data/7D/121.JPG  \n",
            "  inflating: /content/Data/7D/122.JPG  \n",
            "  inflating: /content/Data/7D/123.JPG  \n",
            "  inflating: /content/Data/7D/124.JPG  \n",
            "  inflating: /content/Data/7D/125.JPG  \n",
            "  inflating: /content/Data/7D/126.JPG  \n",
            "  inflating: /content/Data/7D/127.JPG  \n",
            "  inflating: /content/Data/7D/128.JPG  \n",
            "  inflating: /content/Data/7D/129.JPG  \n",
            "  inflating: /content/Data/7D/13.JPG  \n",
            "  inflating: /content/Data/7D/130.JPG  \n",
            "  inflating: /content/Data/7D/131.JPG  \n",
            "  inflating: /content/Data/7D/132.JPG  \n",
            "  inflating: /content/Data/7D/133.JPG  \n",
            "  inflating: /content/Data/7D/134.JPG  \n",
            "  inflating: /content/Data/7D/135.JPG  \n",
            "  inflating: /content/Data/7D/136.JPG  \n",
            "  inflating: /content/Data/7D/137.JPG  \n",
            "  inflating: /content/Data/7D/138.JPG  \n",
            "  inflating: /content/Data/7D/139.JPG  \n",
            "  inflating: /content/Data/7D/14.JPG  \n",
            "  inflating: /content/Data/7D/140.JPG  \n",
            "  inflating: /content/Data/7D/141.JPG  \n",
            "  inflating: /content/Data/7D/142.JPG  \n",
            "  inflating: /content/Data/7D/143.JPG  \n",
            "  inflating: /content/Data/7D/144.JPG  \n",
            "  inflating: /content/Data/7D/145.JPG  \n",
            "  inflating: /content/Data/7D/146.JPG  \n",
            "  inflating: /content/Data/7D/147.JPG  \n",
            "  inflating: /content/Data/7D/148.JPG  \n",
            "  inflating: /content/Data/7D/149.JPG  \n",
            "  inflating: /content/Data/7D/15.JPG  \n",
            "  inflating: /content/Data/7D/150.JPG  \n",
            "  inflating: /content/Data/7D/151.JPG  \n",
            "  inflating: /content/Data/7D/152.JPG  \n",
            "  inflating: /content/Data/7D/153.JPG  \n",
            "  inflating: /content/Data/7D/154.JPG  \n",
            "  inflating: /content/Data/7D/155.JPG  \n",
            "  inflating: /content/Data/7D/156.JPG  \n",
            "  inflating: /content/Data/7D/157.JPG  \n",
            "  inflating: /content/Data/7D/158.JPG  \n",
            "  inflating: /content/Data/7D/159.JPG  \n",
            "  inflating: /content/Data/7D/16.JPG  \n",
            "  inflating: /content/Data/7D/160.JPG  \n",
            "  inflating: /content/Data/7D/161.JPG  \n",
            "  inflating: /content/Data/7D/162.JPG  \n",
            "  inflating: /content/Data/7D/163.JPG  \n",
            "  inflating: /content/Data/7D/164.JPG  \n",
            "  inflating: /content/Data/7D/165.JPG  \n",
            "  inflating: /content/Data/7D/166.JPG  \n",
            "  inflating: /content/Data/7D/167.JPG  \n",
            "  inflating: /content/Data/7D/168.JPG  \n",
            "  inflating: /content/Data/7D/169.JPG  \n",
            "  inflating: /content/Data/7D/17.JPG  \n",
            "  inflating: /content/Data/7D/170.JPG  \n",
            "  inflating: /content/Data/7D/171.JPG  \n",
            "  inflating: /content/Data/7D/172.JPG  \n",
            "  inflating: /content/Data/7D/173.JPG  \n",
            "  inflating: /content/Data/7D/174.JPG  \n",
            "  inflating: /content/Data/7D/175.JPG  \n",
            "  inflating: /content/Data/7D/176.JPG  \n",
            "  inflating: /content/Data/7D/177.JPG  \n",
            "  inflating: /content/Data/7D/178.JPG  \n",
            "  inflating: /content/Data/7D/179.JPG  \n",
            "  inflating: /content/Data/7D/18.JPG  \n",
            "  inflating: /content/Data/7D/180.JPG  \n",
            "  inflating: /content/Data/7D/181.JPG  \n",
            "  inflating: /content/Data/7D/182.JPG  \n",
            "  inflating: /content/Data/7D/183.JPG  \n",
            "  inflating: /content/Data/7D/184.JPG  \n",
            "  inflating: /content/Data/7D/185.JPG  \n",
            "  inflating: /content/Data/7D/186.JPG  \n",
            "  inflating: /content/Data/7D/187.JPG  \n",
            "  inflating: /content/Data/7D/188.JPG  \n",
            "  inflating: /content/Data/7D/189.JPG  \n",
            "  inflating: /content/Data/7D/19.JPG  \n",
            "  inflating: /content/Data/7D/190.JPG  \n",
            "  inflating: /content/Data/7D/191.JPG  \n",
            "  inflating: /content/Data/7D/192.JPG  \n",
            "  inflating: /content/Data/7D/193.JPG  \n",
            "  inflating: /content/Data/7D/194.JPG  \n",
            "  inflating: /content/Data/7D/195.JPG  \n",
            "  inflating: /content/Data/7D/196.JPG  \n",
            "  inflating: /content/Data/7D/197.JPG  \n",
            "  inflating: /content/Data/7D/198.JPG  \n",
            "  inflating: /content/Data/7D/199.JPG  \n",
            "  inflating: /content/Data/7D/2.JPG  \n",
            "  inflating: /content/Data/7D/20.JPG  \n",
            "  inflating: /content/Data/7D/200.JPG  \n",
            "  inflating: /content/Data/7D/201.JPG  \n",
            "  inflating: /content/Data/7D/202.JPG  \n",
            "  inflating: /content/Data/7D/203.JPG  \n",
            "  inflating: /content/Data/7D/204.JPG  \n",
            "  inflating: /content/Data/7D/205.JPG  \n",
            "  inflating: /content/Data/7D/206.JPG  \n",
            "  inflating: /content/Data/7D/207.JPG  \n",
            "  inflating: /content/Data/7D/208.JPG  \n",
            "  inflating: /content/Data/7D/209.JPG  \n",
            "  inflating: /content/Data/7D/21.JPG  \n",
            "  inflating: /content/Data/7D/210.JPG  \n",
            "  inflating: /content/Data/7D/211.JPG  \n",
            "  inflating: /content/Data/7D/212.JPG  \n",
            "  inflating: /content/Data/7D/213.JPG  \n",
            "  inflating: /content/Data/7D/214.JPG  \n",
            "  inflating: /content/Data/7D/215.JPG  \n",
            "  inflating: /content/Data/7D/22.JPG  \n",
            "  inflating: /content/Data/7D/23.JPG  \n",
            "  inflating: /content/Data/7D/24.JPG  \n",
            "  inflating: /content/Data/7D/25.JPG  \n",
            "  inflating: /content/Data/7D/26.JPG  \n",
            "  inflating: /content/Data/7D/27.JPG  \n",
            "  inflating: /content/Data/7D/28.JPG  \n",
            "  inflating: /content/Data/7D/29.JPG  \n",
            "  inflating: /content/Data/7D/3.JPG  \n",
            "  inflating: /content/Data/7D/30.JPG  \n",
            "  inflating: /content/Data/7D/31.JPG  \n",
            "  inflating: /content/Data/7D/32.JPG  \n",
            "  inflating: /content/Data/7D/33.JPG  \n",
            "  inflating: /content/Data/7D/34.JPG  \n",
            "  inflating: /content/Data/7D/35.JPG  \n",
            "  inflating: /content/Data/7D/36.JPG  \n",
            "  inflating: /content/Data/7D/37.JPG  \n",
            "  inflating: /content/Data/7D/38.JPG  \n",
            "  inflating: /content/Data/7D/39.JPG  \n",
            "  inflating: /content/Data/7D/4.JPG  \n",
            "  inflating: /content/Data/7D/40.JPG  \n",
            "  inflating: /content/Data/7D/41.JPG  \n",
            "  inflating: /content/Data/7D/42.JPG  \n",
            "  inflating: /content/Data/7D/43.JPG  \n",
            "  inflating: /content/Data/7D/44.JPG  \n",
            "  inflating: /content/Data/7D/45.JPG  \n",
            "  inflating: /content/Data/7D/46.JPG  \n",
            "  inflating: /content/Data/7D/47.JPG  \n",
            "  inflating: /content/Data/7D/48.JPG  \n",
            "  inflating: /content/Data/7D/49.JPG  \n",
            "  inflating: /content/Data/7D/5.JPG  \n",
            "  inflating: /content/Data/7D/50.JPG  \n",
            "  inflating: /content/Data/7D/51.JPG  \n",
            "  inflating: /content/Data/7D/52.JPG  \n",
            "  inflating: /content/Data/7D/53.JPG  \n",
            "  inflating: /content/Data/7D/54.JPG  \n",
            "  inflating: /content/Data/7D/55.JPG  \n",
            "  inflating: /content/Data/7D/56.JPG  \n",
            "  inflating: /content/Data/7D/57.JPG  \n",
            "  inflating: /content/Data/7D/58.JPG  \n",
            "  inflating: /content/Data/7D/59.JPG  \n",
            "  inflating: /content/Data/7D/6.JPG  \n",
            "  inflating: /content/Data/7D/60.JPG  \n",
            "  inflating: /content/Data/7D/61.JPG  \n",
            "  inflating: /content/Data/7D/62.JPG  \n",
            "  inflating: /content/Data/7D/63.JPG  \n",
            "  inflating: /content/Data/7D/64.JPG  \n",
            "  inflating: /content/Data/7D/65.JPG  \n",
            "  inflating: /content/Data/7D/66.JPG  \n",
            "  inflating: /content/Data/7D/67.JPG  \n",
            "  inflating: /content/Data/7D/68.JPG  \n",
            "  inflating: /content/Data/7D/69.JPG  \n",
            "  inflating: /content/Data/7D/7.JPG  \n",
            "  inflating: /content/Data/7D/70.JPG  \n",
            "  inflating: /content/Data/7D/71.JPG  \n",
            "  inflating: /content/Data/7D/72.JPG  \n",
            "  inflating: /content/Data/7D/73.JPG  \n",
            "  inflating: /content/Data/7D/74.JPG  \n",
            "  inflating: /content/Data/7D/75.JPG  \n",
            "  inflating: /content/Data/7D/76.JPG  \n",
            "  inflating: /content/Data/7D/77.JPG  \n",
            "  inflating: /content/Data/7D/78.JPG  \n",
            "  inflating: /content/Data/7D/79.JPG  \n",
            "  inflating: /content/Data/7D/8.JPG  \n",
            "  inflating: /content/Data/7D/80.JPG  \n",
            "  inflating: /content/Data/7D/81.JPG  \n",
            "  inflating: /content/Data/7D/82.JPG  \n",
            "  inflating: /content/Data/7D/83.JPG  \n",
            "  inflating: /content/Data/7D/84.JPG  \n",
            "  inflating: /content/Data/7D/85.JPG  \n",
            "  inflating: /content/Data/7D/86.JPG  \n",
            "  inflating: /content/Data/7D/87.JPG  \n",
            "  inflating: /content/Data/7D/88.JPG  \n",
            "  inflating: /content/Data/7D/89.JPG  \n",
            "  inflating: /content/Data/7D/9.JPG  \n",
            "  inflating: /content/Data/7D/90.JPG  \n",
            "  inflating: /content/Data/7D/91.JPG  \n",
            "  inflating: /content/Data/7D/92.JPG  \n",
            "  inflating: /content/Data/7D/93.JPG  \n",
            "  inflating: /content/Data/7D/94.JPG  \n",
            "  inflating: /content/Data/7D/95.JPG  \n",
            "  inflating: /content/Data/7D/96.JPG  \n",
            "  inflating: /content/Data/7D/97.JPG  \n",
            "  inflating: /content/Data/7D/98.JPG  \n",
            "  inflating: /content/Data/7D/99.JPG  \n",
            "   creating: /content/Data/8D/\n",
            "  inflating: /content/Data/8D/1.JPG  \n",
            "  inflating: /content/Data/8D/10.JPG  \n",
            "  inflating: /content/Data/8D/100.JPG  \n",
            "  inflating: /content/Data/8D/101.JPG  \n",
            "  inflating: /content/Data/8D/102.JPG  \n",
            "  inflating: /content/Data/8D/103.JPG  \n",
            "  inflating: /content/Data/8D/104.JPG  \n",
            "  inflating: /content/Data/8D/105.JPG  \n",
            "  inflating: /content/Data/8D/106.JPG  \n",
            "  inflating: /content/Data/8D/107.JPG  \n",
            "  inflating: /content/Data/8D/108.JPG  \n",
            "  inflating: /content/Data/8D/109.JPG  \n",
            "  inflating: /content/Data/8D/11.JPG  \n",
            "  inflating: /content/Data/8D/110.JPG  \n",
            "  inflating: /content/Data/8D/111.JPG  \n",
            "  inflating: /content/Data/8D/112.JPG  \n",
            "  inflating: /content/Data/8D/113.JPG  \n",
            "  inflating: /content/Data/8D/114.JPG  \n",
            "  inflating: /content/Data/8D/115.JPG  \n",
            "  inflating: /content/Data/8D/116.JPG  \n",
            "  inflating: /content/Data/8D/117.JPG  \n",
            "  inflating: /content/Data/8D/118.JPG  \n",
            "  inflating: /content/Data/8D/119.JPG  \n",
            "  inflating: /content/Data/8D/12.JPG  \n",
            "  inflating: /content/Data/8D/120.JPG  \n",
            "  inflating: /content/Data/8D/121.JPG  \n",
            "  inflating: /content/Data/8D/122.JPG  \n",
            "  inflating: /content/Data/8D/123.JPG  \n",
            "  inflating: /content/Data/8D/124.JPG  \n",
            "  inflating: /content/Data/8D/125.JPG  \n",
            "  inflating: /content/Data/8D/126.JPG  \n",
            "  inflating: /content/Data/8D/127.JPG  \n",
            "  inflating: /content/Data/8D/128.JPG  \n",
            "  inflating: /content/Data/8D/129.JPG  \n",
            "  inflating: /content/Data/8D/13.JPG  \n",
            "  inflating: /content/Data/8D/130.JPG  \n",
            "  inflating: /content/Data/8D/131.JPG  \n",
            "  inflating: /content/Data/8D/132.JPG  \n",
            "  inflating: /content/Data/8D/133.JPG  \n",
            "  inflating: /content/Data/8D/134.JPG  \n",
            "  inflating: /content/Data/8D/135.JPG  \n",
            "  inflating: /content/Data/8D/136.JPG  \n",
            "  inflating: /content/Data/8D/137.JPG  \n",
            "  inflating: /content/Data/8D/138.JPG  \n",
            "  inflating: /content/Data/8D/139.JPG  \n",
            "  inflating: /content/Data/8D/14.JPG  \n",
            "  inflating: /content/Data/8D/140.JPG  \n",
            "  inflating: /content/Data/8D/141.JPG  \n",
            "  inflating: /content/Data/8D/142.JPG  \n",
            "  inflating: /content/Data/8D/143.JPG  \n",
            "  inflating: /content/Data/8D/144.JPG  \n",
            "  inflating: /content/Data/8D/145.JPG  \n",
            "  inflating: /content/Data/8D/146.JPG  \n",
            "  inflating: /content/Data/8D/147.JPG  \n",
            "  inflating: /content/Data/8D/148.JPG  \n",
            "  inflating: /content/Data/8D/149.JPG  \n",
            "  inflating: /content/Data/8D/15.JPG  \n",
            "  inflating: /content/Data/8D/150.JPG  \n",
            "  inflating: /content/Data/8D/151.JPG  \n",
            "  inflating: /content/Data/8D/152.JPG  \n",
            "  inflating: /content/Data/8D/153.JPG  \n",
            "  inflating: /content/Data/8D/154.JPG  \n",
            "  inflating: /content/Data/8D/155.JPG  \n",
            "  inflating: /content/Data/8D/156.JPG  \n",
            "  inflating: /content/Data/8D/157.JPG  \n",
            "  inflating: /content/Data/8D/158.JPG  \n",
            "  inflating: /content/Data/8D/159.JPG  \n",
            "  inflating: /content/Data/8D/16.JPG  \n",
            "  inflating: /content/Data/8D/160.JPG  \n",
            "  inflating: /content/Data/8D/161.JPG  \n",
            "  inflating: /content/Data/8D/162.JPG  \n",
            "  inflating: /content/Data/8D/163.JPG  \n",
            "  inflating: /content/Data/8D/164.JPG  \n",
            "  inflating: /content/Data/8D/165.JPG  \n",
            "  inflating: /content/Data/8D/166.JPG  \n",
            "  inflating: /content/Data/8D/167.JPG  \n",
            "  inflating: /content/Data/8D/168.JPG  \n",
            "  inflating: /content/Data/8D/169.JPG  \n",
            "  inflating: /content/Data/8D/17.JPG  \n",
            "  inflating: /content/Data/8D/170.JPG  \n",
            "  inflating: /content/Data/8D/171.JPG  \n",
            "  inflating: /content/Data/8D/172.JPG  \n",
            "  inflating: /content/Data/8D/173.JPG  \n",
            "  inflating: /content/Data/8D/174.JPG  \n",
            "  inflating: /content/Data/8D/175.JPG  \n",
            "  inflating: /content/Data/8D/176.JPG  \n",
            "  inflating: /content/Data/8D/177.JPG  \n",
            "  inflating: /content/Data/8D/178.JPG  \n",
            "  inflating: /content/Data/8D/179.JPG  \n",
            "  inflating: /content/Data/8D/18.JPG  \n",
            "  inflating: /content/Data/8D/180.JPG  \n",
            "  inflating: /content/Data/8D/181.JPG  \n",
            "  inflating: /content/Data/8D/182.JPG  \n",
            "  inflating: /content/Data/8D/183.JPG  \n",
            "  inflating: /content/Data/8D/184.JPG  \n",
            "  inflating: /content/Data/8D/185.JPG  \n",
            "  inflating: /content/Data/8D/186.JPG  \n",
            "  inflating: /content/Data/8D/187.JPG  \n",
            "  inflating: /content/Data/8D/188.JPG  \n",
            "  inflating: /content/Data/8D/189.JPG  \n",
            "  inflating: /content/Data/8D/19.JPG  \n",
            "  inflating: /content/Data/8D/190.JPG  \n",
            "  inflating: /content/Data/8D/191.JPG  \n",
            "  inflating: /content/Data/8D/192.JPG  \n",
            "  inflating: /content/Data/8D/193.JPG  \n",
            "  inflating: /content/Data/8D/194.JPG  \n",
            "  inflating: /content/Data/8D/195.JPG  \n",
            "  inflating: /content/Data/8D/196.JPG  \n",
            "  inflating: /content/Data/8D/197.JPG  \n",
            "  inflating: /content/Data/8D/198.JPG  \n",
            "  inflating: /content/Data/8D/199.JPG  \n",
            "  inflating: /content/Data/8D/2.JPG  \n",
            "  inflating: /content/Data/8D/20.JPG  \n",
            "  inflating: /content/Data/8D/200.JPG  \n",
            "  inflating: /content/Data/8D/201.JPG  \n",
            "  inflating: /content/Data/8D/202.JPG  \n",
            "  inflating: /content/Data/8D/203.JPG  \n",
            "  inflating: /content/Data/8D/204.JPG  \n",
            "  inflating: /content/Data/8D/205.JPG  \n",
            "  inflating: /content/Data/8D/206.JPG  \n",
            "  inflating: /content/Data/8D/207.JPG  \n",
            "  inflating: /content/Data/8D/208.JPG  \n",
            "  inflating: /content/Data/8D/209.JPG  \n",
            "  inflating: /content/Data/8D/21.JPG  \n",
            "  inflating: /content/Data/8D/210.JPG  \n",
            "  inflating: /content/Data/8D/211.JPG  \n",
            "  inflating: /content/Data/8D/212.JPG  \n",
            "  inflating: /content/Data/8D/213.JPG  \n",
            "  inflating: /content/Data/8D/214.JPG  \n",
            "  inflating: /content/Data/8D/215.JPG  \n",
            "  inflating: /content/Data/8D/216.JPG  \n",
            "  inflating: /content/Data/8D/217.JPG  \n",
            "  inflating: /content/Data/8D/218.JPG  \n",
            "  inflating: /content/Data/8D/219.JPG  \n",
            "  inflating: /content/Data/8D/22.JPG  \n",
            "  inflating: /content/Data/8D/220.JPG  \n",
            "  inflating: /content/Data/8D/221.JPG  \n",
            "  inflating: /content/Data/8D/222.JPG  \n",
            "  inflating: /content/Data/8D/223.JPG  \n",
            "  inflating: /content/Data/8D/224.JPG  \n",
            "  inflating: /content/Data/8D/225.JPG  \n",
            "  inflating: /content/Data/8D/23.JPG  \n",
            "  inflating: /content/Data/8D/24.JPG  \n",
            "  inflating: /content/Data/8D/25.JPG  \n",
            "  inflating: /content/Data/8D/26.JPG  \n",
            "  inflating: /content/Data/8D/27.JPG  \n",
            "  inflating: /content/Data/8D/28.JPG  \n",
            "  inflating: /content/Data/8D/29.JPG  \n",
            "  inflating: /content/Data/8D/3.JPG  \n",
            "  inflating: /content/Data/8D/30.JPG  \n",
            "  inflating: /content/Data/8D/31.JPG  \n",
            "  inflating: /content/Data/8D/32.JPG  \n",
            "  inflating: /content/Data/8D/33.JPG  \n",
            "  inflating: /content/Data/8D/34.JPG  \n",
            "  inflating: /content/Data/8D/35.JPG  \n",
            "  inflating: /content/Data/8D/36.JPG  \n",
            "  inflating: /content/Data/8D/37.JPG  \n",
            "  inflating: /content/Data/8D/38.JPG  \n",
            "  inflating: /content/Data/8D/39.JPG  \n",
            "  inflating: /content/Data/8D/4.JPG  \n",
            "  inflating: /content/Data/8D/40.JPG  \n",
            "  inflating: /content/Data/8D/41.JPG  \n",
            "  inflating: /content/Data/8D/42.JPG  \n",
            "  inflating: /content/Data/8D/43.JPG  \n",
            "  inflating: /content/Data/8D/44.JPG  \n",
            "  inflating: /content/Data/8D/45.JPG  \n",
            "  inflating: /content/Data/8D/46.JPG  \n",
            "  inflating: /content/Data/8D/47.JPG  \n",
            "  inflating: /content/Data/8D/48.JPG  \n",
            "  inflating: /content/Data/8D/49.JPG  \n",
            "  inflating: /content/Data/8D/5.JPG  \n",
            "  inflating: /content/Data/8D/50.JPG  \n",
            "  inflating: /content/Data/8D/51.JPG  \n",
            "  inflating: /content/Data/8D/52.JPG  \n",
            "  inflating: /content/Data/8D/53.JPG  \n",
            "  inflating: /content/Data/8D/54.JPG  \n",
            "  inflating: /content/Data/8D/55.JPG  \n",
            "  inflating: /content/Data/8D/56.JPG  \n",
            "  inflating: /content/Data/8D/57.JPG  \n",
            "  inflating: /content/Data/8D/58.JPG  \n",
            "  inflating: /content/Data/8D/59.JPG  \n",
            "  inflating: /content/Data/8D/6.JPG  \n",
            "  inflating: /content/Data/8D/60.JPG  \n",
            "  inflating: /content/Data/8D/61.JPG  \n",
            "  inflating: /content/Data/8D/62.JPG  \n",
            "  inflating: /content/Data/8D/63.JPG  \n",
            "  inflating: /content/Data/8D/64.JPG  \n",
            "  inflating: /content/Data/8D/65.JPG  \n",
            "  inflating: /content/Data/8D/66.JPG  \n",
            "  inflating: /content/Data/8D/67.JPG  \n",
            "  inflating: /content/Data/8D/68.JPG  \n",
            "  inflating: /content/Data/8D/69.JPG  \n",
            "  inflating: /content/Data/8D/7.JPG  \n",
            "  inflating: /content/Data/8D/70.JPG  \n",
            "  inflating: /content/Data/8D/71.JPG  \n",
            "  inflating: /content/Data/8D/72.JPG  \n",
            "  inflating: /content/Data/8D/73.JPG  \n",
            "  inflating: /content/Data/8D/74.JPG  \n",
            "  inflating: /content/Data/8D/75.JPG  \n",
            "  inflating: /content/Data/8D/76.JPG  \n",
            "  inflating: /content/Data/8D/77.JPG  \n",
            "  inflating: /content/Data/8D/78.JPG  \n",
            "  inflating: /content/Data/8D/79.JPG  \n",
            "  inflating: /content/Data/8D/8.JPG  \n",
            "  inflating: /content/Data/8D/80.JPG  \n",
            "  inflating: /content/Data/8D/81.JPG  \n",
            "  inflating: /content/Data/8D/82.JPG  \n",
            "  inflating: /content/Data/8D/83.JPG  \n",
            "  inflating: /content/Data/8D/84.JPG  \n",
            "  inflating: /content/Data/8D/85.JPG  \n",
            "  inflating: /content/Data/8D/86.JPG  \n",
            "  inflating: /content/Data/8D/87.JPG  \n",
            "  inflating: /content/Data/8D/88.JPG  \n",
            "  inflating: /content/Data/8D/89.JPG  \n",
            "  inflating: /content/Data/8D/9.JPG  \n",
            "  inflating: /content/Data/8D/90.JPG  \n",
            "  inflating: /content/Data/8D/91.JPG  \n",
            "  inflating: /content/Data/8D/92.JPG  \n",
            "  inflating: /content/Data/8D/93.JPG  \n",
            "  inflating: /content/Data/8D/94.JPG  \n",
            "  inflating: /content/Data/8D/95.JPG  \n",
            "  inflating: /content/Data/8D/96.JPG  \n",
            "  inflating: /content/Data/8D/97.JPG  \n",
            "  inflating: /content/Data/8D/98.JPG  \n",
            "  inflating: /content/Data/8D/99.JPG  \n",
            "   creating: /content/Data/9D/\n",
            " extracting: /content/Data/9D/001.PNG  \n",
            " extracting: /content/Data/9D/002.PNG  \n",
            " extracting: /content/Data/9D/003.PNG  \n",
            " extracting: /content/Data/9D/004.PNG  \n",
            " extracting: /content/Data/9D/005.PNG  \n",
            " extracting: /content/Data/9D/006.PNG  \n",
            " extracting: /content/Data/9D/007.PNG  \n",
            " extracting: /content/Data/9D/008.PNG  \n",
            " extracting: /content/Data/9D/009.PNG  \n",
            " extracting: /content/Data/9D/010.PNG  \n",
            " extracting: /content/Data/9D/011.PNG  \n",
            " extracting: /content/Data/9D/012.PNG  \n",
            " extracting: /content/Data/9D/013.PNG  \n",
            " extracting: /content/Data/9D/014.PNG  \n",
            " extracting: /content/Data/9D/015.PNG  \n",
            " extracting: /content/Data/9D/016.PNG  \n",
            " extracting: /content/Data/9D/017.PNG  \n",
            " extracting: /content/Data/9D/018.PNG  \n",
            " extracting: /content/Data/9D/019.PNG  \n",
            " extracting: /content/Data/9D/020.PNG  \n",
            "  inflating: /content/Data/9D/101.PNG  \n",
            "  inflating: /content/Data/9D/102.PNG  \n",
            " extracting: /content/Data/9D/103.PNG  \n",
            " extracting: /content/Data/9D/104.PNG  \n",
            " extracting: /content/Data/9D/105.PNG  \n",
            " extracting: /content/Data/9D/106.PNG  \n",
            "  inflating: /content/Data/9D/107.PNG  \n",
            " extracting: /content/Data/9D/108.PNG  \n",
            " extracting: /content/Data/9D/109.PNG  \n",
            "  inflating: /content/Data/9D/110.PNG  \n",
            "  inflating: /content/Data/9D/111.PNG  \n",
            " extracting: /content/Data/9D/112.PNG  \n",
            "  inflating: /content/Data/9D/113.PNG  \n",
            "  inflating: /content/Data/9D/114.PNG  \n",
            " extracting: /content/Data/9D/115.PNG  \n",
            "  inflating: /content/Data/9D/116.PNG  \n",
            " extracting: /content/Data/9D/117.PNG  \n",
            "  inflating: /content/Data/9D/118.PNG  \n",
            "  inflating: /content/Data/9D/119.PNG  \n",
            "  inflating: /content/Data/9D/120.PNG  \n",
            "  inflating: /content/Data/9D/121.PNG  \n",
            "  inflating: /content/Data/9D/122.PNG  \n",
            " extracting: /content/Data/9D/201.PNG  \n",
            "  inflating: /content/Data/9D/202.PNG  \n",
            " extracting: /content/Data/9D/203.PNG  \n",
            " extracting: /content/Data/9D/204.PNG  \n",
            " extracting: /content/Data/9D/205.PNG  \n",
            "  inflating: /content/Data/9D/206.PNG  \n",
            "  inflating: /content/Data/9D/207.PNG  \n",
            " extracting: /content/Data/9D/208.PNG  \n",
            " extracting: /content/Data/9D/209.PNG  \n",
            "  inflating: /content/Data/9D/210.PNG  \n",
            "  inflating: /content/Data/9D/211.PNG  \n",
            "  inflating: /content/Data/9D/212.PNG  \n",
            "  inflating: /content/Data/9D/213.PNG  \n",
            "  inflating: /content/Data/9D/214.PNG  \n",
            "  inflating: /content/Data/9D/215.PNG  \n",
            "  inflating: /content/Data/9D/216.PNG  \n",
            " extracting: /content/Data/9D/217.PNG  \n",
            " extracting: /content/Data/9D/218.PNG  \n",
            " extracting: /content/Data/9D/219.PNG  \n",
            " extracting: /content/Data/9D/220.PNG  \n",
            " extracting: /content/Data/9D/221.PNG  \n",
            " extracting: /content/Data/9D/301.PNG  \n",
            "  inflating: /content/Data/9D/302.PNG  \n",
            "  inflating: /content/Data/9D/303.PNG  \n",
            " extracting: /content/Data/9D/304.PNG  \n",
            " extracting: /content/Data/9D/305.PNG  \n",
            " extracting: /content/Data/9D/306.PNG  \n",
            " extracting: /content/Data/9D/307.PNG  \n",
            " extracting: /content/Data/9D/308.PNG  \n",
            " extracting: /content/Data/9D/401.PNG  \n",
            " extracting: /content/Data/9D/402.PNG  \n",
            " extracting: /content/Data/9D/403.PNG  \n",
            " extracting: /content/Data/9D/404.PNG  \n",
            " extracting: /content/Data/9D/405.PNG  \n",
            " extracting: /content/Data/9D/406.PNG  \n",
            " extracting: /content/Data/9D/407.PNG  \n",
            " extracting: /content/Data/9D/408.PNG  \n",
            " extracting: /content/Data/9D/409.PNG  \n",
            " extracting: /content/Data/9D/410.PNG  \n",
            " extracting: /content/Data/9D/411.PNG  \n",
            " extracting: /content/Data/9D/412.PNG  \n",
            " extracting: /content/Data/9D/413.PNG  \n",
            " extracting: /content/Data/9D/414.PNG  \n",
            " extracting: /content/Data/9D/415.PNG  \n",
            " extracting: /content/Data/9D/416.PNG  \n",
            " extracting: /content/Data/9D/417.PNG  \n",
            " extracting: /content/Data/9D/418a.PNG  \n",
            " extracting: /content/Data/9D/418b.PNG  \n",
            " extracting: /content/Data/9D/419.PNG  \n",
            " extracting: /content/Data/9D/420.PNG  \n",
            " extracting: /content/Data/9D/421.PNG  \n",
            " extracting: /content/Data/9D/422.PNG  \n",
            " extracting: /content/Data/9D/501.PNG  \n",
            " extracting: /content/Data/9D/502.PNG  \n",
            " extracting: /content/Data/9D/503.PNG  \n",
            " extracting: /content/Data/9D/504.PNG  \n",
            " extracting: /content/Data/9D/505a.PNG  \n",
            " extracting: /content/Data/9D/505b.PNG  \n",
            " extracting: /content/Data/9D/506.PNG  \n",
            " extracting: /content/Data/9D/507.PNG  \n",
            " extracting: /content/Data/9D/508.PNG  \n",
            " extracting: /content/Data/9D/509.PNG  \n",
            " extracting: /content/Data/9D/510a.PNG  \n",
            " extracting: /content/Data/9D/510b.PNG  \n",
            " extracting: /content/Data/9D/511.PNG  \n",
            " extracting: /content/Data/9D/512.PNG  \n",
            "  inflating: /content/Data/9D/513.PNG  \n",
            " extracting: /content/Data/9D/514.PNG  \n",
            " extracting: /content/Data/9D/601.PNG  \n",
            " extracting: /content/Data/9D/602.PNG  \n",
            " extracting: /content/Data/9D/603.PNG  \n",
            " extracting: /content/Data/9D/604.PNG  \n",
            " extracting: /content/Data/9D/605.PNG  \n",
            " extracting: /content/Data/9D/606.PNG  \n",
            " extracting: /content/Data/9D/607.PNG  \n",
            " extracting: /content/Data/9D/608.PNG  \n",
            " extracting: /content/Data/9D/609.PNG  \n",
            " extracting: /content/Data/9D/610.PNG  \n",
            " extracting: /content/Data/9D/611.PNG  \n",
            " extracting: /content/Data/9D/612.PNG  \n",
            " extracting: /content/Data/9D/613.PNG  \n",
            " extracting: /content/Data/9D/614.PNG  \n",
            " extracting: /content/Data/9D/615.PNG  \n",
            " extracting: /content/Data/9D/616.PNG  \n",
            " extracting: /content/Data/9D/617.PNG  \n",
            " extracting: /content/Data/9D/618.PNG  \n",
            " extracting: /content/Data/9D/619.PNG  \n",
            " extracting: /content/Data/9D/620.PNG  \n",
            " extracting: /content/Data/9D/621.PNG  \n",
            " extracting: /content/Data/9D/701.PNG  \n",
            " extracting: /content/Data/9D/702.PNG  \n",
            " extracting: /content/Data/9D/703.PNG  \n",
            " extracting: /content/Data/9D/704.PNG  \n",
            " extracting: /content/Data/9D/705.PNG  \n",
            " extracting: /content/Data/9D/706.PNG  \n",
            "  inflating: /content/Data/9D/707.PNG  \n",
            " extracting: /content/Data/9D/708.PNG  \n",
            " extracting: /content/Data/9D/801.PNG  \n",
            " extracting: /content/Data/9D/802.PNG  \n",
            " extracting: /content/Data/9D/803.PNG  \n",
            " extracting: /content/Data/9D/804.PNG  \n",
            " extracting: /content/Data/9D/805.PNG  \n",
            " extracting: /content/Data/9D/806.PNG  \n",
            " extracting: /content/Data/9D/807.PNG  \n",
            " extracting: /content/Data/9D/808.PNG  \n",
            " extracting: /content/Data/9D/809.PNG  \n",
            " extracting: /content/Data/9D/810.PNG  \n",
            " extracting: /content/Data/9D/811.PNG  \n",
            " extracting: /content/Data/9D/812.PNG  \n",
            " extracting: /content/Data/9D/813.PNG  \n",
            " extracting: /content/Data/9D/814.PNG  \n",
            " extracting: /content/Data/9D/815.PNG  \n",
            " extracting: /content/Data/9D/816.PNG  \n",
            " extracting: /content/Data/9D/817.PNG  \n",
            " extracting: /content/Data/9D/818a.PNG  \n",
            " extracting: /content/Data/9D/818b.PNG  \n",
            " extracting: /content/Data/9D/819.PNG  \n",
            " extracting: /content/Data/9D/820.PNG  \n",
            " extracting: /content/Data/9D/821.PNG  \n",
            " extracting: /content/Data/9D/822.PNG  \n",
            " extracting: /content/Data/9D/901.PNG  \n",
            " extracting: /content/Data/9D/902.PNG  \n",
            " extracting: /content/Data/9D/903.PNG  \n",
            " extracting: /content/Data/9D/904.PNG  \n",
            " extracting: /content/Data/9D/905a.PNG  \n",
            " extracting: /content/Data/9D/905b.PNG  \n",
            " extracting: /content/Data/9D/906.PNG  \n",
            " extracting: /content/Data/9D/907.PNG  \n",
            " extracting: /content/Data/9D/908.PNG  \n",
            " extracting: /content/Data/9D/909.PNG  \n",
            " extracting: /content/Data/9D/910a.PNG  \n",
            " extracting: /content/Data/9D/910b.PNG  \n",
            " extracting: /content/Data/9D/911.PNG  \n",
            " extracting: /content/Data/9D/912.PNG  \n",
            " extracting: /content/Data/9D/913.PNG  \n",
            " extracting: /content/Data/9D/914.PNG  \n"
          ],
          "name": "stdout"
        }
      ]
    },
    {
      "cell_type": "code",
      "metadata": {
        "id": "VZdzeUmpnNB0"
      },
      "source": [
        "data_train = pd.read_csv('drive/MyDrive/Colab_Notebooks/Handwriting_Classification/dat.csv')"
      ],
      "execution_count": null,
      "outputs": []
    },
    {
      "cell_type": "code",
      "metadata": {
        "colab": {
          "base_uri": "https://localhost:8080/",
          "height": 406
        },
        "id": "NBh8tYkRoA4T",
        "outputId": "0ba777ad-7a9b-45ba-d1cd-60f87e4eada8"
      },
      "source": [
        "data_train"
      ],
      "execution_count": null,
      "outputs": [
        {
          "output_type": "execute_result",
          "data": {
            "text/html": [
              "<div>\n",
              "<style scoped>\n",
              "    .dataframe tbody tr th:only-of-type {\n",
              "        vertical-align: middle;\n",
              "    }\n",
              "\n",
              "    .dataframe tbody tr th {\n",
              "        vertical-align: top;\n",
              "    }\n",
              "\n",
              "    .dataframe thead th {\n",
              "        text-align: right;\n",
              "    }\n",
              "</style>\n",
              "<table border=\"1\" class=\"dataframe\">\n",
              "  <thead>\n",
              "    <tr style=\"text-align: right;\">\n",
              "      <th></th>\n",
              "      <th>image</th>\n",
              "      <th>label</th>\n",
              "    </tr>\n",
              "  </thead>\n",
              "  <tbody>\n",
              "    <tr>\n",
              "      <th>0</th>\n",
              "      <td>Data/1D/Capture1.JPG</td>\n",
              "      <td>1</td>\n",
              "    </tr>\n",
              "    <tr>\n",
              "      <th>1</th>\n",
              "      <td>Data/1D/Capture10.JPG</td>\n",
              "      <td>1</td>\n",
              "    </tr>\n",
              "    <tr>\n",
              "      <th>2</th>\n",
              "      <td>Data/1D/Capture100.JPG</td>\n",
              "      <td>1</td>\n",
              "    </tr>\n",
              "    <tr>\n",
              "      <th>3</th>\n",
              "      <td>Data/1D/Capture101.JPG</td>\n",
              "      <td>1</td>\n",
              "    </tr>\n",
              "    <tr>\n",
              "      <th>4</th>\n",
              "      <td>Data/1D/Capture102.JPG</td>\n",
              "      <td>1</td>\n",
              "    </tr>\n",
              "    <tr>\n",
              "      <th>...</th>\n",
              "      <td>...</td>\n",
              "      <td>...</td>\n",
              "    </tr>\n",
              "    <tr>\n",
              "      <th>1877</th>\n",
              "      <td>Data/10D/919.PNG</td>\n",
              "      <td>10</td>\n",
              "    </tr>\n",
              "    <tr>\n",
              "      <th>1878</th>\n",
              "      <td>Data/10D/920.PNG</td>\n",
              "      <td>10</td>\n",
              "    </tr>\n",
              "    <tr>\n",
              "      <th>1879</th>\n",
              "      <td>Data/10D/921.PNG</td>\n",
              "      <td>10</td>\n",
              "    </tr>\n",
              "    <tr>\n",
              "      <th>1880</th>\n",
              "      <td>Data/10D/922.PNG</td>\n",
              "      <td>10</td>\n",
              "    </tr>\n",
              "    <tr>\n",
              "      <th>1881</th>\n",
              "      <td>Data/10D/923.PNG</td>\n",
              "      <td>10</td>\n",
              "    </tr>\n",
              "  </tbody>\n",
              "</table>\n",
              "<p>1882 rows × 2 columns</p>\n",
              "</div>"
            ],
            "text/plain": [
              "                       image  label\n",
              "0       Data/1D/Capture1.JPG      1\n",
              "1      Data/1D/Capture10.JPG      1\n",
              "2     Data/1D/Capture100.JPG      1\n",
              "3     Data/1D/Capture101.JPG      1\n",
              "4     Data/1D/Capture102.JPG      1\n",
              "...                      ...    ...\n",
              "1877        Data/10D/919.PNG     10\n",
              "1878        Data/10D/920.PNG     10\n",
              "1879        Data/10D/921.PNG     10\n",
              "1880        Data/10D/922.PNG     10\n",
              "1881        Data/10D/923.PNG     10\n",
              "\n",
              "[1882 rows x 2 columns]"
            ]
          },
          "metadata": {
            "tags": []
          },
          "execution_count": 8
        }
      ]
    },
    {
      "cell_type": "code",
      "metadata": {
        "colab": {
          "base_uri": "https://localhost:8080/",
          "height": 155
        },
        "id": "MKdO8wpcoOAJ",
        "outputId": "8b8bd387-1528-4211-aaad-88fa8e4fd81d"
      },
      "source": [
        "plt.figure(figsize=(15, 10))\r\n",
        "\r\n",
        "for i in range(6):\r\n",
        "    ax = plt.subplot(2, 3, i+1)\r\n",
        "    img_dir = data_train.loc[i, 'image']\r\n",
        "    image = cv2.imread(img_dir, cv2.IMREAD_GRAYSCALE)\r\n",
        "    plt.imshow(image, cmap = 'gray')\r\n",
        "    plt.title(data_train.loc[i, 'image'], fontsize=12)\r\n",
        "    plt.axis('off')\r\n",
        "\r\n",
        "plt.subplots_adjust(wspace=0.2, hspace=-0.8)"
      ],
      "execution_count": null,
      "outputs": [
        {
          "output_type": "display_data",
          "data": {
            "image/png": "[encoded data removed]",
            "text/plain": [
              "<Figure size 1080x720 with 6 Axes>"
            ]
          },
          "metadata": {
            "tags": [],
            "needs_background": "light"
          }
        }
      ]
    },
    {
      "cell_type": "code",
      "metadata": {
        "colab": {
          "base_uri": "https://localhost:8080/"
        },
        "id": "QW9_CbQmocbD",
        "outputId": "750d7568-8d58-4725-8141-66f15e001ad4"
      },
      "source": [
        "image.shape"
      ],
      "execution_count": null,
      "outputs": [
        {
          "output_type": "execute_result",
          "data": {
            "text/plain": [
              "(29, 329)"
            ]
          },
          "metadata": {
            "tags": []
          },
          "execution_count": 10
        }
      ]
    },
    {
      "cell_type": "code",
      "metadata": {
        "colab": {
          "base_uri": "https://localhost:8080/",
          "height": 138
        },
        "id": "zr2SSCD2oisA",
        "outputId": "04c68b11-b469-42e7-9207-b29a3765b704"
      },
      "source": [
        "plt.figure(figsize=(15, 2))\r\n",
        "plt.imshow(image, cmap = 'gray')\r\n",
        "plt.title(data_train.loc[i, 'image'], fontsize=12)\r\n",
        "plt.axis('off')"
      ],
      "execution_count": null,
      "outputs": [
        {
          "output_type": "execute_result",
          "data": {
            "text/plain": [
              "(-0.5, 328.5, 28.5, -0.5)"
            ]
          },
          "metadata": {
            "tags": []
          },
          "execution_count": 11
        },
        {
          "output_type": "display_data",
          "data": {
            "image/png": "[encoded data removed]",
            "text/plain": [
              "<Figure size 1080x144 with 1 Axes>"
            ]
          },
          "metadata": {
            "tags": [],
            "needs_background": "light"
          }
        }
      ]
    },
    {
      "cell_type": "code",
      "metadata": {
        "id": "0IrMy1E9olfO"
      },
      "source": [
        "def preprocess(img):\r\n",
        "    (h, w) = img.shape\r\n",
        "    \r\n",
        "    final_img = np.ones([64, 512])*255 # blank white image\r\n",
        "    \r\n",
        "    # crop\r\n",
        "    if w > 512:\r\n",
        "        img = img[:, :512]\r\n",
        "        \r\n",
        "    if h > 64:\r\n",
        "        img = img[:64, :]\r\n",
        "    \r\n",
        "\r\n",
        "    final_img[:h, :w] = img\r\n",
        "    return final_img"
      ],
      "execution_count": null,
      "outputs": []
    },
    {
      "cell_type": "code",
      "metadata": {
        "id": "IZAN6HHFoohq"
      },
      "source": [
        "data_size = 1882\r\n",
        "data_1 = []\r\n",
        "for i in range(data_size):\r\n",
        "    img_dir = data_train.loc[i, 'image']\r\n",
        "    image = cv2.imread(img_dir, cv2.IMREAD_GRAYSCALE)\r\n",
        "    image = preprocess(image)\r\n",
        "    image = image/255.\r\n",
        "    data_1.append(image)"
      ],
      "execution_count": null,
      "outputs": []
    },
    {
      "cell_type": "code",
      "metadata": {
        "id": "gTkvdO0porlv"
      },
      "source": [
        "data_size = 1882\r\n",
        "data_2 = []\r\n",
        "for i in range(data_size):\r\n",
        "    img_dir = data_train.loc[i, 'image']\r\n",
        "    image = cv2.imread(img_dir, cv2.IMREAD_GRAYSCALE)\r\n",
        "    image = cv2.resize(image, (300,30))\r\n",
        "    image = preprocess(image)\r\n",
        "    image = image/255.\r\n",
        "    data_2.append(image)"
      ],
      "execution_count": null,
      "outputs": []
    },
    {
      "cell_type": "code",
      "metadata": {
        "colab": {
          "base_uri": "https://localhost:8080/",
          "height": 170
        },
        "id": "dUgV-gzBo1HO",
        "outputId": "c137b16c-d1fa-49ce-b44e-9db300612a92"
      },
      "source": [
        "plt.figure(figsize=(15, 2))\r\n",
        "plt.imshow(data_2[1881], cmap = 'gray')\r\n",
        "plt.title(data_train.loc[i, 'image'], fontsize=12)\r\n",
        "plt.axis('off')"
      ],
      "execution_count": null,
      "outputs": [
        {
          "output_type": "execute_result",
          "data": {
            "text/plain": [
              "(-0.5, 511.5, 63.5, -0.5)"
            ]
          },
          "metadata": {
            "tags": []
          },
          "execution_count": 15
        },
        {
          "output_type": "display_data",
          "data": {
            "image/png": "[encoded data removed]",
            "text/plain": [
              "<Figure size 1080x144 with 1 Axes>"
            ]
          },
          "metadata": {
            "tags": [],
            "needs_background": "light"
          }
        }
      ]
    },
    {
      "cell_type": "code",
      "metadata": {
        "id": "1Fm711S2o6C4"
      },
      "source": [
        "data_size = 1882\r\n",
        "data_3 = []\r\n",
        "for i in range(data_size):\r\n",
        "    img_dir = data_train.loc[i, 'image']\r\n",
        "    image = cv2.imread(img_dir, cv2.IMREAD_GRAYSCALE)\r\n",
        "    image = cv2.flip(image, 0) #vertical flip\r\n",
        "    image = preprocess(image)\r\n",
        "    image = image/255.\r\n",
        "    data_3.append(image)"
      ],
      "execution_count": null,
      "outputs": []
    },
    {
      "cell_type": "code",
      "metadata": {
        "id": "cCpVhZh_o9Mw"
      },
      "source": [
        "data_size = 1882\r\n",
        "data_4 = []\r\n",
        "for i in range(data_size):\r\n",
        "    img_dir = data_train.loc[i, 'image']\r\n",
        "    image = cv2.imread(img_dir, cv2.IMREAD_GRAYSCALE)\r\n",
        "    image = cv2.flip(image, 1) #horizontal flip\r\n",
        "    image = preprocess(image)\r\n",
        "    image = image/255.\r\n",
        "    data_4.append(image)"
      ],
      "execution_count": null,
      "outputs": []
    },
    {
      "cell_type": "code",
      "metadata": {
        "id": "H6Vo0v6OpAoR"
      },
      "source": [
        "#Blurring\r\n",
        "from scipy import ndimage\r\n",
        "\r\n",
        "data_size = 1882\r\n",
        "data_5 = []\r\n",
        "for i in range(data_size):\r\n",
        "    img_dir = data_train.loc[i, 'image']\r\n",
        "    image = cv2.imread(img_dir, cv2.IMREAD_GRAYSCALE)\r\n",
        "    image = ndimage.gaussian_filter(image, sigma= 0.7)\r\n",
        "    image = preprocess(image)\r\n",
        "    image = image/255.\r\n",
        "    data_5.append(image)"
      ],
      "execution_count": null,
      "outputs": []
    },
    {
      "cell_type": "code",
      "metadata": {
        "id": "s4KVBeXgpIPe"
      },
      "source": [
        "# histogram equalization function\r\n",
        "def hist(img):\r\n",
        "    #img_to_bgr = cv2.cvtColor(img,cv2.COLOR_GRAY2BGR)\r\n",
        "    img_to_yuv = cv2.cvtColor(img,cv2.COLOR_BGR2YUV)\r\n",
        "    img_to_yuv[:,:,0] = cv2.equalizeHist(img_to_yuv[:,:,0])\r\n",
        "    hist_equalization_result = cv2.cvtColor(img_to_yuv, cv2.COLOR_YUV2BGR)\r\n",
        "    #hist_equalization_result = cv2.cvtColor(hist_equalization_result, cv2.COLOR_BGR2GRAY)\r\n",
        "    return hist_equalization_result"
      ],
      "execution_count": null,
      "outputs": []
    },
    {
      "cell_type": "code",
      "metadata": {
        "id": "5xw9chbBpSYo"
      },
      "source": [
        "# histogram equalization function\r\n",
        "data_size = 1882\r\n",
        "data_6 = []\r\n",
        "for i in range(data_size):\r\n",
        "    img_dir = data_train.loc[i, 'image']\r\n",
        "    image = cv2.imread(img_dir)\r\n",
        "    hist(image)\r\n",
        "    image = cv2.cvtColor(image, cv2.COLOR_BGR2GRAY)\r\n",
        "    image = preprocess(image)\r\n",
        "    image = image/255.\r\n",
        "    data_6.append(image)"
      ],
      "execution_count": null,
      "outputs": []
    },
    {
      "cell_type": "code",
      "metadata": {
        "colab": {
          "base_uri": "https://localhost:8080/"
        },
        "id": "u8zyuI0CpUvM",
        "outputId": "675faa0f-b75f-40d9-f71a-79c80372742b"
      },
      "source": [
        "data_6[1881].shape"
      ],
      "execution_count": null,
      "outputs": [
        {
          "output_type": "execute_result",
          "data": {
            "text/plain": [
              "(64, 512)"
            ]
          },
          "metadata": {
            "tags": []
          },
          "execution_count": 21
        }
      ]
    },
    {
      "cell_type": "code",
      "metadata": {
        "colab": {
          "base_uri": "https://localhost:8080/",
          "height": 170
        },
        "id": "fQ3VgFnDpXx4",
        "outputId": "c940a39e-05c4-4877-c6be-013cb2edee32"
      },
      "source": [
        "plt.figure(figsize=(15, 2))\r\n",
        "plt.imshow(data_6[1881], cmap = 'gray')\r\n",
        "plt.title(data_train.loc[i, 'image'], fontsize=12)\r\n",
        "plt.axis('off')"
      ],
      "execution_count": null,
      "outputs": [
        {
          "output_type": "execute_result",
          "data": {
            "text/plain": [
              "(-0.5, 511.5, 63.5, -0.5)"
            ]
          },
          "metadata": {
            "tags": []
          },
          "execution_count": 22
        },
        {
          "output_type": "display_data",
          "data": {
            "image/png": "[encoded data removed]",
            "text/plain": [
              "<Figure size 1080x144 with 1 Axes>"
            ]
          },
          "metadata": {
            "tags": [],
            "needs_background": "light"
          }
        }
      ]
    },
    {
      "cell_type": "code",
      "metadata": {
        "id": "rrCdnnfvpZ4h"
      },
      "source": [
        "#90 degrees clockwise rotate\r\n",
        "data_size = 1882\r\n",
        "data_7 = []\r\n",
        "for i in range(data_size):\r\n",
        "    img_dir = data_train.loc[i, 'image']\r\n",
        "    image = cv2.imread(img_dir, cv2.IMREAD_GRAYSCALE)\r\n",
        "    image = cv2.rotate(image, cv2.ROTATE_90_CLOCKWISE)\r\n",
        "    image = preprocess(image)\r\n",
        "    image = image/255.\r\n",
        "    data_7.append(image)"
      ],
      "execution_count": null,
      "outputs": []
    },
    {
      "cell_type": "code",
      "metadata": {
        "id": "RTBkOvovpdfH"
      },
      "source": [
        "#90 degrees counter clockwise rotate\r\n",
        "data_size = 1882\r\n",
        "data_8 = []\r\n",
        "for i in range(data_size):\r\n",
        "    img_dir = data_train.loc[i, 'image']\r\n",
        "    image = cv2.imread(img_dir, cv2.IMREAD_GRAYSCALE)\r\n",
        "    image = cv2.rotate(image, cv2.ROTATE_90_COUNTERCLOCKWISE)\r\n",
        "    image = preprocess(image)\r\n",
        "    image = image/255.\r\n",
        "    data_8.append(image)"
      ],
      "execution_count": null,
      "outputs": []
    },
    {
      "cell_type": "code",
      "metadata": {
        "id": "f0ClDbtdpgMm"
      },
      "source": [
        "#180 degrees counter clockwise rotate\r\n",
        "data_size = 1882\r\n",
        "data_9 = []\r\n",
        "for i in range(data_size):\r\n",
        "    img_dir = data_train.loc[i, 'image']\r\n",
        "    image = cv2.imread(img_dir, cv2.IMREAD_GRAYSCALE)\r\n",
        "    image = cv2.rotate(image, cv2.ROTATE_180)\r\n",
        "    image = preprocess(image)\r\n",
        "    image = image/255.\r\n",
        "    data_9.append(image)"
      ],
      "execution_count": null,
      "outputs": []
    },
    {
      "cell_type": "code",
      "metadata": {
        "id": "DkCSbJFYpi9O"
      },
      "source": [
        "#flip vertical and horizontal\r\n",
        "data_size = 1882\r\n",
        "data_10 = []\r\n",
        "for i in range(data_size):\r\n",
        "    img_dir = data_train.loc[i, 'image']\r\n",
        "    image = cv2.imread(img_dir, cv2.IMREAD_GRAYSCALE)\r\n",
        "    image = cv2.flip(image, -1) #vertical and horizontal flip\r\n",
        "    image = preprocess(image)\r\n",
        "    image = image/255.\r\n",
        "    data_10.append(image)"
      ],
      "execution_count": null,
      "outputs": []
    },
    {
      "cell_type": "code",
      "metadata": {
        "id": "zFa-_E1Kpn1L"
      },
      "source": [
        "data_size = 1882\r\n",
        "data_1_x = []\r\n",
        "for i in range(data_size):\r\n",
        "    img = data_1[i]\r\n",
        "    image = cv2.resize(img, (256,32))\r\n",
        "    data_1_x.append(image)\r\n",
        "data_1_x = np.asarray(data_1_x)"
      ],
      "execution_count": null,
      "outputs": []
    },
    {
      "cell_type": "code",
      "metadata": {
        "colab": {
          "base_uri": "https://localhost:8080/",
          "height": 170
        },
        "id": "xFII9VhXqFiu",
        "outputId": "c7135006-2c66-47ab-d20e-2a177cc8fa9c"
      },
      "source": [
        "plt.figure(figsize=(15, 2))\r\n",
        "plt.imshow(data_1_x[1881], cmap = 'gray')\r\n",
        "plt.title(data_train.loc[i, 'image'], fontsize=12)\r\n",
        "plt.axis('off')"
      ],
      "execution_count": null,
      "outputs": [
        {
          "output_type": "execute_result",
          "data": {
            "text/plain": [
              "(-0.5, 255.5, 31.5, -0.5)"
            ]
          },
          "metadata": {
            "tags": []
          },
          "execution_count": 28
        },
        {
          "output_type": "display_data",
          "data": {
            "image/png": "[encoded data removed]",
            "text/plain": [
              "<Figure size 1080x144 with 1 Axes>"
            ]
          },
          "metadata": {
            "tags": [],
            "needs_background": "light"
          }
        }
      ]
    },
    {
      "cell_type": "code",
      "metadata": {
        "id": "YrGCFEoRqH_P"
      },
      "source": [
        "data_size = 1882\r\n",
        "data_2_x = []\r\n",
        "for i in range(data_size):\r\n",
        "    img = data_2[i]\r\n",
        "    image = cv2.resize(img, (256,32))\r\n",
        "    data_2_x.append(image)\r\n",
        "data_2_x = np.asarray(data_2_x)"
      ],
      "execution_count": null,
      "outputs": []
    },
    {
      "cell_type": "code",
      "metadata": {
        "colab": {
          "base_uri": "https://localhost:8080/",
          "height": 170
        },
        "id": "_51vQA-DqWBU",
        "outputId": "809e5b02-725a-44c2-8601-091e1da73977"
      },
      "source": [
        "plt.figure(figsize=(15, 2))\r\n",
        "plt.imshow(data_1_x[1881], cmap = 'gray')\r\n",
        "plt.title(data_train.loc[i, 'image'], fontsize=12)\r\n",
        "plt.axis('off')"
      ],
      "execution_count": null,
      "outputs": [
        {
          "output_type": "execute_result",
          "data": {
            "text/plain": [
              "(-0.5, 255.5, 31.5, -0.5)"
            ]
          },
          "metadata": {
            "tags": []
          },
          "execution_count": 31
        },
        {
          "output_type": "display_data",
          "data": {
            "image/png": "[encoded data removed]",
            "text/plain": [
              "<Figure size 1080x144 with 1 Axes>"
            ]
          },
          "metadata": {
            "tags": [],
            "needs_background": "light"
          }
        }
      ]
    },
    {
      "cell_type": "code",
      "metadata": {
        "id": "JXVYb8v9qtb2"
      },
      "source": [
        "data_size = 1882\r\n",
        "data_3_x = []\r\n",
        "for i in range(data_size):\r\n",
        "    img = data_3[i]\r\n",
        "    image = cv2.resize(img, (256,32))\r\n",
        "    data_3_x.append(image)\r\n",
        "data_3_x = np.asarray(data_3_x)"
      ],
      "execution_count": null,
      "outputs": []
    },
    {
      "cell_type": "code",
      "metadata": {
        "id": "jAroIJv0s33p"
      },
      "source": [
        "data_size = 1882\r\n",
        "data_4_x = []\r\n",
        "for i in range(data_size):\r\n",
        "    img = data_4[i]\r\n",
        "    image = cv2.resize(img, (256,32))\r\n",
        "    data_4_x.append(image)\r\n",
        "data_4_x = np.asarray(data_4_x)"
      ],
      "execution_count": null,
      "outputs": []
    },
    {
      "cell_type": "code",
      "metadata": {
        "id": "ewCTpiJLs9Xl"
      },
      "source": [
        "data_size = 1882\r\n",
        "data_5_x = []\r\n",
        "for i in range(data_size):\r\n",
        "    img = data_5[i]\r\n",
        "    image = cv2.resize(img, (256,32))\r\n",
        "    data_5_x.append(image)\r\n",
        "data_5_x = np.asarray(data_5_x)"
      ],
      "execution_count": null,
      "outputs": []
    },
    {
      "cell_type": "code",
      "metadata": {
        "id": "ushqAWk7tC3C"
      },
      "source": [
        "data_size = 1882\r\n",
        "data_6_x = []\r\n",
        "for i in range(data_size):\r\n",
        "    img = data_6[i]\r\n",
        "    image = cv2.resize(img, (256,32))\r\n",
        "    data_6_x.append(image)\r\n",
        "data_6_x = np.asarray(data_6_x)"
      ],
      "execution_count": null,
      "outputs": []
    },
    {
      "cell_type": "code",
      "metadata": {
        "id": "T9SuKh3QtHGl"
      },
      "source": [
        "data_size = 1882\r\n",
        "data_7_x = []\r\n",
        "for i in range(data_size):\r\n",
        "    img = data_7[i]\r\n",
        "    image = cv2.resize(img, (256,32))\r\n",
        "    data_7_x.append(image)\r\n",
        "data_7_x = np.asarray(data_7_x)"
      ],
      "execution_count": null,
      "outputs": []
    },
    {
      "cell_type": "code",
      "metadata": {
        "id": "YhDzG0jWtMcq"
      },
      "source": [
        "data_size = 1882\r\n",
        "data_8_x = []\r\n",
        "for i in range(data_size):\r\n",
        "    img = data_8[i]\r\n",
        "    image = cv2.resize(img, (256,32))\r\n",
        "    data_8_x.append(image)\r\n",
        "data_8_x = np.asarray(data_8_x)"
      ],
      "execution_count": null,
      "outputs": []
    },
    {
      "cell_type": "code",
      "metadata": {
        "id": "4aeLl7ShtRq2"
      },
      "source": [
        "data_size = 1882\r\n",
        "data_9_x = []\r\n",
        "for i in range(data_size):\r\n",
        "    img = data_9[i]\r\n",
        "    image = cv2.resize(img, (256,32))\r\n",
        "    data_9_x.append(image)\r\n",
        "data_9_x = np.asarray(data_9_x)"
      ],
      "execution_count": null,
      "outputs": []
    },
    {
      "cell_type": "code",
      "metadata": {
        "id": "frf4aZFatWsU"
      },
      "source": [
        "data_size = 1882\r\n",
        "data_10_x = []\r\n",
        "for i in range(data_size):\r\n",
        "    img = data_10[i]\r\n",
        "    image = cv2.resize(img, (256,32))\r\n",
        "    data_10_x.append(image)\r\n",
        "data_10_x = np.asarray(data_10_x)"
      ],
      "execution_count": null,
      "outputs": []
    },
    {
      "cell_type": "code",
      "metadata": {
        "id": "QvQu3kVhvFSR"
      },
      "source": [
        "data_1_label = data_train['label']\r\n",
        "data_2_label = data_train['label']\r\n",
        "data_3_label = data_train['label']\r\n",
        "data_4_label = data_train['label']\r\n",
        "data_5_label = data_train['label']\r\n",
        "data_6_label = data_train['label']\r\n",
        "data_7_label = data_train['label']\r\n",
        "data_8_label = data_train['label']\r\n",
        "data_9_label = data_train['label']\r\n",
        "data_10_label = data_train['label']"
      ],
      "execution_count": null,
      "outputs": []
    },
    {
      "cell_type": "code",
      "metadata": {
        "id": "MBziBE4GtbER"
      },
      "source": [
        "data = np.concatenate((data_1_x, data_2_x, data_3_x, data_4_x, data_5_x, data_6_x, data_7_x, data_8_x, data_9_x, data_10_x), axis=0)"
      ],
      "execution_count": null,
      "outputs": []
    },
    {
      "cell_type": "code",
      "metadata": {
        "colab": {
          "base_uri": "https://localhost:8080/"
        },
        "id": "HnQBRi3ztg9d",
        "outputId": "62d0941b-100f-492f-f873-be4e8088f684"
      },
      "source": [
        "data.shape"
      ],
      "execution_count": null,
      "outputs": [
        {
          "output_type": "execute_result",
          "data": {
            "text/plain": [
              "(18820, 32, 256)"
            ]
          },
          "metadata": {
            "tags": []
          },
          "execution_count": 41
        }
      ]
    },
    {
      "cell_type": "code",
      "metadata": {
        "id": "6BDKayi7vPLm"
      },
      "source": [
        "labels = np.concatenate((data_1_label, data_2_label, data_3_label, data_4_label, data_5_label, data_6_label, data_7_label, data_8_label, data_9_label, data_10_label), axis=0)"
      ],
      "execution_count": null,
      "outputs": []
    },
    {
      "cell_type": "code",
      "metadata": {
        "id": "gokuA2PDtlMB"
      },
      "source": [
        "from numpy import save\r\n",
        "from numpy import load"
      ],
      "execution_count": null,
      "outputs": []
    },
    {
      "cell_type": "code",
      "metadata": {
        "colab": {
          "base_uri": "https://localhost:8080/"
        },
        "id": "IJU8RdZSvVFk",
        "outputId": "41ad0a96-84cc-4e7c-ae5b-49cd8c8fbebf"
      },
      "source": [
        "labels.shape"
      ],
      "execution_count": null,
      "outputs": [
        {
          "output_type": "execute_result",
          "data": {
            "text/plain": [
              "(18820,)"
            ]
          },
          "metadata": {
            "tags": []
          },
          "execution_count": 48
        }
      ]
    },
    {
      "cell_type": "code",
      "metadata": {
        "id": "xPRW2DYgtopc"
      },
      "source": [
        "save('drive/MyDrive/Colab_Notebooks/Handwriting_Classification/data.npy', data)\r\n",
        "#data = load('data.npy')"
      ],
      "execution_count": null,
      "outputs": []
    },
    {
      "cell_type": "code",
      "metadata": {
        "id": "kvmvQhm3vaPo"
      },
      "source": [
        "save('drive/MyDrive/Colab_Notebooks/Handwriting_Classification/labels.npy', labels)\r\n",
        "#data = load('la.npy')"
      ],
      "execution_count": null,
      "outputs": []
    },
    {
      "cell_type": "code",
      "metadata": {
        "id": "bGdYN5XtuDjO"
      },
      "source": [
        "#Machine Learning"
      ],
      "execution_count": null,
      "outputs": []
    },
    {
      "cell_type": "code",
      "metadata": {
        "id": "NuD5JGRBudLC"
      },
      "source": [
        "import tensorflow as tf\r\n",
        "from keras.models import Sequential\r\n",
        "from keras.layers import Dense\r\n",
        "from keras.layers import BatchNormalization\r\n",
        "from keras.layers import Conv2D\r\n",
        "from keras.layers import Activation\r\n",
        "from keras.layers import Flatten\r\n",
        "from keras.layers import Dropout\r\n",
        "from keras.layers import Input\r\n",
        "from keras.layers import MaxPooling2D\r\n",
        "from keras.models import Model\r\n",
        "from keras.optimizers import RMSprop\r\n",
        "from sklearn.metrics import classification_report, confusion_matrix"
      ],
      "execution_count": null,
      "outputs": []
    },
    {
      "cell_type": "code",
      "metadata": {
        "id": "_a00o8Ipwjem"
      },
      "source": [
        "from sklearn.model_selection import train_test_split"
      ],
      "execution_count": null,
      "outputs": []
    },
    {
      "cell_type": "code",
      "metadata": {
        "colab": {
          "base_uri": "https://localhost:8080/"
        },
        "id": "dtk2DTdWv_5J",
        "outputId": "85c0bb97-fb11-432a-d2e9-0c12935d118d"
      },
      "source": [
        "X = data\r\n",
        "X.shape"
      ],
      "execution_count": null,
      "outputs": [
        {
          "output_type": "execute_result",
          "data": {
            "text/plain": [
              "(18820, 32, 256)"
            ]
          },
          "metadata": {
            "tags": []
          },
          "execution_count": 56
        }
      ]
    },
    {
      "cell_type": "code",
      "metadata": {
        "colab": {
          "base_uri": "https://localhost:8080/"
        },
        "id": "Hlfflpg1wEDx",
        "outputId": "19cd2b7d-3165-4826-bfcc-b132fe69bd51"
      },
      "source": [
        "X = X.reshape((-1,32,256,1))\r\n",
        "X.shape"
      ],
      "execution_count": null,
      "outputs": [
        {
          "output_type": "execute_result",
          "data": {
            "text/plain": [
              "(18820, 32, 256, 1)"
            ]
          },
          "metadata": {
            "tags": []
          },
          "execution_count": 57
        }
      ]
    },
    {
      "cell_type": "code",
      "metadata": {
        "colab": {
          "base_uri": "https://localhost:8080/"
        },
        "id": "X1_dPPXkud5f",
        "outputId": "c31106d0-81f7-483d-cf1f-04981c6d2a09"
      },
      "source": [
        "y = []\r\n",
        "for i in labels:\r\n",
        "    if i == 1:\r\n",
        "        ts = [1.0, 0.0, 0.0, 0.0, 0.0, 0.0, 0.0, 0.0, 0.0, 0.0]\r\n",
        "    elif i ==2:\r\n",
        "        ts = [0.0, 1.0, 0.0, 0.0, 0.0, 0.0, 0.0, 0.0, 0.0, 0.0]\r\n",
        "    elif i ==3:\r\n",
        "        ts = [0.0, 0.0, 1.0, 0.0, 0.0, 0.0, 0.0, 0.0, 0.0, 0.0]\r\n",
        "    elif i ==4:\r\n",
        "        ts = [0.0, 0.0, 0.0, 1.0, 0.0, 0.0, 0.0, 0.0, 0.0, 0.0]\r\n",
        "    elif i ==5:\r\n",
        "        ts = [0.0, 0.0, 0.0, 0.0, 1.0, 0.0, 0.0, 0.0, 0.0, 0.0]\r\n",
        "    elif i ==6:\r\n",
        "        ts = [0.0, 0.0, 0.0, 0.0, 0.0, 1.0, 0.0, 0.0, 0.0, 0.0]\r\n",
        "    elif i ==7:\r\n",
        "        ts = [0.0, 0.0, 0.0, 0.0, 0.0, 0.0, 1.0, 0.0, 0.0, 0.0]\r\n",
        "    elif i ==8:\r\n",
        "        ts = [0.0, 0.0, 0.0, 0.0, 0.0, 0.0, 0.0, 1.0, 0.0, 0.0]\r\n",
        "    elif i ==9:\r\n",
        "        ts = [0.0, 0.0, 0.0, 0.0, 0.0, 0.0, 0.0, 0.0, 1.0, 0.0]\r\n",
        "    elif i ==10:\r\n",
        "        ts = [0.0, 0.0, 0.0, 0.0, 0.0, 0.0, 0.0, 0.0, 0.0, 1.0]\r\n",
        "    y.append(ts)\r\n",
        "y = np.asarray(y, dtype=np.float32)\r\n",
        "y"
      ],
      "execution_count": null,
      "outputs": [
        {
          "output_type": "execute_result",
          "data": {
            "text/plain": [
              "array([[1., 0., 0., ..., 0., 0., 0.],\n",
              "       [1., 0., 0., ..., 0., 0., 0.],\n",
              "       [1., 0., 0., ..., 0., 0., 0.],\n",
              "       ...,\n",
              "       [0., 0., 0., ..., 0., 0., 1.],\n",
              "       [0., 0., 0., ..., 0., 0., 1.],\n",
              "       [0., 0., 0., ..., 0., 0., 1.]], dtype=float32)"
            ]
          },
          "metadata": {
            "tags": []
          },
          "execution_count": 58
        }
      ]
    },
    {
      "cell_type": "code",
      "metadata": {
        "id": "6uDvSzASvxMf"
      },
      "source": [
        "X_train, X_test, y_train, y_test = train_test_split(X, y, test_size=0.1, random_state=101)"
      ],
      "execution_count": null,
      "outputs": []
    },
    {
      "cell_type": "code",
      "metadata": {
        "colab": {
          "base_uri": "https://localhost:8080/"
        },
        "id": "OrVWL8uJv1Ht",
        "outputId": "94ad77f3-817b-43d0-c298-d0dfbb94b8f8"
      },
      "source": [
        "print(X_train.shape)\r\n",
        "print(X_test.shape)"
      ],
      "execution_count": null,
      "outputs": [
        {
          "output_type": "stream",
          "text": [
            "(16938, 32, 256, 1)\n",
            "(1882, 32, 256, 1)\n"
          ],
          "name": "stdout"
        }
      ]
    },
    {
      "cell_type": "code",
      "metadata": {
        "colab": {
          "base_uri": "https://localhost:8080/"
        },
        "id": "Y7ivNIG2v-Im",
        "outputId": "bd0dc7e6-f688-47c0-ecb1-5eb849adcfac"
      },
      "source": [
        "print(y_train.shape)\r\n",
        "print(y_test.shape)"
      ],
      "execution_count": null,
      "outputs": [
        {
          "output_type": "stream",
          "text": [
            "(16938, 10)\n",
            "(1882, 10)\n"
          ],
          "name": "stdout"
        }
      ]
    },
    {
      "cell_type": "markdown",
      "metadata": {
        "id": "ZKAz8Xh6x_vf"
      },
      "source": [
        "DNN"
      ]
    },
    {
      "cell_type": "code",
      "metadata": {
        "id": "3XAL7XyswzqS"
      },
      "source": [
        "# Initialize the constructor\r\n",
        "model = Sequential()\r\n",
        "\r\n",
        "# Add an input layer\r\n",
        "\r\n",
        "model.add(Dense(12, activation='relu', input_shape = (32, 256, 1)))\r\n",
        "\r\n",
        "# Add one hidden layer \r\n",
        "model.add(Dense(8, activation='relu'))\r\n",
        "model.add(Flatten())\r\n",
        "\r\n",
        "# Add an output layer \r\n",
        "model.add(Dense(10, activation='softmax'))"
      ],
      "execution_count": null,
      "outputs": []
    },
    {
      "cell_type": "code",
      "metadata": {
        "colab": {
          "base_uri": "https://localhost:8080/"
        },
        "id": "N-oO_JB_w2nQ",
        "outputId": "feed486c-3d33-4972-f520-1a4188911aa4"
      },
      "source": [
        "model.summary()"
      ],
      "execution_count": null,
      "outputs": [
        {
          "output_type": "stream",
          "text": [
            "Model: \"sequential_1\"\n",
            "_________________________________________________________________\n",
            "Layer (type)                 Output Shape              Param #   \n",
            "=================================================================\n",
            "dense_3 (Dense)              (None, 32, 256, 12)       24        \n",
            "_________________________________________________________________\n",
            "dense_4 (Dense)              (None, 32, 256, 8)        104       \n",
            "_________________________________________________________________\n",
            "flatten_1 (Flatten)          (None, 65536)             0         \n",
            "_________________________________________________________________\n",
            "dense_5 (Dense)              (None, 10)                655370    \n",
            "=================================================================\n",
            "Total params: 655,498\n",
            "Trainable params: 655,498\n",
            "Non-trainable params: 0\n",
            "_________________________________________________________________\n"
          ],
          "name": "stdout"
        }
      ]
    },
    {
      "cell_type": "code",
      "metadata": {
        "colab": {
          "base_uri": "https://localhost:8080/"
        },
        "id": "Uw6zyDZ1w6xt",
        "outputId": "eb4e3b89-df9a-4b6f-eecc-aab0ff49da1e"
      },
      "source": [
        "model.compile(loss='binary_crossentropy', optimizer='adam', metrics=['accuracy'])\r\n",
        "                   \r\n",
        "model.fit(X_train, y_train, epochs=100, batch_size=100, verbose=1)"
      ],
      "execution_count": null,
      "outputs": [
        {
          "output_type": "stream",
          "text": [
            "Epoch 1/100\n",
            "170/170 [==============================] - 4s 12ms/step - loss: 0.3888 - accuracy: 0.1539\n",
            "Epoch 2/100\n",
            "170/170 [==============================] - 2s 12ms/step - loss: 0.2677 - accuracy: 0.3947\n",
            "Epoch 3/100\n",
            "170/170 [==============================] - 2s 11ms/step - loss: 0.2463 - accuracy: 0.4596\n",
            "Epoch 4/100\n",
            "170/170 [==============================] - 2s 11ms/step - loss: 0.2316 - accuracy: 0.5096\n",
            "Epoch 5/100\n",
            "170/170 [==============================] - 2s 11ms/step - loss: 0.2193 - accuracy: 0.5559\n",
            "Epoch 6/100\n",
            "170/170 [==============================] - 2s 12ms/step - loss: 0.2088 - accuracy: 0.5804\n",
            "Epoch 7/100\n",
            "170/170 [==============================] - 2s 12ms/step - loss: 0.2024 - accuracy: 0.6027\n",
            "Epoch 8/100\n",
            "170/170 [==============================] - 2s 11ms/step - loss: 0.1961 - accuracy: 0.6219\n",
            "Epoch 9/100\n",
            "170/170 [==============================] - 2s 11ms/step - loss: 0.1894 - accuracy: 0.6302\n",
            "Epoch 10/100\n",
            "170/170 [==============================] - 2s 11ms/step - loss: 0.1849 - accuracy: 0.6491\n",
            "Epoch 11/100\n",
            "170/170 [==============================] - 2s 11ms/step - loss: 0.1876 - accuracy: 0.6469\n",
            "Epoch 12/100\n",
            "170/170 [==============================] - 2s 12ms/step - loss: 0.1750 - accuracy: 0.6745\n",
            "Epoch 13/100\n",
            "170/170 [==============================] - 2s 11ms/step - loss: 0.1709 - accuracy: 0.6806\n",
            "Epoch 14/100\n",
            "170/170 [==============================] - 2s 12ms/step - loss: 0.1777 - accuracy: 0.6798\n",
            "Epoch 15/100\n",
            "170/170 [==============================] - 2s 12ms/step - loss: 0.1615 - accuracy: 0.7096\n",
            "Epoch 16/100\n",
            "170/170 [==============================] - 2s 12ms/step - loss: 0.1597 - accuracy: 0.7071\n",
            "Epoch 17/100\n",
            "170/170 [==============================] - 2s 11ms/step - loss: 0.1576 - accuracy: 0.7148\n",
            "Epoch 18/100\n",
            "170/170 [==============================] - 2s 11ms/step - loss: 0.1510 - accuracy: 0.7308\n",
            "Epoch 19/100\n",
            "170/170 [==============================] - 2s 11ms/step - loss: 0.1469 - accuracy: 0.7420\n",
            "Epoch 20/100\n",
            "170/170 [==============================] - 2s 12ms/step - loss: 0.1477 - accuracy: 0.7414\n",
            "Epoch 21/100\n",
            "170/170 [==============================] - 2s 11ms/step - loss: 0.1428 - accuracy: 0.7527\n",
            "Epoch 22/100\n",
            "170/170 [==============================] - 2s 11ms/step - loss: 0.1397 - accuracy: 0.7582\n",
            "Epoch 23/100\n",
            "170/170 [==============================] - 2s 11ms/step - loss: 0.1371 - accuracy: 0.7612\n",
            "Epoch 24/100\n",
            "170/170 [==============================] - 2s 11ms/step - loss: 0.1332 - accuracy: 0.7760\n",
            "Epoch 25/100\n",
            "170/170 [==============================] - 2s 11ms/step - loss: 0.1312 - accuracy: 0.7793\n",
            "Epoch 26/100\n",
            "170/170 [==============================] - 2s 12ms/step - loss: 0.1294 - accuracy: 0.7768\n",
            "Epoch 27/100\n",
            "170/170 [==============================] - 2s 11ms/step - loss: 0.1256 - accuracy: 0.7870\n",
            "Epoch 28/100\n",
            "170/170 [==============================] - 2s 11ms/step - loss: 0.1246 - accuracy: 0.7901\n",
            "Epoch 29/100\n",
            "170/170 [==============================] - 2s 12ms/step - loss: 0.1220 - accuracy: 0.7920\n",
            "Epoch 30/100\n",
            "170/170 [==============================] - 2s 11ms/step - loss: 0.1193 - accuracy: 0.7968\n",
            "Epoch 31/100\n",
            "170/170 [==============================] - 2s 11ms/step - loss: 0.1156 - accuracy: 0.8045\n",
            "Epoch 32/100\n",
            "170/170 [==============================] - 2s 12ms/step - loss: 0.1155 - accuracy: 0.8072\n",
            "Epoch 33/100\n",
            "170/170 [==============================] - 2s 12ms/step - loss: 0.1119 - accuracy: 0.8123\n",
            "Epoch 34/100\n",
            "170/170 [==============================] - 2s 11ms/step - loss: 0.1095 - accuracy: 0.8146\n",
            "Epoch 35/100\n",
            "170/170 [==============================] - 2s 12ms/step - loss: 0.1063 - accuracy: 0.8222\n",
            "Epoch 36/100\n",
            "170/170 [==============================] - 2s 12ms/step - loss: 0.1060 - accuracy: 0.8225\n",
            "Epoch 37/100\n",
            "170/170 [==============================] - 2s 11ms/step - loss: 0.1046 - accuracy: 0.8269\n",
            "Epoch 38/100\n",
            "170/170 [==============================] - 2s 11ms/step - loss: 0.1029 - accuracy: 0.8282\n",
            "Epoch 39/100\n",
            "170/170 [==============================] - 2s 12ms/step - loss: 0.0978 - accuracy: 0.8390\n",
            "Epoch 40/100\n",
            "170/170 [==============================] - 2s 12ms/step - loss: 0.0965 - accuracy: 0.8439\n",
            "Epoch 41/100\n",
            "170/170 [==============================] - 2s 12ms/step - loss: 0.0961 - accuracy: 0.8418\n",
            "Epoch 42/100\n",
            "170/170 [==============================] - 2s 12ms/step - loss: 0.0942 - accuracy: 0.8480\n",
            "Epoch 43/100\n",
            "170/170 [==============================] - 2s 11ms/step - loss: 0.0918 - accuracy: 0.8474\n",
            "Epoch 44/100\n",
            "170/170 [==============================] - 2s 11ms/step - loss: 0.0909 - accuracy: 0.8484\n",
            "Epoch 45/100\n",
            "170/170 [==============================] - 2s 11ms/step - loss: 0.0888 - accuracy: 0.8551\n",
            "Epoch 46/100\n",
            "170/170 [==============================] - 2s 12ms/step - loss: 0.0851 - accuracy: 0.8626\n",
            "Epoch 47/100\n",
            "170/170 [==============================] - 2s 12ms/step - loss: 0.0841 - accuracy: 0.8652\n",
            "Epoch 48/100\n",
            "170/170 [==============================] - 2s 12ms/step - loss: 0.0824 - accuracy: 0.8719\n",
            "Epoch 49/100\n",
            "170/170 [==============================] - 2s 12ms/step - loss: 0.0831 - accuracy: 0.8653\n",
            "Epoch 50/100\n",
            "170/170 [==============================] - 2s 12ms/step - loss: 0.0796 - accuracy: 0.8730\n",
            "Epoch 51/100\n",
            "170/170 [==============================] - 2s 11ms/step - loss: 0.0782 - accuracy: 0.8789\n",
            "Epoch 52/100\n",
            "170/170 [==============================] - 2s 12ms/step - loss: 0.0771 - accuracy: 0.8740\n",
            "Epoch 53/100\n",
            "170/170 [==============================] - 2s 11ms/step - loss: 0.0761 - accuracy: 0.8788\n",
            "Epoch 54/100\n",
            "170/170 [==============================] - 2s 12ms/step - loss: 0.0726 - accuracy: 0.8819\n",
            "Epoch 55/100\n",
            "170/170 [==============================] - 2s 11ms/step - loss: 0.0719 - accuracy: 0.8890\n",
            "Epoch 56/100\n",
            "170/170 [==============================] - 2s 11ms/step - loss: 0.0719 - accuracy: 0.8866\n",
            "Epoch 57/100\n",
            "170/170 [==============================] - 2s 11ms/step - loss: 0.0693 - accuracy: 0.8918\n",
            "Epoch 58/100\n",
            "170/170 [==============================] - 2s 12ms/step - loss: 0.0672 - accuracy: 0.8942\n",
            "Epoch 59/100\n",
            "170/170 [==============================] - 2s 11ms/step - loss: 0.0666 - accuracy: 0.8938\n",
            "Epoch 60/100\n",
            "170/170 [==============================] - 2s 12ms/step - loss: 0.0660 - accuracy: 0.8965\n",
            "Epoch 61/100\n",
            "170/170 [==============================] - 2s 11ms/step - loss: 0.0647 - accuracy: 0.8959\n",
            "Epoch 62/100\n",
            "170/170 [==============================] - 2s 11ms/step - loss: 0.0628 - accuracy: 0.9016\n",
            "Epoch 63/100\n",
            "170/170 [==============================] - 2s 12ms/step - loss: 0.0637 - accuracy: 0.9025\n",
            "Epoch 64/100\n",
            "170/170 [==============================] - 2s 12ms/step - loss: 0.0646 - accuracy: 0.8976\n",
            "Epoch 65/100\n",
            "170/170 [==============================] - 2s 12ms/step - loss: 0.0607 - accuracy: 0.9050\n",
            "Epoch 66/100\n",
            "170/170 [==============================] - 2s 12ms/step - loss: 0.0613 - accuracy: 0.9021\n",
            "Epoch 67/100\n",
            "170/170 [==============================] - 2s 11ms/step - loss: 0.0581 - accuracy: 0.9099\n",
            "Epoch 68/100\n",
            "170/170 [==============================] - 2s 12ms/step - loss: 0.0584 - accuracy: 0.9084\n",
            "Epoch 69/100\n",
            "170/170 [==============================] - 2s 11ms/step - loss: 0.0584 - accuracy: 0.9101\n",
            "Epoch 70/100\n",
            "170/170 [==============================] - 2s 11ms/step - loss: 0.0575 - accuracy: 0.9092\n",
            "Epoch 71/100\n",
            "170/170 [==============================] - 2s 11ms/step - loss: 0.0571 - accuracy: 0.9105\n",
            "Epoch 72/100\n",
            "170/170 [==============================] - 2s 11ms/step - loss: 0.0554 - accuracy: 0.9134\n",
            "Epoch 73/100\n",
            "170/170 [==============================] - 2s 12ms/step - loss: 0.0553 - accuracy: 0.9132\n",
            "Epoch 74/100\n",
            "170/170 [==============================] - 2s 11ms/step - loss: 0.0546 - accuracy: 0.9184\n",
            "Epoch 75/100\n",
            "170/170 [==============================] - 2s 12ms/step - loss: 0.0532 - accuracy: 0.9179\n",
            "Epoch 76/100\n",
            "170/170 [==============================] - 2s 12ms/step - loss: 0.0515 - accuracy: 0.9223\n",
            "Epoch 77/100\n",
            "170/170 [==============================] - 2s 12ms/step - loss: 0.0524 - accuracy: 0.9230\n",
            "Epoch 78/100\n",
            "170/170 [==============================] - 2s 11ms/step - loss: 0.0506 - accuracy: 0.9241\n",
            "Epoch 79/100\n",
            "170/170 [==============================] - 2s 12ms/step - loss: 0.0498 - accuracy: 0.9226\n",
            "Epoch 80/100\n",
            "170/170 [==============================] - 2s 12ms/step - loss: 0.0505 - accuracy: 0.9237\n",
            "Epoch 81/100\n",
            "170/170 [==============================] - 2s 12ms/step - loss: 0.0509 - accuracy: 0.9195\n",
            "Epoch 82/100\n",
            "170/170 [==============================] - 2s 11ms/step - loss: 0.0478 - accuracy: 0.9275\n",
            "Epoch 83/100\n",
            "170/170 [==============================] - 2s 11ms/step - loss: 0.0486 - accuracy: 0.9284\n",
            "Epoch 84/100\n",
            "170/170 [==============================] - 2s 11ms/step - loss: 0.0471 - accuracy: 0.9283\n",
            "Epoch 85/100\n",
            "170/170 [==============================] - 2s 12ms/step - loss: 0.0474 - accuracy: 0.9281\n",
            "Epoch 86/100\n",
            "170/170 [==============================] - 2s 11ms/step - loss: 0.0466 - accuracy: 0.9303\n",
            "Epoch 87/100\n",
            "170/170 [==============================] - 2s 12ms/step - loss: 0.0462 - accuracy: 0.9286\n",
            "Epoch 88/100\n",
            "170/170 [==============================] - 2s 12ms/step - loss: 0.0456 - accuracy: 0.9320\n",
            "Epoch 89/100\n",
            "170/170 [==============================] - 2s 11ms/step - loss: 0.0443 - accuracy: 0.9320\n",
            "Epoch 90/100\n",
            "170/170 [==============================] - 2s 11ms/step - loss: 0.0437 - accuracy: 0.9321\n",
            "Epoch 91/100\n",
            "170/170 [==============================] - 2s 11ms/step - loss: 0.0449 - accuracy: 0.9300\n",
            "Epoch 92/100\n",
            "170/170 [==============================] - 2s 11ms/step - loss: 0.0425 - accuracy: 0.9368\n",
            "Epoch 93/100\n",
            "170/170 [==============================] - 2s 11ms/step - loss: 0.0434 - accuracy: 0.9318\n",
            "Epoch 94/100\n",
            "170/170 [==============================] - 2s 12ms/step - loss: 0.0429 - accuracy: 0.9361\n",
            "Epoch 95/100\n",
            "170/170 [==============================] - 2s 12ms/step - loss: 0.0424 - accuracy: 0.9341\n",
            "Epoch 96/100\n",
            "170/170 [==============================] - 2s 11ms/step - loss: 0.0416 - accuracy: 0.9354\n",
            "Epoch 97/100\n",
            "170/170 [==============================] - 2s 11ms/step - loss: 0.0413 - accuracy: 0.9376\n",
            "Epoch 98/100\n",
            "170/170 [==============================] - 2s 12ms/step - loss: 0.0406 - accuracy: 0.9392\n",
            "Epoch 99/100\n",
            "170/170 [==============================] - 2s 12ms/step - loss: 0.0405 - accuracy: 0.9378\n",
            "Epoch 100/100\n",
            "170/170 [==============================] - 2s 11ms/step - loss: 0.0405 - accuracy: 0.9375\n"
          ],
          "name": "stdout"
        },
        {
          "output_type": "execute_result",
          "data": {
            "text/plain": [
              "<tensorflow.python.keras.callbacks.History at 0x7f3116f5c748>"
            ]
          },
          "metadata": {
            "tags": []
          },
          "execution_count": 68
        }
      ]
    },
    {
      "cell_type": "code",
      "metadata": {
        "id": "K4366yJyxCb7"
      },
      "source": [
        "y_pred = np.argmax(model.predict(X_test), axis=-1)"
      ],
      "execution_count": null,
      "outputs": []
    },
    {
      "cell_type": "code",
      "metadata": {
        "colab": {
          "base_uri": "https://localhost:8080/"
        },
        "id": "uqYgaIiix0Ut",
        "outputId": "d043dea2-f888-4909-e205-f3b6d9ddcd85"
      },
      "source": [
        "print(confusion_matrix(np.argmax(y_test, axis = 1), y_pred))\r\n",
        "print('\\n')\r\n",
        "print(classification_report(np.argmax(y_test, axis = 1), y_pred))"
      ],
      "execution_count": null,
      "outputs": [
        {
          "output_type": "stream",
          "text": [
            "[[ 81   9   6   1   6   6   3  11   4   0]\n",
            " [ 18 150  10   5   8   3   6  12   1   3]\n",
            " [  0   6 162  15   1   1  12   9   0   4]\n",
            " [  6   3  14 139   0   0   6   6   8   7]\n",
            " [  3   8   5   2 138  14   2   7   2   6]\n",
            " [  5  10   4   4  23  92   3   6   3   1]\n",
            " [  7   8  15  10   1   1 141  36   3   2]\n",
            " [  5   6   5   3   0   3  20 152   6   3]\n",
            " [  1   1   9   1   1   0   4   6 142  17]\n",
            " [  1   1   3  10   1   0   2   0  23 152]]\n",
            "\n",
            "\n",
            "              precision    recall  f1-score   support\n",
            "\n",
            "           0       0.64      0.64      0.64       127\n",
            "           1       0.74      0.69      0.72       216\n",
            "           2       0.70      0.77      0.73       210\n",
            "           3       0.73      0.74      0.73       189\n",
            "           4       0.77      0.74      0.75       187\n",
            "           5       0.77      0.61      0.68       151\n",
            "           6       0.71      0.63      0.67       224\n",
            "           7       0.62      0.75      0.68       203\n",
            "           8       0.74      0.78      0.76       182\n",
            "           9       0.78      0.79      0.78       193\n",
            "\n",
            "    accuracy                           0.72      1882\n",
            "   macro avg       0.72      0.71      0.71      1882\n",
            "weighted avg       0.72      0.72      0.72      1882\n",
            "\n"
          ],
          "name": "stdout"
        }
      ]
    },
    {
      "cell_type": "code",
      "metadata": {
        "id": "mVJZ4hBWx23_"
      },
      "source": [
        ""
      ],
      "execution_count": null,
      "outputs": []
    },
    {
      "cell_type": "markdown",
      "metadata": {
        "id": "UaHoirGgyM2-"
      },
      "source": [
        "DNN with RMSProp"
      ]
    },
    {
      "cell_type": "code",
      "metadata": {
        "colab": {
          "base_uri": "https://localhost:8080/"
        },
        "id": "xKNkeqh4yFUs",
        "outputId": "1eff40e9-49ce-40d1-94f6-bb6c91f90c82"
      },
      "source": [
        "rmsprop = RMSprop(lr = 0.0001, decay = 1e-6)\r\n",
        "model.compile(loss='binary_crossentropy', optimizer='rmsprop', metrics=['accuracy'])\r\n",
        "                   \r\n",
        "model.fit(X_train, y_train,epochs=100, batch_size=100, verbose=1)"
      ],
      "execution_count": null,
      "outputs": [
        {
          "output_type": "stream",
          "text": [
            "Epoch 1/100\n",
            "170/170 [==============================] - 3s 12ms/step - loss: 0.0476 - accuracy: 0.9318\n",
            "Epoch 2/100\n",
            "170/170 [==============================] - 2s 12ms/step - loss: 0.0438 - accuracy: 0.9352\n",
            "Epoch 3/100\n",
            "170/170 [==============================] - 2s 12ms/step - loss: 0.0427 - accuracy: 0.9334\n",
            "Epoch 4/100\n",
            "170/170 [==============================] - 2s 12ms/step - loss: 0.0422 - accuracy: 0.9349\n",
            "Epoch 5/100\n",
            "170/170 [==============================] - 2s 12ms/step - loss: 0.0424 - accuracy: 0.9349\n",
            "Epoch 6/100\n",
            "170/170 [==============================] - 2s 12ms/step - loss: 0.0430 - accuracy: 0.9335\n",
            "Epoch 7/100\n",
            "170/170 [==============================] - 2s 12ms/step - loss: 0.0416 - accuracy: 0.9363\n",
            "Epoch 8/100\n",
            "170/170 [==============================] - 2s 12ms/step - loss: 0.0409 - accuracy: 0.9395\n",
            "Epoch 9/100\n",
            "170/170 [==============================] - 2s 12ms/step - loss: 0.0413 - accuracy: 0.9381\n",
            "Epoch 10/100\n",
            "170/170 [==============================] - 2s 12ms/step - loss: 0.0403 - accuracy: 0.9403\n",
            "Epoch 11/100\n",
            "170/170 [==============================] - 2s 12ms/step - loss: 0.0412 - accuracy: 0.9369\n",
            "Epoch 12/100\n",
            "170/170 [==============================] - 2s 12ms/step - loss: 0.0407 - accuracy: 0.9374\n",
            "Epoch 13/100\n",
            "170/170 [==============================] - 2s 12ms/step - loss: 0.0406 - accuracy: 0.9410\n",
            "Epoch 14/100\n",
            "170/170 [==============================] - 2s 12ms/step - loss: 0.0410 - accuracy: 0.9354\n",
            "Epoch 15/100\n",
            "170/170 [==============================] - 2s 12ms/step - loss: 0.0405 - accuracy: 0.9380\n",
            "Epoch 16/100\n",
            "170/170 [==============================] - 2s 12ms/step - loss: 0.0408 - accuracy: 0.9363\n",
            "Epoch 17/100\n",
            "170/170 [==============================] - 2s 12ms/step - loss: 0.0395 - accuracy: 0.9401\n",
            "Epoch 18/100\n",
            "170/170 [==============================] - 2s 12ms/step - loss: 0.0401 - accuracy: 0.9406\n",
            "Epoch 19/100\n",
            "170/170 [==============================] - 2s 12ms/step - loss: 0.0400 - accuracy: 0.9388\n",
            "Epoch 20/100\n",
            "170/170 [==============================] - 2s 12ms/step - loss: 0.0399 - accuracy: 0.9399\n",
            "Epoch 21/100\n",
            "170/170 [==============================] - 2s 12ms/step - loss: 0.0389 - accuracy: 0.9424\n",
            "Epoch 22/100\n",
            "170/170 [==============================] - 2s 12ms/step - loss: 0.0401 - accuracy: 0.9401\n",
            "Epoch 23/100\n",
            "170/170 [==============================] - 2s 12ms/step - loss: 0.0388 - accuracy: 0.9434\n",
            "Epoch 24/100\n",
            "170/170 [==============================] - 2s 12ms/step - loss: 0.0394 - accuracy: 0.9403\n",
            "Epoch 25/100\n",
            "170/170 [==============================] - 2s 12ms/step - loss: 0.0397 - accuracy: 0.9370\n",
            "Epoch 26/100\n",
            "170/170 [==============================] - 2s 12ms/step - loss: 0.0391 - accuracy: 0.9405\n",
            "Epoch 27/100\n",
            "170/170 [==============================] - 2s 12ms/step - loss: 0.0379 - accuracy: 0.9420\n",
            "Epoch 28/100\n",
            "170/170 [==============================] - 2s 12ms/step - loss: 0.0379 - accuracy: 0.9435\n",
            "Epoch 29/100\n",
            "170/170 [==============================] - 2s 12ms/step - loss: 0.0388 - accuracy: 0.9387\n",
            "Epoch 30/100\n",
            "170/170 [==============================] - 2s 12ms/step - loss: 0.0368 - accuracy: 0.9427\n",
            "Epoch 31/100\n",
            "170/170 [==============================] - 2s 12ms/step - loss: 0.0374 - accuracy: 0.9426\n",
            "Epoch 32/100\n",
            "170/170 [==============================] - 2s 12ms/step - loss: 0.0381 - accuracy: 0.9397\n",
            "Epoch 33/100\n",
            "170/170 [==============================] - 2s 12ms/step - loss: 0.0383 - accuracy: 0.9404\n",
            "Epoch 34/100\n",
            "170/170 [==============================] - 2s 12ms/step - loss: 0.0378 - accuracy: 0.9412\n",
            "Epoch 35/100\n",
            "170/170 [==============================] - 2s 12ms/step - loss: 0.0377 - accuracy: 0.9417\n",
            "Epoch 36/100\n",
            "170/170 [==============================] - 2s 12ms/step - loss: 0.0382 - accuracy: 0.9410\n",
            "Epoch 37/100\n",
            "170/170 [==============================] - 2s 12ms/step - loss: 0.0380 - accuracy: 0.9410\n",
            "Epoch 38/100\n",
            "170/170 [==============================] - 2s 12ms/step - loss: 0.0378 - accuracy: 0.9413\n",
            "Epoch 39/100\n",
            "170/170 [==============================] - 2s 12ms/step - loss: 0.0375 - accuracy: 0.9430\n",
            "Epoch 40/100\n",
            "170/170 [==============================] - 2s 12ms/step - loss: 0.0356 - accuracy: 0.9463\n",
            "Epoch 41/100\n",
            "170/170 [==============================] - 2s 12ms/step - loss: 0.0362 - accuracy: 0.9431\n",
            "Epoch 42/100\n",
            "170/170 [==============================] - 2s 12ms/step - loss: 0.0364 - accuracy: 0.9446\n",
            "Epoch 43/100\n",
            "170/170 [==============================] - 2s 12ms/step - loss: 0.0348 - accuracy: 0.9473\n",
            "Epoch 44/100\n",
            "170/170 [==============================] - 2s 12ms/step - loss: 0.0356 - accuracy: 0.9455\n",
            "Epoch 45/100\n",
            "170/170 [==============================] - 2s 12ms/step - loss: 0.0361 - accuracy: 0.9435\n",
            "Epoch 46/100\n",
            "170/170 [==============================] - 2s 12ms/step - loss: 0.0355 - accuracy: 0.9445\n",
            "Epoch 47/100\n",
            "170/170 [==============================] - 2s 12ms/step - loss: 0.0355 - accuracy: 0.9444\n",
            "Epoch 48/100\n",
            "170/170 [==============================] - 2s 12ms/step - loss: 0.0356 - accuracy: 0.9463\n",
            "Epoch 49/100\n",
            "170/170 [==============================] - 2s 12ms/step - loss: 0.0363 - accuracy: 0.9444\n",
            "Epoch 50/100\n",
            "170/170 [==============================] - 2s 12ms/step - loss: 0.0357 - accuracy: 0.9455\n",
            "Epoch 51/100\n",
            "170/170 [==============================] - 2s 12ms/step - loss: 0.0356 - accuracy: 0.9441\n",
            "Epoch 52/100\n",
            "170/170 [==============================] - 2s 12ms/step - loss: 0.0356 - accuracy: 0.9444\n",
            "Epoch 53/100\n",
            "170/170 [==============================] - 2s 12ms/step - loss: 0.0347 - accuracy: 0.9458\n",
            "Epoch 54/100\n",
            "170/170 [==============================] - 2s 12ms/step - loss: 0.0361 - accuracy: 0.9473\n",
            "Epoch 55/100\n",
            "170/170 [==============================] - 2s 12ms/step - loss: 0.0347 - accuracy: 0.9480\n",
            "Epoch 56/100\n",
            "170/170 [==============================] - 2s 12ms/step - loss: 0.0358 - accuracy: 0.9448\n",
            "Epoch 57/100\n",
            "170/170 [==============================] - 2s 12ms/step - loss: 0.0345 - accuracy: 0.9466\n",
            "Epoch 58/100\n",
            "170/170 [==============================] - 2s 12ms/step - loss: 0.0345 - accuracy: 0.9427\n",
            "Epoch 59/100\n",
            "170/170 [==============================] - 2s 12ms/step - loss: 0.0350 - accuracy: 0.9454\n",
            "Epoch 60/100\n",
            "170/170 [==============================] - 2s 12ms/step - loss: 0.0346 - accuracy: 0.9484\n",
            "Epoch 61/100\n",
            "170/170 [==============================] - 2s 12ms/step - loss: 0.0361 - accuracy: 0.9430\n",
            "Epoch 62/100\n",
            "170/170 [==============================] - 2s 12ms/step - loss: 0.0330 - accuracy: 0.9496\n",
            "Epoch 63/100\n",
            "170/170 [==============================] - 2s 12ms/step - loss: 0.0344 - accuracy: 0.9486\n",
            "Epoch 64/100\n",
            "170/170 [==============================] - 2s 12ms/step - loss: 0.0327 - accuracy: 0.9488\n",
            "Epoch 65/100\n",
            "170/170 [==============================] - 2s 12ms/step - loss: 0.0338 - accuracy: 0.9497\n",
            "Epoch 66/100\n",
            "170/170 [==============================] - 2s 12ms/step - loss: 0.0342 - accuracy: 0.9483\n",
            "Epoch 67/100\n",
            "170/170 [==============================] - 2s 12ms/step - loss: 0.0339 - accuracy: 0.9475\n",
            "Epoch 68/100\n",
            "170/170 [==============================] - 2s 12ms/step - loss: 0.0345 - accuracy: 0.9463\n",
            "Epoch 69/100\n",
            "170/170 [==============================] - 2s 12ms/step - loss: 0.0343 - accuracy: 0.9504\n",
            "Epoch 70/100\n",
            "170/170 [==============================] - 2s 12ms/step - loss: 0.0333 - accuracy: 0.9492\n",
            "Epoch 71/100\n",
            "170/170 [==============================] - 2s 12ms/step - loss: 0.0350 - accuracy: 0.9471\n",
            "Epoch 72/100\n",
            "170/170 [==============================] - 2s 12ms/step - loss: 0.0333 - accuracy: 0.9501\n",
            "Epoch 73/100\n",
            "170/170 [==============================] - 2s 12ms/step - loss: 0.0330 - accuracy: 0.9515\n",
            "Epoch 74/100\n",
            "170/170 [==============================] - 2s 12ms/step - loss: 0.0320 - accuracy: 0.9475\n",
            "Epoch 75/100\n",
            "170/170 [==============================] - 2s 12ms/step - loss: 0.0328 - accuracy: 0.9487\n",
            "Epoch 76/100\n",
            "170/170 [==============================] - 2s 12ms/step - loss: 0.0324 - accuracy: 0.9493\n",
            "Epoch 77/100\n",
            "170/170 [==============================] - 2s 12ms/step - loss: 0.0335 - accuracy: 0.9471\n",
            "Epoch 78/100\n",
            "170/170 [==============================] - 2s 12ms/step - loss: 0.0327 - accuracy: 0.9515\n",
            "Epoch 79/100\n",
            "170/170 [==============================] - 2s 12ms/step - loss: 0.0333 - accuracy: 0.9483\n",
            "Epoch 80/100\n",
            "170/170 [==============================] - 2s 12ms/step - loss: 0.0317 - accuracy: 0.9527\n",
            "Epoch 81/100\n",
            "170/170 [==============================] - 2s 12ms/step - loss: 0.0331 - accuracy: 0.9505\n",
            "Epoch 82/100\n",
            "170/170 [==============================] - 2s 12ms/step - loss: 0.0331 - accuracy: 0.9510\n",
            "Epoch 83/100\n",
            "170/170 [==============================] - 2s 12ms/step - loss: 0.0322 - accuracy: 0.9519\n",
            "Epoch 84/100\n",
            "170/170 [==============================] - 2s 12ms/step - loss: 0.0312 - accuracy: 0.9544\n",
            "Epoch 85/100\n",
            "170/170 [==============================] - 2s 12ms/step - loss: 0.0317 - accuracy: 0.9508\n",
            "Epoch 86/100\n",
            "170/170 [==============================] - 2s 12ms/step - loss: 0.0318 - accuracy: 0.9531\n",
            "Epoch 87/100\n",
            "170/170 [==============================] - 2s 12ms/step - loss: 0.0330 - accuracy: 0.9515\n",
            "Epoch 88/100\n",
            "170/170 [==============================] - 2s 12ms/step - loss: 0.0331 - accuracy: 0.9494\n",
            "Epoch 89/100\n",
            "170/170 [==============================] - 2s 12ms/step - loss: 0.0317 - accuracy: 0.9511\n",
            "Epoch 90/100\n",
            "170/170 [==============================] - 2s 12ms/step - loss: 0.0316 - accuracy: 0.9511\n",
            "Epoch 91/100\n",
            "170/170 [==============================] - 2s 12ms/step - loss: 0.0326 - accuracy: 0.9507\n",
            "Epoch 92/100\n",
            "170/170 [==============================] - 2s 12ms/step - loss: 0.0316 - accuracy: 0.9554\n",
            "Epoch 93/100\n",
            "170/170 [==============================] - 2s 12ms/step - loss: 0.0300 - accuracy: 0.9557\n",
            "Epoch 94/100\n",
            "170/170 [==============================] - 2s 12ms/step - loss: 0.0329 - accuracy: 0.9504\n",
            "Epoch 95/100\n",
            "170/170 [==============================] - 2s 12ms/step - loss: 0.0306 - accuracy: 0.9549\n",
            "Epoch 96/100\n",
            "170/170 [==============================] - 2s 12ms/step - loss: 0.0316 - accuracy: 0.9498\n",
            "Epoch 97/100\n",
            "170/170 [==============================] - 2s 12ms/step - loss: 0.0301 - accuracy: 0.9541\n",
            "Epoch 98/100\n",
            "170/170 [==============================] - 2s 12ms/step - loss: 0.0310 - accuracy: 0.9533\n",
            "Epoch 99/100\n",
            "170/170 [==============================] - 2s 12ms/step - loss: 0.0320 - accuracy: 0.9508\n",
            "Epoch 100/100\n",
            "170/170 [==============================] - 2s 12ms/step - loss: 0.0323 - accuracy: 0.9513\n"
          ],
          "name": "stdout"
        },
        {
          "output_type": "execute_result",
          "data": {
            "text/plain": [
              "<tensorflow.python.keras.callbacks.History at 0x7f308f3735f8>"
            ]
          },
          "metadata": {
            "tags": []
          },
          "execution_count": 72
        }
      ]
    },
    {
      "cell_type": "code",
      "metadata": {
        "id": "bvWj3KlZyPm7"
      },
      "source": [
        "y_pred = np.argmax(model.predict(X_test), axis=-1)"
      ],
      "execution_count": null,
      "outputs": []
    },
    {
      "cell_type": "code",
      "metadata": {
        "colab": {
          "base_uri": "https://localhost:8080/"
        },
        "id": "GO__BgpJzN7v",
        "outputId": "16f422f5-ffa4-4589-ff89-72429ee00853"
      },
      "source": [
        "print(confusion_matrix(np.argmax(y_test, axis = 1), y_pred))\r\n",
        "print('\\n')\r\n",
        "print(classification_report(np.argmax(y_test, axis = 1), y_pred))"
      ],
      "execution_count": null,
      "outputs": [
        {
          "output_type": "stream",
          "text": [
            "[[ 76   9   7   4   9   6   5   8   2   1]\n",
            " [ 12 143  12   6  11   9   9   9   2   3]\n",
            " [  0   4 159  18   2   2  10   9   0   6]\n",
            " [  4   1  17 133   1   1   6   5   8  13]\n",
            " [  1   7   5   4 140  15   2   5   1   7]\n",
            " [  4   8   6   5  22  97   2   3   2   2]\n",
            " [  6   4  15  13   2   3 144  29   5   3]\n",
            " [  3   2  10   7   2   3  20 147   5   4]\n",
            " [  0   1   7   2   1   1   1   4 141  24]\n",
            " [  0   2   4   5   1   0   1   0  19 161]]\n",
            "\n",
            "\n",
            "              precision    recall  f1-score   support\n",
            "\n",
            "           0       0.72      0.60      0.65       127\n",
            "           1       0.79      0.66      0.72       216\n",
            "           2       0.66      0.76      0.70       210\n",
            "           3       0.68      0.70      0.69       189\n",
            "           4       0.73      0.75      0.74       187\n",
            "           5       0.71      0.64      0.67       151\n",
            "           6       0.72      0.64      0.68       224\n",
            "           7       0.67      0.72      0.70       203\n",
            "           8       0.76      0.77      0.77       182\n",
            "           9       0.72      0.83      0.77       193\n",
            "\n",
            "    accuracy                           0.71      1882\n",
            "   macro avg       0.72      0.71      0.71      1882\n",
            "weighted avg       0.72      0.71      0.71      1882\n",
            "\n"
          ],
          "name": "stdout"
        }
      ]
    },
    {
      "cell_type": "code",
      "metadata": {
        "id": "As_p9uGmzOwB"
      },
      "source": [
        "model = Sequential()\r\n",
        "\r\n",
        "model.add(Conv2D(16,(5,5),padding='same',input_shape = (32, 256, 1)))\r\n",
        "model.add(Activation('relu'))\r\n",
        "model.add(MaxPooling2D(pool_size=(2,2),strides=2,padding = 'same'))\r\n",
        "#model.add(Dropout(0.4))\r\n",
        "\r\n",
        "model.add(Conv2D(32,(5,5),padding='same'))\r\n",
        "model.add(Activation('relu'))\r\n",
        "model.add(MaxPooling2D(pool_size=(2,2),strides=2,padding = 'same'))\r\n",
        "#model.add(Dropout(0.6))\r\n",
        "\r\n",
        "model.add(Conv2D(64,(5,5),padding='same'))\r\n",
        "model.add(Activation('relu'))\r\n",
        "#model.add(Dropout(0.8))\r\n",
        "\r\n",
        "model.add(Flatten())\r\n",
        "model.add(Dense(10))\r\n",
        "model.add(Activation('softmax'))"
      ],
      "execution_count": null,
      "outputs": []
    },
    {
      "cell_type": "code",
      "metadata": {
        "colab": {
          "base_uri": "https://localhost:8080/"
        },
        "id": "n7HU36n_zait",
        "outputId": "265f500f-bb1e-4616-caba-a89e591a6f0c"
      },
      "source": [
        "model.summary()"
      ],
      "execution_count": null,
      "outputs": [
        {
          "output_type": "stream",
          "text": [
            "Model: \"sequential_3\"\n",
            "_________________________________________________________________\n",
            "Layer (type)                 Output Shape              Param #   \n",
            "=================================================================\n",
            "conv2d_3 (Conv2D)            (None, 32, 256, 16)       416       \n",
            "_________________________________________________________________\n",
            "activation_4 (Activation)    (None, 32, 256, 16)       0         \n",
            "_________________________________________________________________\n",
            "max_pooling2d_2 (MaxPooling2 (None, 16, 128, 16)       0         \n",
            "_________________________________________________________________\n",
            "conv2d_4 (Conv2D)            (None, 16, 128, 32)       12832     \n",
            "_________________________________________________________________\n",
            "activation_5 (Activation)    (None, 16, 128, 32)       0         \n",
            "_________________________________________________________________\n",
            "max_pooling2d_3 (MaxPooling2 (None, 8, 64, 32)         0         \n",
            "_________________________________________________________________\n",
            "conv2d_5 (Conv2D)            (None, 8, 64, 64)         51264     \n",
            "_________________________________________________________________\n",
            "activation_6 (Activation)    (None, 8, 64, 64)         0         \n",
            "_________________________________________________________________\n",
            "flatten_3 (Flatten)          (None, 32768)             0         \n",
            "_________________________________________________________________\n",
            "dense_7 (Dense)              (None, 10)                327690    \n",
            "_________________________________________________________________\n",
            "activation_7 (Activation)    (None, 10)                0         \n",
            "=================================================================\n",
            "Total params: 392,202\n",
            "Trainable params: 392,202\n",
            "Non-trainable params: 0\n",
            "_________________________________________________________________\n"
          ],
          "name": "stdout"
        }
      ]
    },
    {
      "cell_type": "code",
      "metadata": {
        "colab": {
          "base_uri": "https://localhost:8080/",
          "height": 203
        },
        "id": "_r3mYaJGzdoy",
        "outputId": "b1b31461-bdd8-4f2e-af3e-d6895b1fdcfe"
      },
      "source": [
        "model.compile(loss='binary_crossentropy', optimizer='adam', metrics=['accuracy'])\r\n",
        "                   \r\n",
        "model.fit(X_train, y_train, epochs=300, batch_size=100, verbose=100)"
      ],
      "execution_count": null,
      "outputs": [
        {
          "output_type": "error",
          "ename": "NameError",
          "evalue": "ignored",
          "traceback": [
            "\u001b[0;31m---------------------------------------------------------------------------\u001b[0m",
            "\u001b[0;31mNameError\u001b[0m                                 Traceback (most recent call last)",
            "\u001b[0;32m<ipython-input-1-dc911808fd8b>\u001b[0m in \u001b[0;36m<module>\u001b[0;34m()\u001b[0m\n\u001b[0;32m----> 1\u001b[0;31m \u001b[0mmodel\u001b[0m\u001b[0;34m.\u001b[0m\u001b[0mcompile\u001b[0m\u001b[0;34m(\u001b[0m\u001b[0mloss\u001b[0m\u001b[0;34m=\u001b[0m\u001b[0;34m'binary_crossentropy'\u001b[0m\u001b[0;34m,\u001b[0m \u001b[0moptimizer\u001b[0m\u001b[0;34m=\u001b[0m\u001b[0;34m'adam'\u001b[0m\u001b[0;34m,\u001b[0m \u001b[0mmetrics\u001b[0m\u001b[0;34m=\u001b[0m\u001b[0;34m[\u001b[0m\u001b[0;34m'accuracy'\u001b[0m\u001b[0;34m]\u001b[0m\u001b[0;34m)\u001b[0m\u001b[0;34m\u001b[0m\u001b[0;34m\u001b[0m\u001b[0m\n\u001b[0m\u001b[1;32m      2\u001b[0m \u001b[0;34m\u001b[0m\u001b[0m\n\u001b[1;32m      3\u001b[0m \u001b[0mmodel\u001b[0m\u001b[0;34m.\u001b[0m\u001b[0mfit\u001b[0m\u001b[0;34m(\u001b[0m\u001b[0mX_train\u001b[0m\u001b[0;34m,\u001b[0m \u001b[0my_train\u001b[0m\u001b[0;34m,\u001b[0m \u001b[0mepochs\u001b[0m\u001b[0;34m=\u001b[0m\u001b[0;36m300\u001b[0m\u001b[0;34m,\u001b[0m \u001b[0mbatch_size\u001b[0m\u001b[0;34m=\u001b[0m\u001b[0;36m100\u001b[0m\u001b[0;34m,\u001b[0m \u001b[0mverbose\u001b[0m\u001b[0;34m=\u001b[0m\u001b[0;36m100\u001b[0m\u001b[0;34m)\u001b[0m\u001b[0;34m\u001b[0m\u001b[0;34m\u001b[0m\u001b[0m\n",
            "\u001b[0;31mNameError\u001b[0m: name 'model' is not defined"
          ]
        }
      ]
    },
    {
      "cell_type": "code",
      "metadata": {
        "id": "NdeLg0p7zoS_"
      },
      "source": [
        ""
      ],
      "execution_count": null,
      "outputs": []
    }
  ]
}